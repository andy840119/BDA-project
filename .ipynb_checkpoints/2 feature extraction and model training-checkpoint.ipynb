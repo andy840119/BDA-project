{
 "cells": [
  {
   "cell_type": "code",
   "execution_count": 89,
   "metadata": {
    "collapsed": true
   },
   "outputs": [],
   "source": [
    "import pandas as pd\n",
    "import numpy as np\n",
    "import matplotlib.pyplot as plt\n",
    "from scipy.sparse import csr_matrix, hstack\n",
    "from sklearn.model_selection import train_test_split\n",
    "import re\n",
    "from datetime import datetime\n",
    "from matplotlib import pyplot as plt\n",
    "from sklearn.feature_extraction.text import CountVectorizer, TfidfVectorizer\n",
    "from sklearn.linear_model import LogisticRegression\n",
    "from sklearn import linear_model\n",
    "from sklearn.neural_network import MLPClassifier\n",
    "from sklearn.svm import NuSVC\n",
    "from sklearn.ensemble import AdaBoostClassifier, GradientBoostingRegressor\n",
    "from sklearn.svm import SVC\n",
    "from sklearn.model_selection import cross_val_predict, cross_val_score\n",
    "from sklearn.metrics import confusion_matrix\n",
    "from sklearn.metrics import classification_report"
   ]
  },
  {
   "cell_type": "code",
   "execution_count": 90,
   "metadata": {
    "collapsed": true
   },
   "outputs": [],
   "source": [
    "def evaluate(model):\n",
    "    print(np.bincount(np.where((model.predict(X_test)-y_test) !=0, 0, 1))/len(y_test))"
   ]
  },
  {
   "cell_type": "code",
   "execution_count": 91,
   "metadata": {
    "collapsed": true
   },
   "outputs": [],
   "source": [
    "data = pd.read_csv('data.csv')"
   ]
  },
  {
   "cell_type": "code",
   "execution_count": 92,
   "metadata": {
    "scrolled": true
   },
   "outputs": [
    {
     "name": "stdout",
     "output_type": "stream",
     "text": [
      "(2550, 2)\n"
     ]
    },
    {
     "data": {
      "text/html": [
       "<div>\n",
       "<table border=\"1\" class=\"dataframe\">\n",
       "  <thead>\n",
       "    <tr style=\"text-align: right;\">\n",
       "      <th></th>\n",
       "      <th>name</th>\n",
       "      <th>currency</th>\n",
       "    </tr>\n",
       "  </thead>\n",
       "  <tbody>\n",
       "    <tr>\n",
       "      <th>0</th>\n",
       "      <td>cia exposed by frontline role along afghanista...</td>\n",
       "      <td>1.616810</td>\n",
       "    </tr>\n",
       "    <tr>\n",
       "      <th>1</th>\n",
       "      <td>somali charged with murder attempt on muhammad...</td>\n",
       "      <td>1.620700</td>\n",
       "    </tr>\n",
       "    <tr>\n",
       "      <th>2</th>\n",
       "      <td>ethiopia firm recycling tyres into shoes does ...</td>\n",
       "      <td>1.616800</td>\n",
       "    </tr>\n",
       "    <tr>\n",
       "      <th>3</th>\n",
       "      <td>militants behind embassy threats killed  yemen...</td>\n",
       "      <td>1.610591</td>\n",
       "    </tr>\n",
       "    <tr>\n",
       "      <th>4</th>\n",
       "      <td>more body searches  sniffer dogs and luggage i...</td>\n",
       "      <td>1.600088</td>\n",
       "    </tr>\n",
       "  </tbody>\n",
       "</table>\n",
       "</div>"
      ],
      "text/plain": [
       "                                                name  currency\n",
       "0  cia exposed by frontline role along afghanista...  1.616810\n",
       "1  somali charged with murder attempt on muhammad...  1.620700\n",
       "2  ethiopia firm recycling tyres into shoes does ...  1.616800\n",
       "3  militants behind embassy threats killed  yemen...  1.610591\n",
       "4  more body searches  sniffer dogs and luggage i...  1.600088"
      ]
     },
     "execution_count": 92,
     "metadata": {},
     "output_type": "execute_result"
    }
   ],
   "source": [
    "print(data.shape)\n",
    "data.head()"
   ]
  },
  {
   "cell_type": "code",
   "execution_count": 93,
   "metadata": {
    "collapsed": true
   },
   "outputs": [],
   "source": [
    "Y = data.as_matrix(columns=['currency']).reshape(-1)"
   ]
  },
  {
   "cell_type": "code",
   "execution_count": 94,
   "metadata": {},
   "outputs": [
    {
     "data": {
      "text/plain": [
       "array([  3.89000000e-03,  -5.00000000e-06,  -5.05450000e-03, ...,\n",
       "         5.83950000e-03,   4.65100000e-03,  -5.69000000e-04])"
      ]
     },
     "execution_count": 94,
     "metadata": {},
     "output_type": "execute_result"
    }
   ],
   "source": [
    "Y = np.gradient(Y)\n",
    "Y"
   ]
  },
  {
   "cell_type": "code",
   "execution_count": 95,
   "metadata": {
    "collapsed": true
   },
   "outputs": [],
   "source": [
    "# test = np.array([0,1,2,3,4,5,5,4])\n",
    "# np.gradient(test)"
   ]
  },
  {
   "cell_type": "code",
   "execution_count": 96,
   "metadata": {},
   "outputs": [
    {
     "data": {
      "text/plain": [
       "array([1, 0, 0, 0, 0, 0, 0, 1, 1, 1])"
      ]
     },
     "execution_count": 96,
     "metadata": {},
     "output_type": "execute_result"
    }
   ],
   "source": [
    "Y = np.where(Y > 0, 1, 0)\n",
    "Y[:10]"
   ]
  },
  {
   "cell_type": "code",
   "execution_count": 97,
   "metadata": {
    "collapsed": true
   },
   "outputs": [],
   "source": [
    "vectorizer = TfidfVectorizer(min_df=1)"
   ]
  },
  {
   "cell_type": "code",
   "execution_count": 98,
   "metadata": {
    "collapsed": true
   },
   "outputs": [],
   "source": [
    "X = vectorizer.fit_transform(data['name'].tolist())"
   ]
  },
  {
   "cell_type": "code",
   "execution_count": 99,
   "metadata": {
    "collapsed": true
   },
   "outputs": [],
   "source": [
    "# temp = [X]\n",
    "# for i in range(5):\n",
    "#     temp.append(X.power(i))\n",
    "# X = hstack(temp)"
   ]
  },
  {
   "cell_type": "code",
   "execution_count": 100,
   "metadata": {},
   "outputs": [
    {
     "data": {
      "text/plain": [
       "<2550x29958 sparse matrix of type '<class 'numpy.float64'>'\n",
       "\twith 531411 stored elements in Compressed Sparse Row format>"
      ]
     },
     "execution_count": 100,
     "metadata": {},
     "output_type": "execute_result"
    }
   ],
   "source": [
    "X"
   ]
  },
  {
   "cell_type": "code",
   "execution_count": 101,
   "metadata": {},
   "outputs": [
    {
     "name": "stdout",
     "output_type": "stream",
     "text": [
      "(2040, 29958)\n",
      "(510, 29958)\n"
     ]
    }
   ],
   "source": [
    "X_train, X_test, y_train, y_test = train_test_split(X, Y, train_size=0.8)\n",
    "print(X_train.shape)\n",
    "print(X_test.shape)"
   ]
  },
  {
   "cell_type": "code",
   "execution_count": 102,
   "metadata": {
    "collapsed": true
   },
   "outputs": [],
   "source": [
    "# model = LogisticRegression(fit_intercept=True,\n",
    "#                            class_weight = 'balanced',\n",
    "#                            n_jobs=-1,\n",
    "#                            max_iter=200, \n",
    "#                            solver='lbfgs',  \n",
    "#                            verbose=1, \n",
    "#                            tol=1e-10)\n",
    "# model.fit(X_train, y_train)\n",
    "# model.score(X_test, y_test)"
   ]
  },
  {
   "cell_type": "code",
   "execution_count": 103,
   "metadata": {},
   "outputs": [
    {
     "name": "stdout",
     "output_type": "stream",
     "text": [
      "precision: 0.510641295479\n",
      "recall: 0.958301158301\n"
     ]
    }
   ],
   "source": [
    "model = NuSVC(kernel='rbf',\n",
    "                class_weight = 'balanced',\n",
    "                degree = 7,\n",
    "                verbose=0)\n",
    "recall = cross_val_score(model, X, Y, cv=5, n_jobs = -1, pre_dispatch = '2*n_jobs', scoring='recall')\n",
    "predicted = cross_val_predict(model, X, Y, cv=5, n_jobs = -1, pre_dispatch = '2*n_jobs')\n",
    "precision = cross_val_score(model, X, Y, cv=5, n_jobs = -1, pre_dispatch = '2*n_jobs', scoring='precision')\n",
    "print('precision:',np.mean(precision))\n",
    "print('recall:', np.mean(recall))"
   ]
  },
  {
   "cell_type": "code",
   "execution_count": 104,
   "metadata": {},
   "outputs": [],
   "source": [
    "predicted = cross_val_predict(model, X, Y, cv=5, n_jobs = -1, pre_dispatch = '2*n_jobs')"
   ]
  },
  {
   "cell_type": "code",
   "execution_count": 105,
   "metadata": {},
   "outputs": [
    {
     "name": "stdout",
     "output_type": "stream",
     "text": [
      "[[ 76 172]\n",
      " [ 88 174]]\n",
      "             precision    recall  f1-score   support\n",
      "\n",
      "       down       0.46      0.31      0.37       248\n",
      "         up       0.50      0.66      0.57       262\n",
      "\n",
      "avg / total       0.48      0.49      0.47       510\n",
      "\n"
     ]
    }
   ],
   "source": [
    "model.fit(X_train, y_train)\n",
    "print(confusion_matrix(y_test, model.predict(X_test), labels=[0,1]))\n",
    "target_names = ['down','up']\n",
    "print(classification_report(y_test, model.predict(X_test), target_names=target_names))"
   ]
  },
  {
   "cell_type": "code",
   "execution_count": 106,
   "metadata": {
    "collapsed": true
   },
   "outputs": [],
   "source": [
    "# def benchmark(clf_class, params, name):\n",
    "#     print(\"parameters:\", params)\n",
    "#     t0 = time()\n",
    "#     clf = clf_class(**params).fit(X_train, y_train)\n",
    "#     print(\"done in %fs\" % (time() - t0))\n",
    "\n",
    "#     if hasattr(clf, 'coef_'):\n",
    "#         print(\"Percentage of non zeros coef: %f\"\n",
    "#               % (np.mean(clf.coef_ != 0) * 100))\n",
    "#     print(\"Predicting the outcomes of the testing set\")\n",
    "#     t0 = time()\n",
    "#     pred = clf.predict(X_test)\n",
    "#     print(\"done in %fs\" % (time() - t0))\n",
    "\n",
    "#     print(\"Classification report on test set for classifier:\")\n",
    "#     print(clf)\n",
    "#     print()\n",
    "#     print(classification_report(y_test, pred,\n",
    "#                                 target_names=news_test.target_names))\n",
    "\n",
    "#     cm = confusion_matrix(y_test, pred)\n",
    "#     print(\"Confusion matrix:\")\n",
    "#     print(cm)\n",
    "\n",
    "#     # Show confusion matrix\n",
    "#     plt.matshow(cm)\n",
    "#     plt.title('Confusion matrix of the %s classifier' % name)\n",
    "#     plt.colorbar()\n",
    "\n",
    "\n",
    "# print(\"Testbenching a linear classifier...\")\n",
    "# parameters = {\n",
    "#     'loss': 'hinge',\n",
    "#     'penalty': 'l2',\n",
    "#     'n_iter': 50,\n",
    "#     'alpha': 0.00001,\n",
    "#     'fit_intercept': True,\n",
    "# }\n",
    "\n",
    "# benchmark(SGDClassifier, parameters, 'SGD')\n",
    "\n",
    "# print(\"Testbenching a MultinomialNB classifier...\")\n",
    "# parameters = {'alpha': 0.01}\n",
    "\n",
    "# benchmark(MultinomialNB, parameters, 'MultinomialNB')\n",
    "\n",
    "# plt.show()"
   ]
  }
 ],
 "metadata": {
  "kernelspec": {
   "display_name": "Python 3",
   "language": "python",
   "name": "python3"
  },
  "language_info": {
   "codemirror_mode": {
    "name": "ipython",
    "version": 3
   },
   "file_extension": ".py",
   "mimetype": "text/x-python",
   "name": "python",
   "nbconvert_exporter": "python",
   "pygments_lexer": "ipython3",
   "version": "3.6.0"
  }
 },
 "nbformat": 4,
 "nbformat_minor": 2
}
