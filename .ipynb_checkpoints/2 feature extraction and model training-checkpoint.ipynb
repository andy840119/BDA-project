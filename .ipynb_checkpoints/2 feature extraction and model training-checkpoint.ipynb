{
 "cells": [
  {
   "cell_type": "code",
   "execution_count": null,
   "metadata": {
    "collapsed": true
   },
   "outputs": [],
   "source": [
    "import re\n",
    "import pandas as pd\n",
    "import numpy as np\n",
    "from scipy.ndimage.interpolation import shift\n",
    "import matplotlib.pyplot as plt\n",
    "from scipy.sparse import csr_matrix, hstack\n",
    "from sklearn.model_selection import train_test_split\n",
    "from datetime import datetime\n",
    "from matplotlib import pyplot as plt\n",
    "from sklearn.feature_extraction.text import CountVectorizer, TfidfVectorizer\n",
    "from sklearn.linear_model import LogisticRegression\n",
    "from sklearn import linear_model\n",
    "from sklearn.neural_network import MLPClassifier\n",
    "from sklearn.svm import NuSVC, SVC\n",
    "from sklearn.ensemble import AdaBoostClassifier, GradientBoostingRegressor\n",
    "from sklearn.model_selection import cross_val_predict, cross_val_score\n",
    "from sklearn.metrics import confusion_matrix, classification_report\n",
    "from sklearn import preprocessing"
   ]
  },
  {
   "cell_type": "code",
   "execution_count": null,
   "metadata": {
    "collapsed": true
   },
   "outputs": [],
   "source": [
    "data = pd.read_csv('data.csv')\n",
    "print(data.shape)"
   ]
  },
  {
   "cell_type": "code",
   "execution_count": null,
   "metadata": {
    "collapsed": true
   },
   "outputs": [],
   "source": [
    "Y = data.as_matrix(columns=['currency']).reshape(-1)\n",
    "Y = np.gradient(Y)"
   ]
  },
  {
   "cell_type": "code",
   "execution_count": null,
   "metadata": {
    "collapsed": true
   },
   "outputs": [],
   "source": [
    "offset = 1e-3\n",
    "Y[np.where(Y >= offset)] = 2\n",
    "Y[np.where((Y > -offset) & (Y < offset))] = 1\n",
    "Y[np.where(Y <= -offset)] = 0\n",
    "Y = shift(Y, -1, cval=1)\n",
    "Y = Y.astype('int64')\n",
    "f = np.bincount(Y)\n",
    "print(f)\n",
    "print(1-((f[0]+f[2])/np.sum(f)))"
   ]
  },
  {
   "cell_type": "code",
   "execution_count": null,
   "metadata": {
    "collapsed": true
   },
   "outputs": [],
   "source": [
    "Y"
   ]
  },
  {
   "cell_type": "code",
   "execution_count": null,
   "metadata": {
    "collapsed": true
   },
   "outputs": [],
   "source": [
    "# Y = np.where(Y > 0, 1, 0)\n",
    "# Y[:10]"
   ]
  },
  {
   "cell_type": "code",
   "execution_count": null,
   "metadata": {
    "collapsed": true
   },
   "outputs": [],
   "source": [
    "vectorizer = TfidfVectorizer()"
   ]
  },
  {
   "cell_type": "code",
   "execution_count": null,
   "metadata": {
    "collapsed": true
   },
   "outputs": [],
   "source": [
    "X = vectorizer.fit_transform(data['name'].tolist())"
   ]
  },
  {
   "cell_type": "code",
   "execution_count": null,
   "metadata": {
    "collapsed": true
   },
   "outputs": [],
   "source": [
    "# temp = [X]\n",
    "# for i in range(5):\n",
    "#     temp.append(X.power(i))\n",
    "# X = hstack(temp)"
   ]
  },
  {
   "cell_type": "code",
   "execution_count": null,
   "metadata": {
    "collapsed": true
   },
   "outputs": [],
   "source": [
    "X"
   ]
  },
  {
   "cell_type": "code",
   "execution_count": null,
   "metadata": {
    "collapsed": true
   },
   "outputs": [],
   "source": [
    "X_train, X_test, y_train, y_test = train_test_split(X, Y, train_size=0.8)\n",
    "print(X_train.shape)\n",
    "print(X_test.shape)"
   ]
  },
  {
   "cell_type": "code",
   "execution_count": null,
   "metadata": {
    "collapsed": true
   },
   "outputs": [],
   "source": [
    "# model = LogisticRegression(fit_intercept=True,\n",
    "#                            class_weight = 'balanced',\n",
    "#                            n_jobs=-1,\n",
    "#                            max_iter=200, \n",
    "#                            solver='lbfgs',  \n",
    "#                            verbose=1, \n",
    "#                            tol=1e-10)\n",
    "# model.fit(X_train, y_train)\n",
    "# model.score(X_test, y_test)"
   ]
  },
  {
   "cell_type": "code",
   "execution_count": null,
   "metadata": {
    "collapsed": true
   },
   "outputs": [],
   "source": [
    "model = NuSVC(kernel='rbf',\n",
    "              nu=0.01,\n",
    "              class_weight = 'balanced',\n",
    "              degree = 5,\n",
    "              verbose=0)\n",
    "recall = cross_val_score(model, X, Y, cv=5, n_jobs = -1, scoring='recall')\n",
    "#precision = cross_val_score(model, X, Y, cv=5, n_jobs = -1, scoring='precision')\n",
    "#print('precision:',np.mean(precision))\n",
    "#print('recall:', np.mean(recall))"
   ]
  },
  {
   "cell_type": "code",
   "execution_count": null,
   "metadata": {
    "collapsed": true
   },
   "outputs": [],
   "source": [
    "#predicted = cross_val_predict(model, X, Y, cv=5, n_jobs = -1, pre_dispatch = '2*n_jobs')"
   ]
  },
  {
   "cell_type": "code",
   "execution_count": null,
   "metadata": {
    "collapsed": true,
    "scrolled": true
   },
   "outputs": [],
   "source": [
    "model.fit(X_train, y_train)\n",
    "print(confusion_matrix(y_test, model.predict(X_test), labels=[0,1,2]))\n",
    "target_names = ['down','non','up']\n",
    "print(classification_report(y_test, model.predict(X_test), target_names=target_names))"
   ]
  },
  {
   "cell_type": "code",
   "execution_count": null,
   "metadata": {
    "collapsed": true
   },
   "outputs": [],
   "source": [
    "print(np.bincount(np.where((cross_val_predict(model, X, Y, cv=5,n_jobs=-1)-Y) !=0, 0, 1))/len(Y))"
   ]
  },
  {
   "cell_type": "code",
   "execution_count": null,
   "metadata": {
    "collapsed": true
   },
   "outputs": [],
   "source": [
    "# def benchmark(clf_class, params, name):\n",
    "#     print(\"parameters:\", params)\n",
    "#     t0 = time()\n",
    "#     clf = clf_class(**params).fit(X_train, y_train)\n",
    "#     print(\"done in %fs\" % (time() - t0))\n",
    "\n",
    "#     if hasattr(clf, 'coef_'):\n",
    "#         print(\"Percentage of non zeros coef: %f\"\n",
    "#               % (np.mean(clf.coef_ != 0) * 100))\n",
    "#     print(\"Predicting the outcomes of the testing set\")\n",
    "#     t0 = time()\n",
    "#     pred = clf.predict(X_test)\n",
    "#     print(\"done in %fs\" % (time() - t0))\n",
    "\n",
    "#     print(\"Classification report on test set for classifier:\")\n",
    "#     print(clf)\n",
    "#     print()\n",
    "#     print(classification_report(y_test, pred,\n",
    "#                                 target_names=news_test.target_names))\n",
    "\n",
    "#     cm = confusion_matrix(y_test, pred)\n",
    "#     print(\"Confusion matrix:\")\n",
    "#     print(cm)\n",
    "\n",
    "#     # Show confusion matrix\n",
    "#     plt.matshow(cm)\n",
    "#     plt.title('Confusion matrix of the %s classifier' % name)\n",
    "#     plt.colorbar()\n",
    "\n",
    "\n",
    "# print(\"Testbenching a linear classifier...\")\n",
    "# parameters = {\n",
    "#     'loss': 'hinge',\n",
    "#     'penalty': 'l2',\n",
    "#     'n_iter': 50,\n",
    "#     'alpha': 0.00001,\n",
    "#     'fit_intercept': True,\n",
    "# }\n",
    "\n",
    "# benchmark(SGDClassifier, parameters, 'SGD')\n",
    "\n",
    "# print(\"Testbenching a MultinomialNB classifier...\")\n",
    "# parameters = {'alpha': 0.01}\n",
    "\n",
    "# benchmark(MultinomialNB, parameters, 'MultinomialNB')\n",
    "\n",
    "# plt.show()"
   ]
  }
 ],
 "metadata": {
  "kernelspec": {
   "display_name": "Python 3",
   "language": "python",
   "name": "python3"
  },
  "language_info": {
   "codemirror_mode": {
    "name": "ipython",
    "version": 3
   },
   "file_extension": ".py",
   "mimetype": "text/x-python",
   "name": "python",
   "nbconvert_exporter": "python",
   "pygments_lexer": "ipython3",
   "version": "3.6.0"
  }
 },
 "nbformat": 4,
 "nbformat_minor": 2
}
