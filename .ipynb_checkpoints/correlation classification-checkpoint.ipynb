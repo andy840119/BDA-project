{
 "cells": [
  {
   "cell_type": "code",
   "execution_count": 1,
   "metadata": {},
   "outputs": [
    {
     "name": "stderr",
     "output_type": "stream",
     "text": [
      "Using TensorFlow backend.\n"
     ]
    }
   ],
   "source": [
    "import re, time\n",
    "import pandas as pd\n",
    "import numpy as np\n",
    "from scipy.ndimage.interpolation import shift\n",
    "import matplotlib.pyplot as plt\n",
    "from scipy.sparse import csr_matrix, hstack\n",
    "from sklearn.model_selection import train_test_split\n",
    "from datetime import datetime\n",
    "from matplotlib import pyplot as plt\n",
    "from sklearn.feature_extraction.text import CountVectorizer, TfidfVectorizer\n",
    "from sklearn.linear_model import LogisticRegression\n",
    "from sklearn import linear_model\n",
    "from sklearn.neural_network import MLPClassifier\n",
    "from sklearn.svm import NuSVC, SVC\n",
    "from sklearn.ensemble import AdaBoostClassifier, GradientBoostingRegressor\n",
    "from sklearn.model_selection import cross_val_predict, cross_val_score, StratifiedKFold\n",
    "from sklearn.metrics import confusion_matrix, classification_report, mean_squared_error\n",
    "from sklearn import preprocessing\n",
    "from keras.models import Sequential\n",
    "from keras import optimizers\n",
    "from keras.layers import Dense, Activation, Dropout\n",
    "from keras.layers import Conv1D, GlobalAveragePooling1D, MaxPooling1D\n",
    "from keras.utils import np_utils"
   ]
  },
  {
   "cell_type": "code",
   "execution_count": 2,
   "metadata": {},
   "outputs": [
    {
     "data": {
      "text/html": [
       "<div>\n",
       "<table border=\"1\" class=\"dataframe\">\n",
       "  <thead>\n",
       "    <tr style=\"text-align: right;\">\n",
       "      <th></th>\n",
       "      <th>timestamp</th>\n",
       "      <th>title</th>\n",
       "      <th>gbp</th>\n",
       "      <th>xau</th>\n",
       "    </tr>\n",
       "  </thead>\n",
       "  <tbody>\n",
       "    <tr>\n",
       "      <th>0</th>\n",
       "      <td>1167580800</td>\n",
       "      <td>Italy puts froth back into cappuccino Patients...</td>\n",
       "      <td>1.959094</td>\n",
       "      <td>324.767450</td>\n",
       "    </tr>\n",
       "    <tr>\n",
       "      <th>1</th>\n",
       "      <td>1167667200</td>\n",
       "      <td>Pork soup handouts not racist - French judge Y...</td>\n",
       "      <td>1.973442</td>\n",
       "      <td>324.524002</td>\n",
       "    </tr>\n",
       "    <tr>\n",
       "      <th>2</th>\n",
       "      <td>1167753600</td>\n",
       "      <td>Iraqi PM rules out second term Zimbabwe poised...</td>\n",
       "      <td>1.949440</td>\n",
       "      <td>322.762609</td>\n",
       "    </tr>\n",
       "    <tr>\n",
       "      <th>3</th>\n",
       "      <td>1167840000</td>\n",
       "      <td>Senior soldier condemns state of forces housin...</td>\n",
       "      <td>1.944289</td>\n",
       "      <td>322.798264</td>\n",
       "    </tr>\n",
       "    <tr>\n",
       "      <th>4</th>\n",
       "      <td>1167926400</td>\n",
       "      <td>Three of Pinochet family cleared News in Brief...</td>\n",
       "      <td>1.929921</td>\n",
       "      <td>314.234051</td>\n",
       "    </tr>\n",
       "  </tbody>\n",
       "</table>\n",
       "</div>"
      ],
      "text/plain": [
       "    timestamp                                              title       gbp  \\\n",
       "0  1167580800  Italy puts froth back into cappuccino Patients...  1.959094   \n",
       "1  1167667200  Pork soup handouts not racist - French judge Y...  1.973442   \n",
       "2  1167753600  Iraqi PM rules out second term Zimbabwe poised...  1.949440   \n",
       "3  1167840000  Senior soldier condemns state of forces housin...  1.944289   \n",
       "4  1167926400  Three of Pinochet family cleared News in Brief...  1.929921   \n",
       "\n",
       "          xau  \n",
       "0  324.767450  \n",
       "1  324.524002  \n",
       "2  322.762609  \n",
       "3  322.798264  \n",
       "4  314.234051  "
      ]
     },
     "execution_count": 2,
     "metadata": {},
     "output_type": "execute_result"
    }
   ],
   "source": [
    "data = pd.read_csv('newstitle_gbp_xau.csv')\n",
    "data.head()"
   ]
  },
  {
   "cell_type": "code",
   "execution_count": 3,
   "metadata": {},
   "outputs": [
    {
     "data": {
      "text/plain": [
       "<3670x1776 sparse matrix of type '<class 'numpy.float64'>'\n",
       "\twith 40097 stored elements in Compressed Sparse Row format>"
      ]
     },
     "execution_count": 3,
     "metadata": {},
     "output_type": "execute_result"
    }
   ],
   "source": [
    "vectorizer = TfidfVectorizer(min_df=10, ngram_range=(2, 5))\n",
    "X = vectorizer.fit_transform(data['title'].tolist())\n",
    "X"
   ]
  },
  {
   "cell_type": "code",
   "execution_count": 4,
   "metadata": {
    "collapsed": true
   },
   "outputs": [],
   "source": [
    "gbp = data.as_matrix(columns=['gbp']).reshape(-1)\n",
    "xau = data.as_matrix(columns=['xau']).reshape(-1)"
   ]
  },
  {
   "cell_type": "code",
   "execution_count": 5,
   "metadata": {},
   "outputs": [
    {
     "name": "stderr",
     "output_type": "stream",
     "text": [
      "/usr/lib/python3.6/site-packages/sklearn/utils/validation.py:395: DeprecationWarning: Passing 1d arrays as data is deprecated in 0.17 and will raise ValueError in 0.19. Reshape your data either using X.reshape(-1, 1) if your data has a single feature or X.reshape(1, -1) if it contains a single sample.\n",
      "  DeprecationWarning)\n",
      "/usr/lib/python3.6/site-packages/sklearn/utils/validation.py:395: DeprecationWarning: Passing 1d arrays as data is deprecated in 0.17 and will raise ValueError in 0.19. Reshape your data either using X.reshape(-1, 1) if your data has a single feature or X.reshape(1, -1) if it contains a single sample.\n",
      "  DeprecationWarning)\n"
     ]
    }
   ],
   "source": [
    "gbp = preprocessing.normalize(gbp)\n",
    "xau = preprocessing.normalize(xau)"
   ]
  },
  {
   "cell_type": "code",
   "execution_count": 6,
   "metadata": {
    "collapsed": true
   },
   "outputs": [],
   "source": [
    "gbp = np.gradient(gbp.reshape(-1),3)\n",
    "xau = np.gradient(xau.reshape(-1),3)\n",
    "gbp = np.gradient(gbp.reshape(-1),3)\n",
    "xau = np.gradient(xau.reshape(-1),3)"
   ]
  },
  {
   "cell_type": "code",
   "execution_count": 7,
   "metadata": {
    "collapsed": true
   },
   "outputs": [],
   "source": [
    "def Discretization(Y, offset = 1e-4):\n",
    "    Y[np.where(Y >= offset)] = 1\n",
    "    Y[np.where(Y <= -offset)] = -1\n",
    "    return Y"
   ]
  },
  {
   "cell_type": "code",
   "execution_count": 8,
   "metadata": {},
   "outputs": [
    {
     "data": {
      "text/plain": [
       "(3670,)"
      ]
     },
     "execution_count": 8,
     "metadata": {},
     "output_type": "execute_result"
    }
   ],
   "source": [
    "d = True \n",
    "if d == True:\n",
    "    gbp = np.where(gbp > 0, 1, 0)\n",
    "    xau = np.where(xau > 0, 1, 0)\n",
    "    Y = np.where((gbp-xau) == 0, 1, 0)\n",
    "else:\n",
    "    gbp = Discretization(gbp, offset = 1e-4)\n",
    "    xau = Discretization(xau, offset = 1e-4)\n",
    "    Y = gbp - xau\n",
    "    Y[np.where(Y == 0)] = 1\n",
    "    Y[np.where((Y == 2) & (Y == -2))] = -1\n",
    "    #Y[np.where((Y != 1) & (Y != -1))] = 0\n",
    "    Y = Y.astype('int64')\n",
    "gbp.shape"
   ]
  },
  {
   "cell_type": "code",
   "execution_count": 9,
   "metadata": {},
   "outputs": [],
   "source": [
    "# lb = preprocessing.LabelBinarizer()\n",
    "# Y = lb.fit_transform(Y)\n",
    "# print(lb.classes_)"
   ]
  },
  {
   "cell_type": "code",
   "execution_count": 10,
   "metadata": {},
   "outputs": [
    {
     "data": {
      "text/plain": [
       "array([[ 0.,  1.],\n",
       "       [ 0.,  1.],\n",
       "       [ 0.,  1.],\n",
       "       ..., \n",
       "       [ 1.,  0.],\n",
       "       [ 1.,  0.],\n",
       "       [ 1.,  0.]])"
      ]
     },
     "execution_count": 10,
     "metadata": {},
     "output_type": "execute_result"
    }
   ],
   "source": [
    "num_classes = 2\n",
    "Y = np_utils.to_categorical(Y, num_classes)\n",
    "Y"
   ]
  },
  {
   "cell_type": "code",
   "execution_count": 11,
   "metadata": {},
   "outputs": [],
   "source": [
    "# X_train, X_test, y_train, y_test = train_test_split(X, Y, train_size=0.8)\n",
    "# X_train = X_train.toarray()\n",
    "# X_test = X_test.toarray()\n",
    "X = X.toarray()"
   ]
  },
  {
   "cell_type": "code",
   "execution_count": 12,
   "metadata": {},
   "outputs": [],
   "source": [
    "# model = LogisticRegression(fit_intercept=True,\n",
    "#                            class_weight = 'balanced',\n",
    "#                            n_jobs=-1,\n",
    "#                            max_iter=200, \n",
    "#                            solver='lbfgs',  \n",
    "#                            verbose=1, \n",
    "#                            tol=1e-10)\n",
    "# model.fit(X_train, y_train)\n",
    "# model.score(X_test, y_test)"
   ]
  },
  {
   "cell_type": "code",
   "execution_count": 13,
   "metadata": {
    "scrolled": false
   },
   "outputs": [],
   "source": [
    "# recall = cross_val_score(model, X, Y, cv=5, n_jobs = -1, scoring='recall')\n",
    "# precision = cross_val_score(model, X, Y, cv=5, n_jobs = -1, scoring='precision')\n",
    "# print('precision:',np.mean(precision))\n",
    "# print('recall:', np.mean(recall))"
   ]
  },
  {
   "cell_type": "code",
   "execution_count": 14,
   "metadata": {},
   "outputs": [],
   "source": [
    "# model.fit(X_train, y_train)\n",
    "# print(confusion_matrix(y_test, model.predict(X_test), labels=[-1,1]))\n",
    "# target_names = ['-','+']\n",
    "# print(classification_report(y_test, model.predict(X_test), target_names=target_names))"
   ]
  },
  {
   "cell_type": "code",
   "execution_count": 15,
   "metadata": {
    "collapsed": true
   },
   "outputs": [],
   "source": [
    "def train_and_evaluate_model(model, X_train, y_train, X_test, y_test):\n",
    "    history = model.fit(X_train, y_train, \n",
    "                        epochs=3,\n",
    "                        batch_size=128,\n",
    "                        verbose = 1)\n",
    "    score = model.evaluate(X_test, y_test, batch_size=734)[0]\n",
    "    time.sleep(3)\n",
    "    print('valid scc :%.4f'%(score))\n",
    "    return score"
   ]
  },
  {
   "cell_type": "code",
   "execution_count": 16,
   "metadata": {},
   "outputs": [],
   "source": [
    "def create_model():\n",
    "    model = Sequential()\n",
    "    model.add(Dense(100, activation='relu', input_shape=(X.shape[1],)))\n",
    "    model.add(Dropout(0.75))\n",
    "    model.add(Dense(100, activation='softmax'))\n",
    "    model.add(Dropout(0.5))\n",
    "    model.add(Dense(100, activation='softmax'))\n",
    "    model.add(Dropout(0.5))\n",
    "    model.add(Dense(num_classes, activation='softmax'))\n",
    "    model.compile(optimizer='RMSprop',\n",
    "                  loss='categorical_crossentropy',\n",
    "                  metrics=['accuracy'])\n",
    "    model.summary()\n",
    "    return model"
   ]
  },
  {
   "cell_type": "code",
   "execution_count": 17,
   "metadata": {
    "scrolled": false
   },
   "outputs": [
    {
     "name": "stdout",
     "output_type": "stream",
     "text": [
      "Running Fold\n",
      "_________________________________________________________________\n",
      "Layer (type)                 Output Shape              Param #   \n",
      "=================================================================\n",
      "dense_1 (Dense)              (None, 100)               177700    \n",
      "_________________________________________________________________\n",
      "dropout_1 (Dropout)          (None, 100)               0         \n",
      "_________________________________________________________________\n",
      "dense_2 (Dense)              (None, 100)               10100     \n",
      "_________________________________________________________________\n",
      "dropout_2 (Dropout)          (None, 100)               0         \n",
      "_________________________________________________________________\n",
      "dense_3 (Dense)              (None, 100)               10100     \n",
      "_________________________________________________________________\n",
      "dropout_3 (Dropout)          (None, 100)               0         \n",
      "_________________________________________________________________\n",
      "dense_4 (Dense)              (None, 2)                 202       \n",
      "=================================================================\n",
      "Total params: 198,102\n",
      "Trainable params: 198,102\n",
      "Non-trainable params: 0\n",
      "_________________________________________________________________\n",
      "Epoch 1/3\n",
      "2936/2936 [==============================] - 0s - loss: 0.6906 - acc: 0.5531     \n",
      "Epoch 2/3\n",
      "2936/2936 [==============================] - 0s - loss: 0.6871 - acc: 0.5681     \n",
      "Epoch 3/3\n",
      "2936/2936 [==============================] - 0s - loss: 0.6855 - acc: 0.5681     \n",
      "734/734 [==============================] - 0s\n",
      "valid scc :0.6868\n",
      ">>>\n",
      "Running Fold\n",
      "_________________________________________________________________\n",
      "Layer (type)                 Output Shape              Param #   \n",
      "=================================================================\n",
      "dense_5 (Dense)              (None, 100)               177700    \n",
      "_________________________________________________________________\n",
      "dropout_4 (Dropout)          (None, 100)               0         \n",
      "_________________________________________________________________\n",
      "dense_6 (Dense)              (None, 100)               10100     \n",
      "_________________________________________________________________\n",
      "dropout_5 (Dropout)          (None, 100)               0         \n",
      "_________________________________________________________________\n",
      "dense_7 (Dense)              (None, 100)               10100     \n",
      "_________________________________________________________________\n",
      "dropout_6 (Dropout)          (None, 100)               0         \n",
      "_________________________________________________________________\n",
      "dense_8 (Dense)              (None, 2)                 202       \n",
      "=================================================================\n",
      "Total params: 198,102\n",
      "Trainable params: 198,102\n",
      "Non-trainable params: 0\n",
      "_________________________________________________________________\n",
      "Epoch 1/3\n",
      "2936/2936 [==============================] - 0s - loss: 0.6910 - acc: 0.5473     \n",
      "Epoch 2/3\n",
      "2936/2936 [==============================] - 0s - loss: 0.6880 - acc: 0.5630     \n",
      "Epoch 3/3\n",
      "2936/2936 [==============================] - 0s - loss: 0.6867 - acc: 0.5630     \n",
      "734/734 [==============================] - 0s\n",
      "valid scc :0.6833\n",
      ">>>3\n",
      "Running Fold\n",
      "_________________________________________________________________\n",
      "Layer (type)                 Output Shape              Param #   \n",
      "=================================================================\n",
      "dense_9 (Dense)              (None, 100)               177700    \n",
      "_________________________________________________________________\n",
      "dropout_7 (Dropout)          (None, 100)               0         \n",
      "_________________________________________________________________\n",
      "dense_10 (Dense)             (None, 100)               10100     \n",
      "_________________________________________________________________\n",
      "dropout_8 (Dropout)          (None, 100)               0         \n",
      "_________________________________________________________________\n",
      "dense_11 (Dense)             (None, 100)               10100     \n",
      "_________________________________________________________________\n",
      "dropout_9 (Dropout)          (None, 100)               0         \n",
      "_________________________________________________________________\n",
      "dense_12 (Dense)             (None, 2)                 202       \n",
      "=================================================================\n",
      "Total params: 198,102\n",
      "Trainable params: 198,102\n",
      "Non-trainable params: 0\n",
      "_________________________________________________________________\n",
      "Epoch 1/3\n",
      "2936/2936 [==============================] - 0s - loss: 0.6895 - acc: 0.5623     \n",
      "Epoch 2/3\n",
      "2936/2936 [==============================] - 0s - loss: 0.6870 - acc: 0.5651     \n",
      "Epoch 3/3\n",
      "2936/2936 [==============================] - 0s - loss: 0.6858 - acc: 0.5651     \n",
      "734/734 [==============================] - 0s\n",
      "valid scc :0.6844\n",
      ">>>3\n",
      "Running Fold\n",
      "_________________________________________________________________\n",
      "Layer (type)                 Output Shape              Param #   \n",
      "=================================================================\n",
      "dense_13 (Dense)             (None, 100)               177700    \n",
      "_________________________________________________________________\n",
      "dropout_10 (Dropout)         (None, 100)               0         \n",
      "_________________________________________________________________\n",
      "dense_14 (Dense)             (None, 100)               10100     \n",
      "_________________________________________________________________\n",
      "dropout_11 (Dropout)         (None, 100)               0         \n",
      "_________________________________________________________________\n",
      "dense_15 (Dense)             (None, 100)               10100     \n",
      "_________________________________________________________________\n",
      "dropout_12 (Dropout)         (None, 100)               0         \n",
      "_________________________________________________________________\n",
      "dense_16 (Dense)             (None, 2)                 202       \n",
      "=================================================================\n",
      "Total params: 198,102\n",
      "Trainable params: 198,102\n",
      "Non-trainable params: 0\n",
      "_________________________________________________________________\n",
      "Epoch 1/3\n",
      "2936/2936 [==============================] - 0s - loss: 0.6895 - acc: 0.5637     \n",
      "Epoch 2/3\n",
      "2936/2936 [==============================] - 0s - loss: 0.6869 - acc: 0.5661     \n",
      "Epoch 3/3\n",
      "2936/2936 [==============================] - 0s - loss: 0.6858 - acc: 0.5661     \n",
      "734/734 [==============================] - 0s\n",
      "valid scc :0.6852\n",
      ">>>3\n",
      "Running Fold\n",
      "_________________________________________________________________\n",
      "Layer (type)                 Output Shape              Param #   \n",
      "=================================================================\n",
      "dense_17 (Dense)             (None, 100)               177700    \n",
      "_________________________________________________________________\n",
      "dropout_13 (Dropout)         (None, 100)               0         \n",
      "_________________________________________________________________\n",
      "dense_18 (Dense)             (None, 100)               10100     \n",
      "_________________________________________________________________\n",
      "dropout_14 (Dropout)         (None, 100)               0         \n",
      "_________________________________________________________________\n",
      "dense_19 (Dense)             (None, 100)               10100     \n",
      "_________________________________________________________________\n",
      "dropout_15 (Dropout)         (None, 100)               0         \n",
      "_________________________________________________________________\n",
      "dense_20 (Dense)             (None, 2)                 202       \n",
      "=================================================================\n",
      "Total params: 198,102\n",
      "Trainable params: 198,102\n",
      "Non-trainable params: 0\n",
      "_________________________________________________________________\n",
      "Epoch 1/3\n",
      "2936/2936 [==============================] - 0s - loss: 0.6908 - acc: 0.5518     \n",
      "Epoch 2/3\n",
      "2936/2936 [==============================] - 0s - loss: 0.6877 - acc: 0.5674     \n",
      "Epoch 3/3\n",
      "2936/2936 [==============================] - 0s - loss: 0.6859 - acc: 0.5674     \n",
      "734/734 [==============================] - 0s\n",
      "valid scc :0.6865\n",
      ">>>3\n",
      "final 0.68524261713\n"
     ]
    }
   ],
   "source": [
    "skf = StratifiedKFold(n_splits=5, shuffle=True)\n",
    "accurcy = []\n",
    "for train, test in skf.split(np.ones(3670), np.ones(3670)):\n",
    "        print (\"Running Fold\")\n",
    "        model = None\n",
    "        model = create_model()\n",
    "        accurcy.append(train_and_evaluate_model(model, X[train], Y[train], X[test], Y[test]))\n",
    "        input('>>>')\n",
    "        del model\n",
    "        \n",
    "print('final', np.mean(accurcy))"
   ]
  },
  {
   "cell_type": "code",
   "execution_count": null,
   "metadata": {
    "collapsed": true
   },
   "outputs": [],
   "source": []
  }
 ],
 "metadata": {
  "kernelspec": {
   "display_name": "Python 3",
   "language": "python",
   "name": "python3"
  },
  "language_info": {
   "codemirror_mode": {
    "name": "ipython",
    "version": 3
   },
   "file_extension": ".py",
   "mimetype": "text/x-python",
   "name": "python",
   "nbconvert_exporter": "python",
   "pygments_lexer": "ipython3",
   "version": "3.6.0"
  }
 },
 "nbformat": 4,
 "nbformat_minor": 2
}
