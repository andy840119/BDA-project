{
 "cells": [
  {
   "cell_type": "code",
   "execution_count": 1,
   "metadata": {
    "collapsed": true
   },
   "outputs": [],
   "source": [
    "import pandas as pd\n",
    "import re\n",
    "from datetime import datetime\n",
    "from matplotlib import pyplot as plt"
   ]
  },
  {
   "cell_type": "code",
   "execution_count": 2,
   "metadata": {
    "collapsed": true
   },
   "outputs": [],
   "source": [
    "news = pd.read_csv('news_data.csv')"
   ]
  },
  {
   "cell_type": "code",
   "execution_count": 3,
   "metadata": {},
   "outputs": [
    {
     "data": {
      "text/html": [
       "<div>\n",
       "<table border=\"1\" class=\"dataframe\">\n",
       "  <thead>\n",
       "    <tr style=\"text-align: right;\">\n",
       "      <th></th>\n",
       "      <th>name</th>\n",
       "      <th>url</th>\n",
       "      <th>class</th>\n",
       "      <th>article</th>\n",
       "    </tr>\n",
       "  </thead>\n",
       "  <tbody>\n",
       "    <tr>\n",
       "      <th>0</th>\n",
       "      <td>CIA exposed by frontline role along Afghanista...</td>\n",
       "      <td>https://www.theguardian.com/world/2010/jan/01/...</td>\n",
       "      <td>world</td>\n",
       "      <td>The suicide bombing of CIA base in remote moun...</td>\n",
       "    </tr>\n",
       "    <tr>\n",
       "      <th>1</th>\n",
       "      <td>Iraq threatens action after Blackwater case co...</td>\n",
       "      <td>https://www.theguardian.com/world/2010/jan/01/...</td>\n",
       "      <td>world</td>\n",
       "      <td>Iraqi officials and relatives of  Iraqis who w...</td>\n",
       "    </tr>\n",
       "    <tr>\n",
       "      <th>2</th>\n",
       "      <td>Racial or religious groups could be picked out...</td>\n",
       "      <td>https://www.theguardian.com/world/2010/jan/01/...</td>\n",
       "      <td>world</td>\n",
       "      <td>The government could allow hi tech security se...</td>\n",
       "    </tr>\n",
       "    <tr>\n",
       "      <th>3</th>\n",
       "      <td>US general  British hostage held in Iran</td>\n",
       "      <td>https://www.theguardian.com/world/2010/jan/01/...</td>\n",
       "      <td>world</td>\n",
       "      <td>US intelligence is convinced that Peter Moore ...</td>\n",
       "    </tr>\n",
       "    <tr>\n",
       "      <th>4</th>\n",
       "      <td>Pakistan suicide bomber kills dozens at volley...</td>\n",
       "      <td>https://www.theguardian.com/world/2010/jan/01/...</td>\n",
       "      <td>world</td>\n",
       "      <td>Pakistan today suffered one of its deadliest a...</td>\n",
       "    </tr>\n",
       "  </tbody>\n",
       "</table>\n",
       "</div>"
      ],
      "text/plain": [
       "                                                name  \\\n",
       "0  CIA exposed by frontline role along Afghanista...   \n",
       "1  Iraq threatens action after Blackwater case co...   \n",
       "2  Racial or religious groups could be picked out...   \n",
       "3           US general  British hostage held in Iran   \n",
       "4  Pakistan suicide bomber kills dozens at volley...   \n",
       "\n",
       "                                                 url  class  \\\n",
       "0  https://www.theguardian.com/world/2010/jan/01/...  world   \n",
       "1  https://www.theguardian.com/world/2010/jan/01/...  world   \n",
       "2  https://www.theguardian.com/world/2010/jan/01/...  world   \n",
       "3  https://www.theguardian.com/world/2010/jan/01/...  world   \n",
       "4  https://www.theguardian.com/world/2010/jan/01/...  world   \n",
       "\n",
       "                                             article  \n",
       "0  The suicide bombing of CIA base in remote moun...  \n",
       "1  Iraqi officials and relatives of  Iraqis who w...  \n",
       "2  The government could allow hi tech security se...  \n",
       "3  US intelligence is convinced that Peter Moore ...  \n",
       "4  Pakistan today suffered one of its deadliest a...  "
      ]
     },
     "execution_count": 3,
     "metadata": {},
     "output_type": "execute_result"
    }
   ],
   "source": [
    "news.head()"
   ]
  },
  {
   "cell_type": "code",
   "execution_count": 4,
   "metadata": {},
   "outputs": [
    {
     "data": {
      "text/plain": [
       "(401441, 4)"
      ]
     },
     "execution_count": 4,
     "metadata": {},
     "output_type": "execute_result"
    }
   ],
   "source": [
    "news.shape"
   ]
  },
  {
   "cell_type": "code",
   "execution_count": 5,
   "metadata": {
    "collapsed": true
   },
   "outputs": [],
   "source": [
    "news = news.drop('article', 1)"
   ]
  },
  {
   "cell_type": "code",
   "execution_count": 6,
   "metadata": {},
   "outputs": [
    {
     "data": {
      "text/html": [
       "<div>\n",
       "<table border=\"1\" class=\"dataframe\">\n",
       "  <thead>\n",
       "    <tr style=\"text-align: right;\">\n",
       "      <th></th>\n",
       "      <th>name</th>\n",
       "      <th>url</th>\n",
       "      <th>class</th>\n",
       "    </tr>\n",
       "  </thead>\n",
       "  <tbody>\n",
       "    <tr>\n",
       "      <th>0</th>\n",
       "      <td>CIA exposed by frontline role along Afghanista...</td>\n",
       "      <td>https://www.theguardian.com/world/2010/jan/01/...</td>\n",
       "      <td>world</td>\n",
       "    </tr>\n",
       "    <tr>\n",
       "      <th>1</th>\n",
       "      <td>Iraq threatens action after Blackwater case co...</td>\n",
       "      <td>https://www.theguardian.com/world/2010/jan/01/...</td>\n",
       "      <td>world</td>\n",
       "    </tr>\n",
       "    <tr>\n",
       "      <th>2</th>\n",
       "      <td>Racial or religious groups could be picked out...</td>\n",
       "      <td>https://www.theguardian.com/world/2010/jan/01/...</td>\n",
       "      <td>world</td>\n",
       "    </tr>\n",
       "    <tr>\n",
       "      <th>3</th>\n",
       "      <td>US general  British hostage held in Iran</td>\n",
       "      <td>https://www.theguardian.com/world/2010/jan/01/...</td>\n",
       "      <td>world</td>\n",
       "    </tr>\n",
       "    <tr>\n",
       "      <th>4</th>\n",
       "      <td>Pakistan suicide bomber kills dozens at volley...</td>\n",
       "      <td>https://www.theguardian.com/world/2010/jan/01/...</td>\n",
       "      <td>world</td>\n",
       "    </tr>\n",
       "  </tbody>\n",
       "</table>\n",
       "</div>"
      ],
      "text/plain": [
       "                                                name  \\\n",
       "0  CIA exposed by frontline role along Afghanista...   \n",
       "1  Iraq threatens action after Blackwater case co...   \n",
       "2  Racial or religious groups could be picked out...   \n",
       "3           US general  British hostage held in Iran   \n",
       "4  Pakistan suicide bomber kills dozens at volley...   \n",
       "\n",
       "                                                 url  class  \n",
       "0  https://www.theguardian.com/world/2010/jan/01/...  world  \n",
       "1  https://www.theguardian.com/world/2010/jan/01/...  world  \n",
       "2  https://www.theguardian.com/world/2010/jan/01/...  world  \n",
       "3  https://www.theguardian.com/world/2010/jan/01/...  world  \n",
       "4  https://www.theguardian.com/world/2010/jan/01/...  world  "
      ]
     },
     "execution_count": 6,
     "metadata": {},
     "output_type": "execute_result"
    }
   ],
   "source": [
    "news.head()"
   ]
  },
  {
   "cell_type": "code",
   "execution_count": 7,
   "metadata": {
    "collapsed": true
   },
   "outputs": [],
   "source": [
    "# plt.figure()\n",
    "# news['class'].diff().jist()"
   ]
  },
  {
   "cell_type": "code",
   "execution_count": 8,
   "metadata": {
    "collapsed": true
   },
   "outputs": [],
   "source": [
    "news = news.loc[news['class'].isin(['world', 'politics', 'business'])]"
   ]
  },
  {
   "cell_type": "code",
   "execution_count": 9,
   "metadata": {
    "scrolled": true
   },
   "outputs": [
    {
     "data": {
      "text/plain": [
       "'https://www.theguardian.com/business/marketforceslive/2016/dec/30/ftse-slips-from-record-close-while-icap-and-tullet-complete-deal'"
      ]
     },
     "execution_count": 9,
     "metadata": {},
     "output_type": "execute_result"
    }
   ],
   "source": [
    "news['url'][401311]"
   ]
  },
  {
   "cell_type": "code",
   "execution_count": 10,
   "metadata": {},
   "outputs": [
    {
     "data": {
      "text/plain": [
       "1483027200.0"
      ]
     },
     "execution_count": 10,
     "metadata": {},
     "output_type": "execute_result"
    }
   ],
   "source": [
    "pattern = '\\d{4}/([a-z]+)/\\d{2}'\n",
    "match = re.search(pattern, 'https://www.theguardian.com/business/marketforceslive/2016/dec/30/')\n",
    "datetime.strptime(match.group(), '%Y/%b/%d').timestamp()"
   ]
  },
  {
   "cell_type": "code",
   "execution_count": 11,
   "metadata": {
    "collapsed": true
   },
   "outputs": [],
   "source": [
    "def get_date(url):\n",
    "    pattern = '\\d{4}/([a-z]+)/\\d{2}'\n",
    "    match = re.search(pattern, url)\n",
    "    if match == None:\n",
    "        return None\n",
    "    #date = match.group()\n",
    "    #datetime.strptime(match.group(), '%Y/%b/%d').timestamp()\n",
    "    return match.group()"
   ]
  },
  {
   "cell_type": "code",
   "execution_count": 12,
   "metadata": {
    "collapsed": true
   },
   "outputs": [],
   "source": [
    "news['date'] = news['url'].apply(get_date)"
   ]
  },
  {
   "cell_type": "code",
   "execution_count": 13,
   "metadata": {},
   "outputs": [
    {
     "data": {
      "text/html": [
       "<div>\n",
       "<table border=\"1\" class=\"dataframe\">\n",
       "  <thead>\n",
       "    <tr style=\"text-align: right;\">\n",
       "      <th></th>\n",
       "      <th>name</th>\n",
       "      <th>url</th>\n",
       "      <th>class</th>\n",
       "      <th>date</th>\n",
       "    </tr>\n",
       "  </thead>\n",
       "  <tbody>\n",
       "    <tr>\n",
       "      <th>0</th>\n",
       "      <td>CIA exposed by frontline role along Afghanista...</td>\n",
       "      <td>https://www.theguardian.com/world/2010/jan/01/...</td>\n",
       "      <td>world</td>\n",
       "      <td>2010/jan/01</td>\n",
       "    </tr>\n",
       "    <tr>\n",
       "      <th>1</th>\n",
       "      <td>Iraq threatens action after Blackwater case co...</td>\n",
       "      <td>https://www.theguardian.com/world/2010/jan/01/...</td>\n",
       "      <td>world</td>\n",
       "      <td>2010/jan/01</td>\n",
       "    </tr>\n",
       "    <tr>\n",
       "      <th>2</th>\n",
       "      <td>Racial or religious groups could be picked out...</td>\n",
       "      <td>https://www.theguardian.com/world/2010/jan/01/...</td>\n",
       "      <td>world</td>\n",
       "      <td>2010/jan/01</td>\n",
       "    </tr>\n",
       "    <tr>\n",
       "      <th>3</th>\n",
       "      <td>US general  British hostage held in Iran</td>\n",
       "      <td>https://www.theguardian.com/world/2010/jan/01/...</td>\n",
       "      <td>world</td>\n",
       "      <td>2010/jan/01</td>\n",
       "    </tr>\n",
       "    <tr>\n",
       "      <th>4</th>\n",
       "      <td>Pakistan suicide bomber kills dozens at volley...</td>\n",
       "      <td>https://www.theguardian.com/world/2010/jan/01/...</td>\n",
       "      <td>world</td>\n",
       "      <td>2010/jan/01</td>\n",
       "    </tr>\n",
       "  </tbody>\n",
       "</table>\n",
       "</div>"
      ],
      "text/plain": [
       "                                                name  \\\n",
       "0  CIA exposed by frontline role along Afghanista...   \n",
       "1  Iraq threatens action after Blackwater case co...   \n",
       "2  Racial or religious groups could be picked out...   \n",
       "3           US general  British hostage held in Iran   \n",
       "4  Pakistan suicide bomber kills dozens at volley...   \n",
       "\n",
       "                                                 url  class         date  \n",
       "0  https://www.theguardian.com/world/2010/jan/01/...  world  2010/jan/01  \n",
       "1  https://www.theguardian.com/world/2010/jan/01/...  world  2010/jan/01  \n",
       "2  https://www.theguardian.com/world/2010/jan/01/...  world  2010/jan/01  \n",
       "3  https://www.theguardian.com/world/2010/jan/01/...  world  2010/jan/01  \n",
       "4  https://www.theguardian.com/world/2010/jan/01/...  world  2010/jan/01  "
      ]
     },
     "execution_count": 13,
     "metadata": {},
     "output_type": "execute_result"
    }
   ],
   "source": [
    "news.head()"
   ]
  },
  {
   "cell_type": "code",
   "execution_count": 14,
   "metadata": {
    "collapsed": true
   },
   "outputs": [],
   "source": [
    "news = news.drop('url', 1)"
   ]
  },
  {
   "cell_type": "code",
   "execution_count": 15,
   "metadata": {
    "scrolled": false
   },
   "outputs": [
    {
     "data": {
      "text/html": [
       "<div>\n",
       "<table border=\"1\" class=\"dataframe\">\n",
       "  <thead>\n",
       "    <tr style=\"text-align: right;\">\n",
       "      <th></th>\n",
       "      <th>name</th>\n",
       "      <th>class</th>\n",
       "      <th>date</th>\n",
       "    </tr>\n",
       "  </thead>\n",
       "  <tbody>\n",
       "    <tr>\n",
       "      <th>0</th>\n",
       "      <td>CIA exposed by frontline role along Afghanista...</td>\n",
       "      <td>world</td>\n",
       "      <td>2010/jan/01</td>\n",
       "    </tr>\n",
       "    <tr>\n",
       "      <th>1</th>\n",
       "      <td>Iraq threatens action after Blackwater case co...</td>\n",
       "      <td>world</td>\n",
       "      <td>2010/jan/01</td>\n",
       "    </tr>\n",
       "    <tr>\n",
       "      <th>2</th>\n",
       "      <td>Racial or religious groups could be picked out...</td>\n",
       "      <td>world</td>\n",
       "      <td>2010/jan/01</td>\n",
       "    </tr>\n",
       "    <tr>\n",
       "      <th>3</th>\n",
       "      <td>US general  British hostage held in Iran</td>\n",
       "      <td>world</td>\n",
       "      <td>2010/jan/01</td>\n",
       "    </tr>\n",
       "    <tr>\n",
       "      <th>4</th>\n",
       "      <td>Pakistan suicide bomber kills dozens at volley...</td>\n",
       "      <td>world</td>\n",
       "      <td>2010/jan/01</td>\n",
       "    </tr>\n",
       "    <tr>\n",
       "      <th>5</th>\n",
       "      <td>years after  winter of terror Alpine resorts ...</td>\n",
       "      <td>world</td>\n",
       "      <td>2010/jan/01</td>\n",
       "    </tr>\n",
       "    <tr>\n",
       "      <th>6</th>\n",
       "      <td>David Petraeus says hostage Peter Moore was  c...</td>\n",
       "      <td>world</td>\n",
       "      <td>2010/jan/01</td>\n",
       "    </tr>\n",
       "    <tr>\n",
       "      <th>7</th>\n",
       "      <td>Iran opposition leader Mousavi  ready to die  ...</td>\n",
       "      <td>world</td>\n",
       "      <td>2010/jan/01</td>\n",
       "    </tr>\n",
       "    <tr>\n",
       "      <th>8</th>\n",
       "      <td>Irish atheists challenge new blasphemy laws</td>\n",
       "      <td>world</td>\n",
       "      <td>2010/jan/01</td>\n",
       "    </tr>\n",
       "    <tr>\n",
       "      <th>9</th>\n",
       "      <td>Russia raises price of vodka to combat alcoholism</td>\n",
       "      <td>world</td>\n",
       "      <td>2010/jan/01</td>\n",
       "    </tr>\n",
       "    <tr>\n",
       "      <th>10</th>\n",
       "      <td>Pope puts children at the heart of new year me...</td>\n",
       "      <td>world</td>\n",
       "      <td>2010/jan/01</td>\n",
       "    </tr>\n",
       "    <tr>\n",
       "      <th>11</th>\n",
       "      <td>Hong Kong demonstrators urge full democracy</td>\n",
       "      <td>world</td>\n",
       "      <td>2010/jan/01</td>\n",
       "    </tr>\n",
       "    <tr>\n",
       "      <th>12</th>\n",
       "      <td>Married Malawian gay couple face test to prove...</td>\n",
       "      <td>world</td>\n",
       "      <td>2010/jan/01</td>\n",
       "    </tr>\n",
       "    <tr>\n",
       "      <th>13</th>\n",
       "      <td>North Korea calls for end to hostile relations...</td>\n",
       "      <td>world</td>\n",
       "      <td>2010/jan/01</td>\n",
       "    </tr>\n",
       "    <tr>\n",
       "      <th>14</th>\n",
       "      <td>Freed hostage Peter Moore expected back in UK ...</td>\n",
       "      <td>world</td>\n",
       "      <td>2010/jan/01</td>\n",
       "    </tr>\n",
       "    <tr>\n",
       "      <th>15</th>\n",
       "      <td>Brown orders review into airport security</td>\n",
       "      <td>world</td>\n",
       "      <td>2010/jan/01</td>\n",
       "    </tr>\n",
       "    <tr>\n",
       "      <th>16</th>\n",
       "      <td>Cardinal Cahal Daly obituary</td>\n",
       "      <td>world</td>\n",
       "      <td>2010/jan/01</td>\n",
       "    </tr>\n",
       "    <tr>\n",
       "      <th>17</th>\n",
       "      <td>Cardinal Cahal Daly  former leader of Ireland ...</td>\n",
       "      <td>world</td>\n",
       "      <td>2010/jan/01</td>\n",
       "    </tr>\n",
       "    <tr>\n",
       "      <th>18</th>\n",
       "      <td>Vanunu courage</td>\n",
       "      <td>world</td>\n",
       "      <td>2010/jan/01</td>\n",
       "    </tr>\n",
       "    <tr>\n",
       "      <th>19</th>\n",
       "      <td>Figuring out the future for the decade ahead</td>\n",
       "      <td>world</td>\n",
       "      <td>2010/jan/01</td>\n",
       "    </tr>\n",
       "    <tr>\n",
       "      <th>20</th>\n",
       "      <td>Andrew Mitchell outlines Tory plans for  targe...</td>\n",
       "      <td>politics</td>\n",
       "      <td>2010/jan/01</td>\n",
       "    </tr>\n",
       "    <tr>\n",
       "      <th>21</th>\n",
       "      <td>From the archive  The greatest lesson of the p...</td>\n",
       "      <td>politics</td>\n",
       "      <td>2010/jan/01</td>\n",
       "    </tr>\n",
       "    <tr>\n",
       "      <th>63</th>\n",
       "      <td>Green technology to be used by top firms to ov...</td>\n",
       "      <td>business</td>\n",
       "      <td>2010/jan/01</td>\n",
       "    </tr>\n",
       "    <tr>\n",
       "      <th>64</th>\n",
       "      <td>Christmas spending up on  thanks to last minut...</td>\n",
       "      <td>business</td>\n",
       "      <td>2010/jan/01</td>\n",
       "    </tr>\n",
       "    <tr>\n",
       "      <th>65</th>\n",
       "      <td>US bails out General Motors related company GM...</td>\n",
       "      <td>business</td>\n",
       "      <td>2010/jan/01</td>\n",
       "    </tr>\n",
       "    <tr>\n",
       "      <th>67</th>\n",
       "      <td>Scotch whisky makers show spirit of survival d...</td>\n",
       "      <td>business</td>\n",
       "      <td>2010/jan/01</td>\n",
       "    </tr>\n",
       "    <tr>\n",
       "      <th>68</th>\n",
       "      <td>Peter Pan magic defies recession for Three Six...</td>\n",
       "      <td>business</td>\n",
       "      <td>2010/jan/01</td>\n",
       "    </tr>\n",
       "    <tr>\n",
       "      <th>69</th>\n",
       "      <td>Private sector pensions suffer worst year ever</td>\n",
       "      <td>business</td>\n",
       "      <td>2010/jan/01</td>\n",
       "    </tr>\n",
       "    <tr>\n",
       "      <th>70</th>\n",
       "      <td>Mobile phones changed society  not just commun...</td>\n",
       "      <td>business</td>\n",
       "      <td>2010/jan/01</td>\n",
       "    </tr>\n",
       "    <tr>\n",
       "      <th>71</th>\n",
       "      <td>Government must  green economy and create jobs...</td>\n",
       "      <td>business</td>\n",
       "      <td>2010/jan/01</td>\n",
       "    </tr>\n",
       "    <tr>\n",
       "      <th>...</th>\n",
       "      <td>...</td>\n",
       "      <td>...</td>\n",
       "      <td>...</td>\n",
       "    </tr>\n",
       "    <tr>\n",
       "      <th>401307</th>\n",
       "      <td>A tumultuous year  the  global economy in  charts</td>\n",
       "      <td>business</td>\n",
       "      <td>2016/dec/30</td>\n",
       "    </tr>\n",
       "    <tr>\n",
       "      <th>401308</th>\n",
       "      <td>FTSE   ends  at all time high after surge in d...</td>\n",
       "      <td>business</td>\n",
       "      <td>2016/dec/30</td>\n",
       "    </tr>\n",
       "    <tr>\n",
       "      <th>401309</th>\n",
       "      <td>KitKat maker gives three fingers the thumbs down</td>\n",
       "      <td>business</td>\n",
       "      <td>2016/dec/30</td>\n",
       "    </tr>\n",
       "    <tr>\n",
       "      <th>401310</th>\n",
       "      <td>Southern rail passengers face new year disrupt...</td>\n",
       "      <td>business</td>\n",
       "      <td>2016/dec/30</td>\n",
       "    </tr>\n",
       "    <tr>\n",
       "      <th>401311</th>\n",
       "      <td>FTSE slips from record close  while Icap and T...</td>\n",
       "      <td>business</td>\n",
       "      <td>2016/dec/30</td>\n",
       "    </tr>\n",
       "    <tr>\n",
       "      <th>401312</th>\n",
       "      <td>RBS investors call for governance changes to i...</td>\n",
       "      <td>business</td>\n",
       "      <td>2016/dec/30</td>\n",
       "    </tr>\n",
       "    <tr>\n",
       "      <th>401313</th>\n",
       "      <td>Iain Wright  the MP bringing Mike Ashley and S...</td>\n",
       "      <td>business</td>\n",
       "      <td>2016/dec/30</td>\n",
       "    </tr>\n",
       "    <tr>\n",
       "      <th>401338</th>\n",
       "      <td>DRC parties reach deal denying third term for ...</td>\n",
       "      <td>world</td>\n",
       "      <td>2016/dec/31</td>\n",
       "    </tr>\n",
       "    <tr>\n",
       "      <th>401339</th>\n",
       "      <td>Texas federal judge halts Obama protection of ...</td>\n",
       "      <td>world</td>\n",
       "      <td>2016/dec/31</td>\n",
       "    </tr>\n",
       "    <tr>\n",
       "      <th>401340</th>\n",
       "      <td>Displaced  faces of some of the world  million...</td>\n",
       "      <td>world</td>\n",
       "      <td>2016/dec/31</td>\n",
       "    </tr>\n",
       "    <tr>\n",
       "      <th>401341</th>\n",
       "      <td>UN welcomes Syria ceasefire against backdrop o...</td>\n",
       "      <td>world</td>\n",
       "      <td>2016/dec/31</td>\n",
       "    </tr>\n",
       "    <tr>\n",
       "      <th>401342</th>\n",
       "      <td>UN council welcomes Syria ceasefire move by Ru...</td>\n",
       "      <td>world</td>\n",
       "      <td>2016/dec/31</td>\n",
       "    </tr>\n",
       "    <tr>\n",
       "      <th>401343</th>\n",
       "      <td>UK companies  linked to Azerbaijan pipeline br...</td>\n",
       "      <td>world</td>\n",
       "      <td>2016/dec/31</td>\n",
       "    </tr>\n",
       "    <tr>\n",
       "      <th>401344</th>\n",
       "      <td>Baghdad market bombings kill dozens</td>\n",
       "      <td>world</td>\n",
       "      <td>2016/dec/31</td>\n",
       "    </tr>\n",
       "    <tr>\n",
       "      <th>401345</th>\n",
       "      <td>It a miracle from begging in Paris to bestsel...</td>\n",
       "      <td>world</td>\n",
       "      <td>2016/dec/31</td>\n",
       "    </tr>\n",
       "    <tr>\n",
       "      <th>401346</th>\n",
       "      <td>Venezuela frees politician and student activis...</td>\n",
       "      <td>world</td>\n",
       "      <td>2016/dec/31</td>\n",
       "    </tr>\n",
       "    <tr>\n",
       "      <th>401347</th>\n",
       "      <td>Wall Street Journal reporter was held for thre...</td>\n",
       "      <td>world</td>\n",
       "      <td>2016/dec/31</td>\n",
       "    </tr>\n",
       "    <tr>\n",
       "      <th>401348</th>\n",
       "      <td>China clamps down on corrupt officials with   ...</td>\n",
       "      <td>world</td>\n",
       "      <td>2016/dec/31</td>\n",
       "    </tr>\n",
       "    <tr>\n",
       "      <th>401349</th>\n",
       "      <td>Can Latin America avoid the global vortex in</td>\n",
       "      <td>world</td>\n",
       "      <td>2016/dec/31</td>\n",
       "    </tr>\n",
       "    <tr>\n",
       "      <th>401350</th>\n",
       "      <td>Brexit vote sparks rush of British Jews seekin...</td>\n",
       "      <td>world</td>\n",
       "      <td>2016/dec/31</td>\n",
       "    </tr>\n",
       "    <tr>\n",
       "      <th>401351</th>\n",
       "      <td>Allow married Catholic priests to halt decline...</td>\n",
       "      <td>world</td>\n",
       "      <td>2016/dec/31</td>\n",
       "    </tr>\n",
       "    <tr>\n",
       "      <th>401352</th>\n",
       "      <td>South Korea pulls website mapping women of pri...</td>\n",
       "      <td>world</td>\n",
       "      <td>2016/dec/31</td>\n",
       "    </tr>\n",
       "    <tr>\n",
       "      <th>401353</th>\n",
       "      <td>Pilot accused of being drunk after video shows...</td>\n",
       "      <td>world</td>\n",
       "      <td>2016/dec/31</td>\n",
       "    </tr>\n",
       "    <tr>\n",
       "      <th>401354</th>\n",
       "      <td>Merkel says Germany is  stronger than terroris...</td>\n",
       "      <td>world</td>\n",
       "      <td>2016/dec/31</td>\n",
       "    </tr>\n",
       "    <tr>\n",
       "      <th>401355</th>\n",
       "      <td>Theresa May new year message  ll fight remaine...</td>\n",
       "      <td>politics</td>\n",
       "      <td>2016/dec/31</td>\n",
       "    </tr>\n",
       "    <tr>\n",
       "      <th>401356</th>\n",
       "      <td>Donald Trump victory sparks global women right...</td>\n",
       "      <td>politics</td>\n",
       "      <td>2016/dec/31</td>\n",
       "    </tr>\n",
       "    <tr>\n",
       "      <th>401399</th>\n",
       "      <td>Qantas  hundreds of passengers stranded in Dub...</td>\n",
       "      <td>business</td>\n",
       "      <td>2016/dec/31</td>\n",
       "    </tr>\n",
       "    <tr>\n",
       "      <th>401400</th>\n",
       "      <td>How attempts to save BHS  and    jobs  were do...</td>\n",
       "      <td>business</td>\n",
       "      <td>2016/dec/31</td>\n",
       "    </tr>\n",
       "    <tr>\n",
       "      <th>401401</th>\n",
       "      <td>Sterling slide  winners and losers in</td>\n",
       "      <td>business</td>\n",
       "      <td>2016/dec/31</td>\n",
       "    </tr>\n",
       "    <tr>\n",
       "      <th>401402</th>\n",
       "      <td>English sparkling wine industry toasts export ...</td>\n",
       "      <td>business</td>\n",
       "      <td>2016/dec/31</td>\n",
       "    </tr>\n",
       "  </tbody>\n",
       "</table>\n",
       "<p>144341 rows × 3 columns</p>\n",
       "</div>"
      ],
      "text/plain": [
       "                                                     name     class  \\\n",
       "0       CIA exposed by frontline role along Afghanista...     world   \n",
       "1       Iraq threatens action after Blackwater case co...     world   \n",
       "2       Racial or religious groups could be picked out...     world   \n",
       "3                US general  British hostage held in Iran     world   \n",
       "4       Pakistan suicide bomber kills dozens at volley...     world   \n",
       "5        years after  winter of terror Alpine resorts ...     world   \n",
       "6       David Petraeus says hostage Peter Moore was  c...     world   \n",
       "7       Iran opposition leader Mousavi  ready to die  ...     world   \n",
       "8             Irish atheists challenge new blasphemy laws     world   \n",
       "9       Russia raises price of vodka to combat alcoholism     world   \n",
       "10      Pope puts children at the heart of new year me...     world   \n",
       "11            Hong Kong demonstrators urge full democracy     world   \n",
       "12      Married Malawian gay couple face test to prove...     world   \n",
       "13      North Korea calls for end to hostile relations...     world   \n",
       "14      Freed hostage Peter Moore expected back in UK ...     world   \n",
       "15              Brown orders review into airport security     world   \n",
       "16                           Cardinal Cahal Daly obituary     world   \n",
       "17      Cardinal Cahal Daly  former leader of Ireland ...     world   \n",
       "18                                         Vanunu courage     world   \n",
       "19           Figuring out the future for the decade ahead     world   \n",
       "20      Andrew Mitchell outlines Tory plans for  targe...  politics   \n",
       "21      From the archive  The greatest lesson of the p...  politics   \n",
       "63      Green technology to be used by top firms to ov...  business   \n",
       "64      Christmas spending up on  thanks to last minut...  business   \n",
       "65      US bails out General Motors related company GM...  business   \n",
       "67      Scotch whisky makers show spirit of survival d...  business   \n",
       "68      Peter Pan magic defies recession for Three Six...  business   \n",
       "69         Private sector pensions suffer worst year ever  business   \n",
       "70      Mobile phones changed society  not just commun...  business   \n",
       "71      Government must  green economy and create jobs...  business   \n",
       "...                                                   ...       ...   \n",
       "401307  A tumultuous year  the  global economy in  charts  business   \n",
       "401308  FTSE   ends  at all time high after surge in d...  business   \n",
       "401309   KitKat maker gives three fingers the thumbs down  business   \n",
       "401310  Southern rail passengers face new year disrupt...  business   \n",
       "401311  FTSE slips from record close  while Icap and T...  business   \n",
       "401312  RBS investors call for governance changes to i...  business   \n",
       "401313  Iain Wright  the MP bringing Mike Ashley and S...  business   \n",
       "401338  DRC parties reach deal denying third term for ...     world   \n",
       "401339  Texas federal judge halts Obama protection of ...     world   \n",
       "401340  Displaced  faces of some of the world  million...     world   \n",
       "401341  UN welcomes Syria ceasefire against backdrop o...     world   \n",
       "401342  UN council welcomes Syria ceasefire move by Ru...     world   \n",
       "401343  UK companies  linked to Azerbaijan pipeline br...     world   \n",
       "401344                Baghdad market bombings kill dozens     world   \n",
       "401345   It a miracle from begging in Paris to bestsel...     world   \n",
       "401346  Venezuela frees politician and student activis...     world   \n",
       "401347  Wall Street Journal reporter was held for thre...     world   \n",
       "401348  China clamps down on corrupt officials with   ...     world   \n",
       "401349     Can Latin America avoid the global vortex in       world   \n",
       "401350  Brexit vote sparks rush of British Jews seekin...     world   \n",
       "401351  Allow married Catholic priests to halt decline...     world   \n",
       "401352  South Korea pulls website mapping women of pri...     world   \n",
       "401353  Pilot accused of being drunk after video shows...     world   \n",
       "401354  Merkel says Germany is  stronger than terroris...     world   \n",
       "401355  Theresa May new year message  ll fight remaine...  politics   \n",
       "401356  Donald Trump victory sparks global women right...  politics   \n",
       "401399  Qantas  hundreds of passengers stranded in Dub...  business   \n",
       "401400  How attempts to save BHS  and    jobs  were do...  business   \n",
       "401401           Sterling slide  winners and losers in     business   \n",
       "401402  English sparkling wine industry toasts export ...  business   \n",
       "\n",
       "               date  \n",
       "0       2010/jan/01  \n",
       "1       2010/jan/01  \n",
       "2       2010/jan/01  \n",
       "3       2010/jan/01  \n",
       "4       2010/jan/01  \n",
       "5       2010/jan/01  \n",
       "6       2010/jan/01  \n",
       "7       2010/jan/01  \n",
       "8       2010/jan/01  \n",
       "9       2010/jan/01  \n",
       "10      2010/jan/01  \n",
       "11      2010/jan/01  \n",
       "12      2010/jan/01  \n",
       "13      2010/jan/01  \n",
       "14      2010/jan/01  \n",
       "15      2010/jan/01  \n",
       "16      2010/jan/01  \n",
       "17      2010/jan/01  \n",
       "18      2010/jan/01  \n",
       "19      2010/jan/01  \n",
       "20      2010/jan/01  \n",
       "21      2010/jan/01  \n",
       "63      2010/jan/01  \n",
       "64      2010/jan/01  \n",
       "65      2010/jan/01  \n",
       "67      2010/jan/01  \n",
       "68      2010/jan/01  \n",
       "69      2010/jan/01  \n",
       "70      2010/jan/01  \n",
       "71      2010/jan/01  \n",
       "...             ...  \n",
       "401307  2016/dec/30  \n",
       "401308  2016/dec/30  \n",
       "401309  2016/dec/30  \n",
       "401310  2016/dec/30  \n",
       "401311  2016/dec/30  \n",
       "401312  2016/dec/30  \n",
       "401313  2016/dec/30  \n",
       "401338  2016/dec/31  \n",
       "401339  2016/dec/31  \n",
       "401340  2016/dec/31  \n",
       "401341  2016/dec/31  \n",
       "401342  2016/dec/31  \n",
       "401343  2016/dec/31  \n",
       "401344  2016/dec/31  \n",
       "401345  2016/dec/31  \n",
       "401346  2016/dec/31  \n",
       "401347  2016/dec/31  \n",
       "401348  2016/dec/31  \n",
       "401349  2016/dec/31  \n",
       "401350  2016/dec/31  \n",
       "401351  2016/dec/31  \n",
       "401352  2016/dec/31  \n",
       "401353  2016/dec/31  \n",
       "401354  2016/dec/31  \n",
       "401355  2016/dec/31  \n",
       "401356  2016/dec/31  \n",
       "401399  2016/dec/31  \n",
       "401400  2016/dec/31  \n",
       "401401  2016/dec/31  \n",
       "401402  2016/dec/31  \n",
       "\n",
       "[144341 rows x 3 columns]"
      ]
     },
     "execution_count": 15,
     "metadata": {},
     "output_type": "execute_result"
    }
   ],
   "source": [
    "news"
   ]
  },
  {
   "cell_type": "code",
   "execution_count": 16,
   "metadata": {},
   "outputs": [
    {
     "data": {
      "text/plain": [
       "(144341, 3)"
      ]
     },
     "execution_count": 16,
     "metadata": {},
     "output_type": "execute_result"
    }
   ],
   "source": [
    "news.shape"
   ]
  },
  {
   "cell_type": "code",
   "execution_count": 17,
   "metadata": {
    "collapsed": true
   },
   "outputs": [],
   "source": [
    "news = news.dropna()"
   ]
  },
  {
   "cell_type": "code",
   "execution_count": 18,
   "metadata": {},
   "outputs": [
    {
     "data": {
      "text/plain": [
       "(143784, 3)"
      ]
     },
     "execution_count": 18,
     "metadata": {},
     "output_type": "execute_result"
    }
   ],
   "source": [
    "news.shape"
   ]
  },
  {
   "cell_type": "code",
   "execution_count": 19,
   "metadata": {},
   "outputs": [
    {
     "name": "stderr",
     "output_type": "stream",
     "text": [
      "/usr/lib/python3.6/site-packages/ipykernel_launcher.py:1: SettingWithCopyWarning: \n",
      "A value is trying to be set on a copy of a slice from a DataFrame.\n",
      "Try using .loc[row_indexer,col_indexer] = value instead\n",
      "\n",
      "See the caveats in the documentation: http://pandas.pydata.org/pandas-docs/stable/indexing.html#indexing-view-versus-copy\n",
      "  \"\"\"Entry point for launching an IPython kernel.\n"
     ]
    }
   ],
   "source": [
    "news['name'] = news['name'].apply(lambda name: name.lower())"
   ]
  },
  {
   "cell_type": "code",
   "execution_count": 20,
   "metadata": {},
   "outputs": [
    {
     "data": {
      "text/html": [
       "<div>\n",
       "<table border=\"1\" class=\"dataframe\">\n",
       "  <thead>\n",
       "    <tr style=\"text-align: right;\">\n",
       "      <th></th>\n",
       "      <th>name</th>\n",
       "      <th>class</th>\n",
       "      <th>date</th>\n",
       "    </tr>\n",
       "  </thead>\n",
       "  <tbody>\n",
       "    <tr>\n",
       "      <th>0</th>\n",
       "      <td>cia exposed by frontline role along afghanista...</td>\n",
       "      <td>world</td>\n",
       "      <td>2010/jan/01</td>\n",
       "    </tr>\n",
       "    <tr>\n",
       "      <th>1</th>\n",
       "      <td>iraq threatens action after blackwater case co...</td>\n",
       "      <td>world</td>\n",
       "      <td>2010/jan/01</td>\n",
       "    </tr>\n",
       "    <tr>\n",
       "      <th>2</th>\n",
       "      <td>racial or religious groups could be picked out...</td>\n",
       "      <td>world</td>\n",
       "      <td>2010/jan/01</td>\n",
       "    </tr>\n",
       "    <tr>\n",
       "      <th>3</th>\n",
       "      <td>us general  british hostage held in iran</td>\n",
       "      <td>world</td>\n",
       "      <td>2010/jan/01</td>\n",
       "    </tr>\n",
       "    <tr>\n",
       "      <th>4</th>\n",
       "      <td>pakistan suicide bomber kills dozens at volley...</td>\n",
       "      <td>world</td>\n",
       "      <td>2010/jan/01</td>\n",
       "    </tr>\n",
       "  </tbody>\n",
       "</table>\n",
       "</div>"
      ],
      "text/plain": [
       "                                                name  class         date\n",
       "0  cia exposed by frontline role along afghanista...  world  2010/jan/01\n",
       "1  iraq threatens action after blackwater case co...  world  2010/jan/01\n",
       "2  racial or religious groups could be picked out...  world  2010/jan/01\n",
       "3           us general  british hostage held in iran  world  2010/jan/01\n",
       "4  pakistan suicide bomber kills dozens at volley...  world  2010/jan/01"
      ]
     },
     "execution_count": 20,
     "metadata": {},
     "output_type": "execute_result"
    }
   ],
   "source": [
    "news.head()"
   ]
  },
  {
   "cell_type": "code",
   "execution_count": 21,
   "metadata": {
    "collapsed": true
   },
   "outputs": [],
   "source": [
    "news = news.drop('class', 1)"
   ]
  },
  {
   "cell_type": "code",
   "execution_count": 22,
   "metadata": {
    "collapsed": true
   },
   "outputs": [],
   "source": [
    "news['date'] = news['date'].astype('category')"
   ]
  },
  {
   "cell_type": "code",
   "execution_count": 23,
   "metadata": {
    "collapsed": true
   },
   "outputs": [],
   "source": [
    "news = news.groupby('date', as_index=False).agg(lambda name: ' '.join(name))"
   ]
  },
  {
   "cell_type": "code",
   "execution_count": 24,
   "metadata": {},
   "outputs": [
    {
     "data": {
      "text/html": [
       "<div>\n",
       "<table border=\"1\" class=\"dataframe\">\n",
       "  <thead>\n",
       "    <tr style=\"text-align: right;\">\n",
       "      <th></th>\n",
       "      <th>date</th>\n",
       "      <th>name</th>\n",
       "    </tr>\n",
       "  </thead>\n",
       "  <tbody>\n",
       "    <tr>\n",
       "      <th>0</th>\n",
       "      <td>2000/jul/01</td>\n",
       "      <td>the guardian instagrams the  state of the unio...</td>\n",
       "    </tr>\n",
       "    <tr>\n",
       "      <th>1</th>\n",
       "      <td>2007/apr/12</td>\n",
       "      <td>stagflation</td>\n",
       "    </tr>\n",
       "    <tr>\n",
       "      <th>2</th>\n",
       "      <td>2008/oct/09</td>\n",
       "      <td>capital ratios tier one and tier two</td>\n",
       "    </tr>\n",
       "    <tr>\n",
       "      <th>3</th>\n",
       "      <td>2009/jul/30</td>\n",
       "      <td>timeline  iraq</td>\n",
       "    </tr>\n",
       "    <tr>\n",
       "      <th>4</th>\n",
       "      <td>2009/mar/12</td>\n",
       "      <td>timeline  key dates in the bernard madoff case</td>\n",
       "    </tr>\n",
       "  </tbody>\n",
       "</table>\n",
       "</div>"
      ],
      "text/plain": [
       "          date                                               name\n",
       "0  2000/jul/01  the guardian instagrams the  state of the unio...\n",
       "1  2007/apr/12                                        stagflation\n",
       "2  2008/oct/09               capital ratios tier one and tier two\n",
       "3  2009/jul/30                                 timeline  iraq    \n",
       "4  2009/mar/12     timeline  key dates in the bernard madoff case"
      ]
     },
     "execution_count": 24,
     "metadata": {},
     "output_type": "execute_result"
    }
   ],
   "source": [
    "news.head()"
   ]
  },
  {
   "cell_type": "code",
   "execution_count": 25,
   "metadata": {
    "collapsed": true
   },
   "outputs": [],
   "source": [
    "news = news[news['date'].str.contains(\"2010|2011|2012|2013|2014|2015|2016\")]"
   ]
  },
  {
   "cell_type": "code",
   "execution_count": 26,
   "metadata": {
    "collapsed": true
   },
   "outputs": [],
   "source": [
    "news['timestamp'] = news['date'].apply(lambda date: int(datetime.strptime(date, '%Y/%b/%d').timestamp()))"
   ]
  },
  {
   "cell_type": "code",
   "execution_count": 27,
   "metadata": {},
   "outputs": [
    {
     "name": "stderr",
     "output_type": "stream",
     "text": [
      "/usr/lib/python3.6/site-packages/ipykernel_launcher.py:1: FutureWarning: sort(columns=....) is deprecated, use sort_values(by=.....)\n",
      "  \"\"\"Entry point for launching an IPython kernel.\n"
     ]
    }
   ],
   "source": [
    "news = news.sort(columns=['timestamp'])\n",
    "news = news.reset_index(drop=True)"
   ]
  },
  {
   "cell_type": "code",
   "execution_count": 28,
   "metadata": {},
   "outputs": [
    {
     "data": {
      "text/html": [
       "<div>\n",
       "<table border=\"1\" class=\"dataframe\">\n",
       "  <thead>\n",
       "    <tr style=\"text-align: right;\">\n",
       "      <th></th>\n",
       "      <th>date</th>\n",
       "      <th>name</th>\n",
       "      <th>timestamp</th>\n",
       "    </tr>\n",
       "  </thead>\n",
       "  <tbody>\n",
       "    <tr>\n",
       "      <th>0</th>\n",
       "      <td>2010/apr/01</td>\n",
       "      <td>the hidden costs of not being in the euro saak...</td>\n",
       "      <td>1270051200</td>\n",
       "    </tr>\n",
       "    <tr>\n",
       "      <th>1</th>\n",
       "      <td>2010/apr/02</td>\n",
       "      <td>lawyer urges saudi king to spare psychic diary...</td>\n",
       "      <td>1270137600</td>\n",
       "    </tr>\n",
       "    <tr>\n",
       "      <th>2</th>\n",
       "      <td>2010/apr/03</td>\n",
       "      <td>criticism does not exclude muslims from the po...</td>\n",
       "      <td>1270224000</td>\n",
       "    </tr>\n",
       "    <tr>\n",
       "      <th>3</th>\n",
       "      <td>2010/apr/04</td>\n",
       "      <td>white supremacist eugene terre blanche is hack...</td>\n",
       "      <td>1270310400</td>\n",
       "    </tr>\n",
       "    <tr>\n",
       "      <th>4</th>\n",
       "      <td>2010/apr/05</td>\n",
       "      <td>man says daughter was moscow bomber nine miner...</td>\n",
       "      <td>1270396800</td>\n",
       "    </tr>\n",
       "  </tbody>\n",
       "</table>\n",
       "</div>"
      ],
      "text/plain": [
       "          date                                               name   timestamp\n",
       "0  2010/apr/01  the hidden costs of not being in the euro saak...  1270051200\n",
       "1  2010/apr/02  lawyer urges saudi king to spare psychic diary...  1270137600\n",
       "2  2010/apr/03  criticism does not exclude muslims from the po...  1270224000\n",
       "3  2010/apr/04  white supremacist eugene terre blanche is hack...  1270310400\n",
       "4  2010/apr/05  man says daughter was moscow bomber nine miner...  1270396800"
      ]
     },
     "execution_count": 28,
     "metadata": {},
     "output_type": "execute_result"
    }
   ],
   "source": [
    "news.head()"
   ]
  },
  {
   "cell_type": "code",
   "execution_count": 29,
   "metadata": {
    "collapsed": true
   },
   "outputs": [],
   "source": [
    "news.to_csv('news.csv', index=False)"
   ]
  },
  {
   "cell_type": "code",
   "execution_count": 30,
   "metadata": {
    "collapsed": true
   },
   "outputs": [],
   "source": [
    "news = pd.read_csv('news.csv')\n",
    "news = news.sort_values(by=['timestamp'], ascending=1)\n",
    "currency = pd.read_csv('currency.csv')\n",
    "news = pd.merge(news, currency, on='timestamp', how='inner')\n",
    "news.drop(['date', 'timestamp'], inplace=True, axis=1)\n",
    "news.to_csv('data.csv', index=False)"
   ]
  }
 ],
 "metadata": {
  "kernelspec": {
   "display_name": "Python 3",
   "language": "python",
   "name": "python3"
  },
  "language_info": {
   "codemirror_mode": {
    "name": "ipython",
    "version": 3
   },
   "file_extension": ".py",
   "mimetype": "text/x-python",
   "name": "python",
   "nbconvert_exporter": "python",
   "pygments_lexer": "ipython3",
   "version": "3.6.0"
  }
 },
 "nbformat": 4,
 "nbformat_minor": 2
}
