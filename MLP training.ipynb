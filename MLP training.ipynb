{
 "cells": [
  {
   "cell_type": "code",
   "execution_count": 1,
   "metadata": {},
   "outputs": [
    {
     "name": "stderr",
     "output_type": "stream",
     "text": [
      "Using TensorFlow backend.\n"
     ]
    }
   ],
   "source": [
    "import pandas as pd\n",
    "from keras.models import Sequential\n",
    "from keras.layers import Dense, Activation, Dropout\n",
    "from keras.utils import np_utils\n",
    "import numpy as np\n",
    "from scipy.sparse import csr_matrix, hstack\n",
    "from sklearn.model_selection import train_test_split\n",
    "import re\n",
    "from datetime import datetime\n",
    "from matplotlib import pyplot as plt\n",
    "from sklearn.feature_extraction.text import CountVectorizer, TfidfVectorizer"
   ]
  },
  {
   "cell_type": "code",
   "execution_count": 2,
   "metadata": {},
   "outputs": [
    {
     "name": "stdout",
     "output_type": "stream",
     "text": [
      "(2550, 2)\n"
     ]
    },
    {
     "data": {
      "text/html": [
       "<div>\n",
       "<table border=\"1\" class=\"dataframe\">\n",
       "  <thead>\n",
       "    <tr style=\"text-align: right;\">\n",
       "      <th></th>\n",
       "      <th>name</th>\n",
       "      <th>currency</th>\n",
       "    </tr>\n",
       "  </thead>\n",
       "  <tbody>\n",
       "    <tr>\n",
       "      <th>0</th>\n",
       "      <td>cia exposed by frontline role along afghanista...</td>\n",
       "      <td>1.616810</td>\n",
       "    </tr>\n",
       "    <tr>\n",
       "      <th>1</th>\n",
       "      <td>somali charged with murder attempt on muhammad...</td>\n",
       "      <td>1.620700</td>\n",
       "    </tr>\n",
       "    <tr>\n",
       "      <th>2</th>\n",
       "      <td>ethiopia firm recycling tyres into shoes does ...</td>\n",
       "      <td>1.616800</td>\n",
       "    </tr>\n",
       "    <tr>\n",
       "      <th>3</th>\n",
       "      <td>militants behind embassy threats killed  yemen...</td>\n",
       "      <td>1.610591</td>\n",
       "    </tr>\n",
       "    <tr>\n",
       "      <th>4</th>\n",
       "      <td>more body searches  sniffer dogs and luggage i...</td>\n",
       "      <td>1.600088</td>\n",
       "    </tr>\n",
       "  </tbody>\n",
       "</table>\n",
       "</div>"
      ],
      "text/plain": [
       "                                                name  currency\n",
       "0  cia exposed by frontline role along afghanista...  1.616810\n",
       "1  somali charged with murder attempt on muhammad...  1.620700\n",
       "2  ethiopia firm recycling tyres into shoes does ...  1.616800\n",
       "3  militants behind embassy threats killed  yemen...  1.610591\n",
       "4  more body searches  sniffer dogs and luggage i...  1.600088"
      ]
     },
     "execution_count": 2,
     "metadata": {},
     "output_type": "execute_result"
    }
   ],
   "source": [
    "data = pd.read_csv('data.csv')\n",
    "print(data.shape)\n",
    "data.head()"
   ]
  },
  {
   "cell_type": "code",
   "execution_count": 3,
   "metadata": {
    "collapsed": true
   },
   "outputs": [],
   "source": [
    "Y = data.as_matrix(columns=['currency']).reshape(-1)"
   ]
  },
  {
   "cell_type": "code",
   "execution_count": 4,
   "metadata": {
    "collapsed": true
   },
   "outputs": [],
   "source": [
    "num_classes = 2"
   ]
  },
  {
   "cell_type": "code",
   "execution_count": 5,
   "metadata": {},
   "outputs": [],
   "source": [
    "Y = np.gradient(Y)\n",
    "Y = np.where(Y > 0, 1, 0)"
   ]
  },
  {
   "cell_type": "code",
   "execution_count": 6,
   "metadata": {},
   "outputs": [],
   "source": [
    "# Y = np.gradient(Y)\n",
    "# Y[np.where(Y > 1e-3)] = 2\n",
    "# Y[np.where((Y >= -1e-3) & (Y <= 1e-3))] = 1\n",
    "# Y[np.where(Y < -1e-3)] = 0\n",
    "# np.sum(Y[:, 1])"
   ]
  },
  {
   "cell_type": "code",
   "execution_count": 7,
   "metadata": {
    "collapsed": true
   },
   "outputs": [],
   "source": [
    "Y = np_utils.to_categorical(Y, num_classes)"
   ]
  },
  {
   "cell_type": "code",
   "execution_count": 8,
   "metadata": {
    "collapsed": true
   },
   "outputs": [],
   "source": [
    "vectorizer = TfidfVectorizer(min_df=1)\n",
    "X = vectorizer.fit_transform(data['name'].tolist())"
   ]
  },
  {
   "cell_type": "code",
   "execution_count": 9,
   "metadata": {
    "collapsed": true
   },
   "outputs": [],
   "source": [
    "X_train, X_test, y_train, y_test = train_test_split(X, Y, train_size=0.8)"
   ]
  },
  {
   "cell_type": "code",
   "execution_count": 10,
   "metadata": {},
   "outputs": [],
   "source": [
    "model = Sequential()\n",
    "model.add(Dense(3000, input_shape=(X_train.shape[1],), activation='relu'))\n",
    "model.add(Dropout(0))\n",
    "model.add(Dense(50, activation='relu'))\n",
    "model.add(Dropout(0.5))\n",
    "model.add(Dense(num_classes, activation='softmax'))"
   ]
  },
  {
   "cell_type": "code",
   "execution_count": 11,
   "metadata": {},
   "outputs": [
    {
     "name": "stdout",
     "output_type": "stream",
     "text": [
      "_________________________________________________________________\n",
      "Layer (type)                 Output Shape              Param #   \n",
      "=================================================================\n",
      "dense_1 (Dense)              (None, 3000)              89877000  \n",
      "_________________________________________________________________\n",
      "dropout_1 (Dropout)          (None, 3000)              0         \n",
      "_________________________________________________________________\n",
      "dense_2 (Dense)              (None, 50)                150050    \n",
      "_________________________________________________________________\n",
      "dropout_2 (Dropout)          (None, 50)                0         \n",
      "_________________________________________________________________\n",
      "dense_3 (Dense)              (None, 2)                 102       \n",
      "=================================================================\n",
      "Total params: 90,027,152\n",
      "Trainable params: 90,027,152\n",
      "Non-trainable params: 0\n",
      "_________________________________________________________________\n"
     ]
    }
   ],
   "source": [
    "model.compile(optimizer='RMSprop',\n",
    "              loss='categorical_crossentropy',\n",
    "              metrics=['accuracy'])\n",
    "model.summary()"
   ]
  },
  {
   "cell_type": "code",
   "execution_count": 12,
   "metadata": {
    "scrolled": true
   },
   "outputs": [],
   "source": [
    "# history = model.fit(X_train.toarray(), \n",
    "#                     y_train, \n",
    "#                     epochs=20, \n",
    "#                     batch_size=128)\n",
    "# score = model.evaluate(X_test.toarray(), \n",
    "#                y_test, \n",
    "#                batch_size=128)\n",
    "# print('Test score:', score[0])\n",
    "# print('Test accuracy:', score[1])"
   ]
  },
  {
   "cell_type": "code",
   "execution_count": 13,
   "metadata": {
    "scrolled": true
   },
   "outputs": [
    {
     "name": "stdout",
     "output_type": "stream",
     "text": [
      "Train on 2040 samples, validate on 510 samples\n",
      "Epoch 1/20\n",
      "2040/2040 [==============================] - 2s - loss: 0.6961 - acc: 0.4975 - val_loss: 0.7164 - val_acc: 0.4667\n",
      "Epoch 2/20\n",
      "2040/2040 [==============================] - 1s - loss: 0.5536 - acc: 0.7525 - val_loss: 0.7872 - val_acc: 0.5137\n",
      "Epoch 3/20\n",
      "2040/2040 [==============================] - 2s - loss: 0.1583 - acc: 0.9637 - val_loss: 1.0413 - val_acc: 0.5255\n",
      "Epoch 4/20\n",
      "2040/2040 [==============================] - 1s - loss: 0.0222 - acc: 0.9985 - val_loss: 1.4878 - val_acc: 0.5294\n",
      "Epoch 5/20\n",
      "2040/2040 [==============================] - 1s - loss: 0.0052 - acc: 1.0000 - val_loss: 1.5409 - val_acc: 0.5059\n",
      "Epoch 6/20\n",
      "2040/2040 [==============================] - 2s - loss: 0.0021 - acc: 1.0000 - val_loss: 1.9058 - val_acc: 0.4961\n",
      "Epoch 7/20\n",
      "2040/2040 [==============================] - 2s - loss: 8.4556e-04 - acc: 1.0000 - val_loss: 2.2909 - val_acc: 0.4922\n",
      "Epoch 8/20\n",
      "2040/2040 [==============================] - 2s - loss: 0.0449 - acc: 0.9848 - val_loss: 2.9462 - val_acc: 0.4824\n",
      "Epoch 9/20\n",
      "2040/2040 [==============================] - 2s - loss: 6.4572e-04 - acc: 1.0000 - val_loss: 2.5162 - val_acc: 0.5039\n",
      "Epoch 10/20\n",
      "2040/2040 [==============================] - 2s - loss: 2.7693e-04 - acc: 1.0000 - val_loss: 2.6172 - val_acc: 0.4980\n",
      "Epoch 11/20\n",
      "2040/2040 [==============================] - 2s - loss: 1.2057e-04 - acc: 1.0000 - val_loss: 2.7528 - val_acc: 0.4961\n",
      "Epoch 12/20\n",
      "2040/2040 [==============================] - 2s - loss: 4.9631e-04 - acc: 0.9995 - val_loss: 2.9121 - val_acc: 0.4882\n",
      "Epoch 13/20\n",
      "2040/2040 [==============================] - 2s - loss: 4.0309e-05 - acc: 1.0000 - val_loss: 3.0348 - val_acc: 0.5000\n",
      "Epoch 14/20\n",
      "2040/2040 [==============================] - 2s - loss: 1.5626e-04 - acc: 1.0000 - val_loss: 3.5941 - val_acc: 0.4882\n",
      "Epoch 15/20\n",
      "2040/2040 [==============================] - 2s - loss: 3.3986e-05 - acc: 1.0000 - val_loss: 3.4201 - val_acc: 0.4863\n",
      "Epoch 16/20\n",
      "2040/2040 [==============================] - 2s - loss: 1.1559e-05 - acc: 1.0000 - val_loss: 3.5946 - val_acc: 0.4863\n",
      "Epoch 17/20\n",
      "2040/2040 [==============================] - 2s - loss: 1.5776e-05 - acc: 1.0000 - val_loss: 3.9477 - val_acc: 0.4745\n",
      "Epoch 18/20\n",
      "2040/2040 [==============================] - 2s - loss: 8.4808e-06 - acc: 1.0000 - val_loss: 4.0450 - val_acc: 0.4882\n",
      "Epoch 19/20\n",
      "2040/2040 [==============================] - 2s - loss: 4.8277e-05 - acc: 1.0000 - val_loss: 4.1926 - val_acc: 0.4961\n",
      "Epoch 20/20\n",
      "2040/2040 [==============================] - 2s - loss: 1.2744e-05 - acc: 1.0000 - val_loss: 4.8690 - val_acc: 0.5137\n"
     ]
    }
   ],
   "source": [
    "history = model.fit(X.toarray(), \n",
    "                    Y, \n",
    "                    epochs=20,\n",
    "                    validation_split=0.2,\n",
    "                    batch_size=100)"
   ]
  },
  {
   "cell_type": "code",
   "execution_count": null,
   "metadata": {
    "collapsed": true
   },
   "outputs": [],
   "source": []
  },
  {
   "cell_type": "code",
   "execution_count": null,
   "metadata": {
    "collapsed": true
   },
   "outputs": [],
   "source": []
  }
 ],
 "metadata": {
  "kernelspec": {
   "display_name": "Python 3",
   "language": "python",
   "name": "python3"
  },
  "language_info": {
   "codemirror_mode": {
    "name": "ipython",
    "version": 3
   },
   "file_extension": ".py",
   "mimetype": "text/x-python",
   "name": "python",
   "nbconvert_exporter": "python",
   "pygments_lexer": "ipython3",
   "version": "3.6.0"
  }
 },
 "nbformat": 4,
 "nbformat_minor": 2
}
