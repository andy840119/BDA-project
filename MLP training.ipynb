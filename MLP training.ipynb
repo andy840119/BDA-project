{
 "cells": [
  {
   "cell_type": "code",
   "execution_count": 1,
   "metadata": {},
   "outputs": [
    {
     "name": "stderr",
     "output_type": "stream",
     "text": [
      "Using TensorFlow backend.\n"
     ]
    }
   ],
   "source": [
    "import pandas as pd\n",
    "from keras.models import Sequential\n",
    "from scipy.ndimage.interpolation import shift\n",
    "from keras import optimizers\n",
    "from keras.layers import Dense, Activation, Dropout\n",
    "from keras.layers import Conv1D, GlobalAveragePooling1D, MaxPooling1D\n",
    "from keras.utils import np_utils\n",
    "import numpy as np\n",
    "from scipy.sparse import csr_matrix, hstack\n",
    "from sklearn.model_selection import train_test_split\n",
    "import re\n",
    "from matplotlib import pyplot as plt\n",
    "from sklearn.feature_extraction.text import CountVectorizer, TfidfVectorizer\n",
    "from sklearn.metrics import confusion_matrix, classification_report\n",
    "from sklearn import preprocessing"
   ]
  },
  {
   "cell_type": "code",
   "execution_count": 2,
   "metadata": {},
   "outputs": [
    {
     "name": "stdout",
     "output_type": "stream",
     "text": [
      "(2554, 2)\n"
     ]
    }
   ],
   "source": [
    "data = pd.read_csv('data.csv')\n",
    "print(data.shape)"
   ]
  },
  {
   "cell_type": "code",
   "execution_count": 3,
   "metadata": {},
   "outputs": [
    {
     "name": "stdout",
     "output_type": "stream",
     "text": [
      "[ 1.   1.   1.   0.5 -0.5 -1.  -1.  -1. ]\n",
      "[ 0.5   0.5   0.5   0.25 -0.25 -0.5  -0.5  -0.5 ]\n"
     ]
    }
   ],
   "source": [
    "t = np.array([0,1,2,3,3,2,1,0]) \n",
    "print(np.gradient(t))\n",
    "print(np.gradient(t,2))"
   ]
  },
  {
   "cell_type": "code",
   "execution_count": 4,
   "metadata": {
    "collapsed": true
   },
   "outputs": [],
   "source": [
    "Y = data.as_matrix(columns=['currency']).reshape(-1)\n",
    "Y = np.gradient(Y, 2)\n",
    "#Y = np.gradient(Y)"
   ]
  },
  {
   "cell_type": "code",
   "execution_count": 5,
   "metadata": {
    "collapsed": true
   },
   "outputs": [],
   "source": [
    "num_classes = None"
   ]
  },
  {
   "cell_type": "code",
   "execution_count": 6,
   "metadata": {},
   "outputs": [
    {
     "name": "stdout",
     "output_type": "stream",
     "text": [
      "[ 755 1078  721]\n",
      "0.422083007048\n"
     ]
    }
   ],
   "source": [
    "mutli_cls = 1\n",
    "if mutli_cls ==0:\n",
    "    Y = np.where(Y > 0, 1, 0)\n",
    "    num_classes = 2\n",
    "    f = np.bincount(Y)\n",
    "    print(f)\n",
    "else:\n",
    "    num_classes = 3\n",
    "    offset = 1e-3\n",
    "    Y[np.where(Y >= offset)] = 2\n",
    "    Y[np.where((Y > -offset) & (Y < offset))] = 1\n",
    "    Y[np.where(Y <= -offset)] = 0\n",
    "    Y = Y.astype('int64')\n",
    "    f = np.bincount(Y)\n",
    "    print(f)\n",
    "    print(1-((f[0]+f[2])/np.sum(f)))\n",
    "Y = shift(Y, -2, cval=1)"
   ]
  },
  {
   "cell_type": "code",
   "execution_count": 7,
   "metadata": {},
   "outputs": [
    {
     "data": {
      "text/plain": [
       "array([[ 1.,  0.,  0.],\n",
       "       [ 1.,  0.,  0.],\n",
       "       [ 1.,  0.,  0.],\n",
       "       ..., \n",
       "       [ 0.,  1.,  0.],\n",
       "       [ 0.,  1.,  0.],\n",
       "       [ 0.,  1.,  0.]])"
      ]
     },
     "execution_count": 7,
     "metadata": {},
     "output_type": "execute_result"
    }
   ],
   "source": [
    "Y = np_utils.to_categorical(Y, num_classes)\n",
    "Y"
   ]
  },
  {
   "cell_type": "code",
   "execution_count": 8,
   "metadata": {},
   "outputs": [
    {
     "data": {
      "text/plain": [
       "<2554x35799 sparse matrix of type '<class 'numpy.int64'>'\n",
       "\twith 797524 stored elements in Compressed Sparse Row format>"
      ]
     },
     "execution_count": 8,
     "metadata": {},
     "output_type": "execute_result"
    }
   ],
   "source": [
    "vectorizer = CountVectorizer()\n",
    "X = vectorizer.fit_transform(data['name'].tolist())\n",
    "X"
   ]
  },
  {
   "cell_type": "code",
   "execution_count": 9,
   "metadata": {
    "collapsed": true
   },
   "outputs": [],
   "source": [
    "X_train, X_test, y_train, y_test = train_test_split(X, Y, train_size=0.8)\n",
    "X_train = X_train.toarray()\n",
    "X_test = X_test.toarray()"
   ]
  },
  {
   "cell_type": "code",
   "execution_count": 123,
   "metadata": {
    "collapsed": true
   },
   "outputs": [],
   "source": [
    "model = Sequential()\n",
    "\n",
    "model.add(Dense(1000, activation='relu', input_shape=(X.shape[1],)))\n",
    "model.add(Dropout(0.75))\n",
    "model.add(Dense(200, activation='softmax'))\n",
    "model.add(Dropout(0.5))\n",
    "model.add(Dense(200, activation='softmax'))\n",
    "model.add(Dropout(0.5))\n",
    "model.add(Dense(200, activation='softmax'))\n",
    "model.add(Dropout(0.5))\n",
    "model.add(Dense(num_classes, activation='softmax'))"
   ]
  },
  {
   "cell_type": "code",
   "execution_count": 124,
   "metadata": {},
   "outputs": [
    {
     "name": "stdout",
     "output_type": "stream",
     "text": [
      "_________________________________________________________________\n",
      "Layer (type)                 Output Shape              Param #   \n",
      "=================================================================\n",
      "dense_36 (Dense)             (None, 1000)              35800000  \n",
      "_________________________________________________________________\n",
      "dropout_29 (Dropout)         (None, 1000)              0         \n",
      "_________________________________________________________________\n",
      "dense_37 (Dense)             (None, 200)               200200    \n",
      "_________________________________________________________________\n",
      "dropout_30 (Dropout)         (None, 200)               0         \n",
      "_________________________________________________________________\n",
      "dense_38 (Dense)             (None, 200)               40200     \n",
      "_________________________________________________________________\n",
      "dropout_31 (Dropout)         (None, 200)               0         \n",
      "_________________________________________________________________\n",
      "dense_39 (Dense)             (None, 200)               40200     \n",
      "_________________________________________________________________\n",
      "dropout_32 (Dropout)         (None, 200)               0         \n",
      "_________________________________________________________________\n",
      "dense_40 (Dense)             (None, 3)                 603       \n",
      "=================================================================\n",
      "Total params: 36,081,203\n",
      "Trainable params: 36,081,203\n",
      "Non-trainable params: 0\n",
      "_________________________________________________________________\n"
     ]
    }
   ],
   "source": [
    "model.compile(optimizer='RMSprop',\n",
    "              loss='categorical_crossentropy',\n",
    "              metrics=['accuracy'])\n",
    "model.summary()"
   ]
  },
  {
   "cell_type": "code",
   "execution_count": 125,
   "metadata": {
    "collapsed": true,
    "scrolled": true
   },
   "outputs": [],
   "source": [
    "# history = model.fit(X_train.toarray(), \n",
    "#                     y_train, \n",
    "#                     epochs=20, \n",
    "#                     batch_size=128)\n",
    "# score = model.evaluate(X_test.toarray(), \n",
    "#                y_test, \n",
    "#                batch_size=128)\n",
    "# print('Test score:', score[0])\n",
    "# print('Test accuracy:', score[1])"
   ]
  },
  {
   "cell_type": "code",
   "execution_count": 126,
   "metadata": {
    "scrolled": true
   },
   "outputs": [
    {
     "name": "stdout",
     "output_type": "stream",
     "text": [
      "Train on 2043 samples, validate on 511 samples\n",
      "Epoch 1/10\n",
      "2043/2043 [==============================] - 1s - loss: 1.0956 - acc: 0.4072 - val_loss: 1.0939 - val_acc: 0.4090\n",
      "Epoch 2/10\n",
      "2043/2043 [==============================] - 0s - loss: 1.0914 - acc: 0.4258 - val_loss: 1.0913 - val_acc: 0.4090\n",
      "Epoch 3/10\n",
      "2043/2043 [==============================] - 0s - loss: 1.0882 - acc: 0.4258 - val_loss: 1.0895 - val_acc: 0.4090\n",
      "Epoch 4/10\n",
      "2043/2043 [==============================] - 0s - loss: 1.0860 - acc: 0.4258 - val_loss: 1.0881 - val_acc: 0.4090\n",
      "Epoch 5/10\n",
      "2043/2043 [==============================] - 0s - loss: 1.0842 - acc: 0.4258 - val_loss: 1.0872 - val_acc: 0.4090\n",
      "Epoch 6/10\n",
      "2043/2043 [==============================] - 0s - loss: 1.0831 - acc: 0.4258 - val_loss: 1.0866 - val_acc: 0.4090\n",
      "Epoch 7/10\n",
      "2043/2043 [==============================] - 0s - loss: 1.0819 - acc: 0.4258 - val_loss: 1.0862 - val_acc: 0.4090\n",
      "Epoch 8/10\n",
      "2043/2043 [==============================] - 0s - loss: 1.0811 - acc: 0.4258 - val_loss: 1.0861 - val_acc: 0.4090\n",
      "Epoch 9/10\n",
      "2043/2043 [==============================] - 0s - loss: 1.0810 - acc: 0.4258 - val_loss: 1.0860 - val_acc: 0.4090\n",
      "Epoch 10/10\n",
      "2043/2043 [==============================] - 0s - loss: 1.0806 - acc: 0.4258 - val_loss: 1.0860 - val_acc: 0.4090\n"
     ]
    }
   ],
   "source": [
    "history = model.fit(X_train, y_train, \n",
    "                    epochs=10,\n",
    "                    validation_data=(X_test, y_test),\n",
    "                    batch_size=128)"
   ]
  },
  {
   "cell_type": "code",
   "execution_count": 127,
   "metadata": {},
   "outputs": [
    {
     "name": "stdout",
     "output_type": "stream",
     "text": [
      "[[  0 155   0]\n",
      " [  0 209   0]\n",
      " [  0 147   0]]\n",
      "             precision    recall  f1-score   support\n",
      "\n",
      "       down       0.00      0.00      0.00       155\n",
      "        non       0.41      1.00      0.58       209\n",
      "         up       0.00      0.00      0.00       147\n",
      "\n",
      "avg / total       0.17      0.41      0.24       511\n",
      "\n"
     ]
    },
    {
     "name": "stderr",
     "output_type": "stream",
     "text": [
      "/usr/lib/python3.6/site-packages/sklearn/metrics/classification.py:1113: UndefinedMetricWarning: Precision and F-score are ill-defined and being set to 0.0 in labels with no predicted samples.\n",
      "  'precision', 'predicted', average, warn_for)\n"
     ]
    }
   ],
   "source": [
    "pred = np.argmax(model.predict(X_test), axis=1)\n",
    "true = np.argmax(y_test, axis=1)\n",
    "if mutli_cls==0:\n",
    "    print(confusion_matrix(true, pred, labels=[0,1]))\n",
    "    target_names = ['down','up']\n",
    "    print(classification_report(true, pred, target_names=target_names))\n",
    "else:\n",
    "    print(confusion_matrix(true, pred, labels=[0,1,2]))\n",
    "    target_names = ['down','non','up']\n",
    "    print(classification_report(true, pred, target_names=target_names))"
   ]
  },
  {
   "cell_type": "code",
   "execution_count": null,
   "metadata": {
    "collapsed": true
   },
   "outputs": [],
   "source": []
  }
 ],
 "metadata": {
  "kernelspec": {
   "display_name": "Python 3",
   "language": "python",
   "name": "python3"
  },
  "language_info": {
   "codemirror_mode": {
    "name": "ipython",
    "version": 3
   },
   "file_extension": ".py",
   "mimetype": "text/x-python",
   "name": "python",
   "nbconvert_exporter": "python",
   "pygments_lexer": "ipython3",
   "version": "3.6.0"
  }
 },
 "nbformat": 4,
 "nbformat_minor": 2
}
