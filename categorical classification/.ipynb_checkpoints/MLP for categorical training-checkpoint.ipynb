{
 "cells": [
  {
   "cell_type": "code",
   "execution_count": 1,
   "metadata": {},
   "outputs": [
    {
     "name": "stderr",
     "output_type": "stream",
     "text": [
      "Using TensorFlow backend.\n"
     ]
    }
   ],
   "source": [
    "import pandas as pd\n",
    "import numpy as np\n",
    "from keras.models import Sequential\n",
    "from scipy.ndimage.interpolation import shift\n",
    "from keras import optimizers\n",
    "from keras.layers import Dense, Activation, Dropout, LSTM, Merge, Input, Embedding\n",
    "from keras.layers import Conv1D, GlobalAveragePooling1D, MaxPooling1D\n",
    "from keras.utils import np_utils\n",
    "from scipy.sparse import csr_matrix, hstack\n",
    "from sklearn.model_selection import train_test_split\n",
    "from matplotlib import pyplot as plt\n",
    "from sklearn.feature_extraction.text import CountVectorizer, TfidfVectorizer\n",
    "from sklearn.metrics import confusion_matrix, classification_report\n",
    "from sklearn import preprocessing\n",
    "from sklearn.externals import joblib\n",
    "from sklearn.model_selection import cross_val_predict, cross_val_score, StratifiedKFold, KFold\n",
    "from sklearn.metrics import confusion_matrix, classification_report, mean_squared_error"
   ]
  },
  {
   "cell_type": "code",
   "execution_count": 2,
   "metadata": {
    "collapsed": true
   },
   "outputs": [],
   "source": [
    "data = pd.read_csv('../data_for_categorical.csv')"
   ]
  },
  {
   "cell_type": "code",
   "execution_count": 3,
   "metadata": {},
   "outputs": [
    {
     "name": "stdout",
     "output_type": "stream",
     "text": [
      "(396607, 2)\n"
     ]
    }
   ],
   "source": [
    "Classification = [\"world\",\"politics\",\"sport\",\"football\",\"culture\",\"business\",\n",
    "                  \"lifeandstyle\", \"fashion\",\"environment\",\"technology\",\"travel\"]\n",
    "data = data.loc[data['class'].isin(Classification)]\n",
    "print(data.shape)"
   ]
  },
  {
   "cell_type": "code",
   "execution_count": 4,
   "metadata": {},
   "outputs": [
    {
     "data": {
      "text/plain": [
       "array([10, 10, 10, ...,  9,  9,  9])"
      ]
     },
     "execution_count": 4,
     "metadata": {},
     "output_type": "execute_result"
    }
   ],
   "source": [
    "Y = data.as_matrix(columns=['class']).reshape(-1)\n",
    "le = preprocessing.LabelEncoder()\n",
    "le.fit(Y)\n",
    "num_classes = len(list(le.classes_))\n",
    "Y = le.transform(Y)\n",
    "Y"
   ]
  },
  {
   "cell_type": "code",
   "execution_count": 5,
   "metadata": {
    "scrolled": true
   },
   "outputs": [
    {
     "data": {
      "text/plain": [
       "array([[ 0.,  0.,  0., ...,  0.,  0.,  1.],\n",
       "       [ 0.,  0.,  0., ...,  0.,  0.,  1.],\n",
       "       [ 0.,  0.,  0., ...,  0.,  0.,  1.],\n",
       "       ..., \n",
       "       [ 0.,  0.,  0., ...,  0.,  1.,  0.],\n",
       "       [ 0.,  0.,  0., ...,  0.,  1.,  0.],\n",
       "       [ 0.,  0.,  0., ...,  0.,  1.,  0.]])"
      ]
     },
     "execution_count": 5,
     "metadata": {},
     "output_type": "execute_result"
    }
   ],
   "source": [
    "Y = np_utils.to_categorical(Y, num_classes)\n",
    "Y"
   ]
  },
  {
   "cell_type": "code",
   "execution_count": 6,
   "metadata": {},
   "outputs": [
    {
     "data": {
      "text/plain": [
       "{0: 0.10709089854692429,\n",
       " 1: 0.019916441212585758,\n",
       " 2: 0.055447836271170205,\n",
       " 3: 0.014258447279044495,\n",
       " 4: 0.1847572029742289,\n",
       " 5: 0.093505661776015048,\n",
       " 6: 0.075989581626143762,\n",
       " 7: 0.19269705274995147,\n",
       " 8: 0.054696462745236471,\n",
       " 9: 0.020781277183710829,\n",
       " 10: 0.18085913763498879}"
      ]
     },
     "execution_count": 6,
     "metadata": {},
     "output_type": "execute_result"
    }
   ],
   "source": [
    "class_weight = {}\n",
    "weight = np.sum(Y, axis=0)\n",
    "total = Y.shape[0]\n",
    "for i in range(11):\n",
    "    class_weight[i] = weight[i]/total\n",
    "class_weight"
   ]
  },
  {
   "cell_type": "code",
   "execution_count": 7,
   "metadata": {},
   "outputs": [
    {
     "data": {
      "text/plain": [
       "<396607x12097 sparse matrix of type '<class 'numpy.float64'>'\n",
       "\twith 4098415 stored elements in Compressed Sparse Row format>"
      ]
     },
     "execution_count": 7,
     "metadata": {},
     "output_type": "execute_result"
    }
   ],
   "source": [
    "vectorizer = TfidfVectorizer(min_df=60, ngram_range=(1, 3))\n",
    "X = vectorizer.fit_transform(data['name'].tolist())\n",
    "X"
   ]
  },
  {
   "cell_type": "code",
   "execution_count": 8,
   "metadata": {
    "collapsed": true
   },
   "outputs": [],
   "source": [
    "# def create_branch():\n",
    "#     first_model = Sequential()\n",
    "#     first_model.add(Dense(12, activation='relu', input_shape=(X.shape[1],), bias_initializer='RandomNormal'))\n",
    "#     first_model.add(Dropout(0.5))\n",
    "#     first_model.add(Dense(100, activation='relu', input_shape=(X.shape[1],), bias_initializer='RandomNormal'))\n",
    "#     first_model.add(Dropout(0.5))\n",
    "#     first_model.add(Dense(100, activation='relu', input_shape=(X.shape[1],), bias_initializer='RandomNormal'))\n",
    "#     first_model.add(Dropout(0.5))\n",
    "#     return first_model"
   ]
  },
  {
   "cell_type": "code",
   "execution_count": 20,
   "metadata": {
    "collapsed": true
   },
   "outputs": [],
   "source": [
    "def create_model():\n",
    "    model = Sequential()\n",
    "    model.add(Dense(14, activation='relu', input_shape=(X.shape[1],), bias_initializer='RandomNormal'))\n",
    "    model.add(Dropout(0.5))\n",
    "    model.add(Dense(14, activation='relu', input_shape=(X.shape[1],), bias_initializer='RandomNormal'))\n",
    "    model.add(Dropout(0.5))\n",
    "    model.add(Dense(14, activation='relu', input_shape=(X.shape[1],), bias_initializer='RandomNormal'))\n",
    "    model.add(Dropout(0.5))\n",
    "    model.add(Dense(num_classes, activation='softmax'))\n",
    "    model.compile(optimizer='RMSprop',\n",
    "                  loss='categorical_crossentropy',\n",
    "                  metrics=['accuracy'])\n",
    "    model.summary()\n",
    "    return model"
   ]
  },
  {
   "cell_type": "code",
   "execution_count": 10,
   "metadata": {
    "collapsed": true,
    "scrolled": false
   },
   "outputs": [],
   "source": [
    "def train_and_evaluate_model(model, X_train, y_train, X_test, y_test):\n",
    "    history = model.fit(X_train, y_train, \n",
    "                        epochs=6,\n",
    "                        batch_size=10000)\n",
    "    score = model.evaluate(X_test, y_test)[1]\n",
    "    print('\\n valid acc :%.4f'%(score))\n",
    "    pred = np.argmax(model.predict(X_test), axis=1)\n",
    "    true = np.argmax(y_test, axis=1)\n",
    "    print(classification_report(true, pred, target_names=list(le.classes_)))\n",
    "    return score"
   ]
  },
  {
   "cell_type": "code",
   "execution_count": 11,
   "metadata": {
    "collapsed": true
   },
   "outputs": [],
   "source": [
    "X_train, X_test, y_train, y_test = train_test_split(X, Y, train_size=0.8)\n",
    "X_train= X_train.toarray()\n",
    "X_test = X_test.toarray()\n",
    "#X =X.toarray()"
   ]
  },
  {
   "cell_type": "code",
   "execution_count": 21,
   "metadata": {},
   "outputs": [
    {
     "name": "stdout",
     "output_type": "stream",
     "text": [
      "_________________________________________________________________\n",
      "Layer (type)                 Output Shape              Param #   \n",
      "=================================================================\n",
      "dense_12 (Dense)             (None, 14)                169372    \n",
      "_________________________________________________________________\n",
      "dropout_9 (Dropout)          (None, 14)                0         \n",
      "_________________________________________________________________\n",
      "dense_13 (Dense)             (None, 14)                210       \n",
      "_________________________________________________________________\n",
      "dropout_10 (Dropout)         (None, 14)                0         \n",
      "_________________________________________________________________\n",
      "dense_14 (Dense)             (None, 14)                210       \n",
      "_________________________________________________________________\n",
      "dropout_11 (Dropout)         (None, 14)                0         \n",
      "_________________________________________________________________\n",
      "dense_15 (Dense)             (None, 11)                165       \n",
      "=================================================================\n",
      "Total params: 169,957\n",
      "Trainable params: 169,957\n",
      "Non-trainable params: 0\n",
      "_________________________________________________________________\n"
     ]
    }
   ],
   "source": [
    "model = create_model()"
   ]
  },
  {
   "cell_type": "code",
   "execution_count": null,
   "metadata": {},
   "outputs": [
    {
     "name": "stdout",
     "output_type": "stream",
     "text": [
      "Train on 317285 samples, validate on 79322 samples\n",
      "Epoch 1/100\n",
      "317285/317285 [==============================] - 11s - loss: 0.3102 - acc: 0.1654 - val_loss: 2.2143 - val_acc: 0.1819\n",
      "Epoch 2/100\n",
      "317285/317285 [==============================] - 11s - loss: 0.2795 - acc: 0.1928 - val_loss: 2.0499 - val_acc: 0.1819\n",
      "Epoch 3/100\n",
      "317285/317285 [==============================] - 11s - loss: 0.2542 - acc: 0.2207 - val_loss: 1.9159 - val_acc: 0.3021\n",
      "Epoch 4/100\n",
      "317285/317285 [==============================] - 11s - loss: 0.2337 - acc: 0.2611 - val_loss: 1.7905 - val_acc: 0.4610\n",
      "Epoch 5/100\n",
      "317285/317285 [==============================] - 11s - loss: 0.2158 - acc: 0.3013 - val_loss: 1.6688 - val_acc: 0.4968\n",
      "Epoch 6/100\n",
      "317285/317285 [==============================] - 11s - loss: 0.2013 - acc: 0.3370 - val_loss: 1.5783 - val_acc: 0.5104\n",
      "Epoch 7/100\n",
      "317285/317285 [==============================] - 11s - loss: 0.1890 - acc: 0.3671 - val_loss: 1.5121 - val_acc: 0.5157\n",
      "Epoch 8/100\n",
      "317285/317285 [==============================] - 11s - loss: 0.1792 - acc: 0.3951 - val_loss: 1.4647 - val_acc: 0.5183\n",
      "Epoch 9/100\n",
      "317285/317285 [==============================] - 11s - loss: 0.1706 - acc: 0.4205 - val_loss: 1.4239 - val_acc: 0.5207\n",
      "Epoch 10/100\n",
      "317285/317285 [==============================] - 11s - loss: 0.1634 - acc: 0.4409 - val_loss: 1.3915 - val_acc: 0.5232\n",
      "Epoch 11/100\n",
      " 16000/317285 [>.............................] - ETA: 9s - loss: 0.1605 - acc: 0.4508"
     ]
    }
   ],
   "source": [
    "history = model.fit(X_train, y_train, \n",
    "                    epochs=100,\n",
    "                    validation_data = (X_test, y_test),\n",
    "                    class_weight = class_weight,\n",
    "                    batch_size=8000)\n",
    "\n",
    "# 0.5092\n",
    "#0.5889\n",
    "# history = model.fit([X,X], Y, \n",
    "#                     epochs=15,\n",
    "#                     batch_size=8000)\n",
    "# pred = np.argmax(model.predict(X_test), axis=1)\n",
    "# true = np.argmax(y_test, axis=1)\n",
    "# print(classification_report(true, pred, target_names=list(le.classes_)))"
   ]
  },
  {
   "cell_type": "code",
   "execution_count": 29,
   "metadata": {},
   "outputs": [
    {
     "name": "stdout",
     "output_type": "stream",
     "text": [
      "              precision    recall  f1-score   support\n",
      "\n",
      "    business       0.79      0.80      0.79      8442\n",
      "     culture       0.92      0.32      0.48      1609\n",
      " environment       0.83      0.57      0.68      4470\n",
      "     fashion       0.94      0.16      0.27      1161\n",
      "    football       0.91      0.92      0.92     14695\n",
      "lifeandstyle       0.70      0.79      0.75      7419\n",
      "    politics       0.86      0.74      0.79      6023\n",
      "       sport       0.85      0.92      0.88     15203\n",
      "  technology       0.87      0.69      0.77      4313\n",
      "      travel       0.92      0.41      0.57      1655\n",
      "       world       0.71      0.89      0.79     14332\n",
      "\n",
      " avg / total       0.82      0.81      0.80     79322\n",
      "\n"
     ]
    }
   ],
   "source": [
    "pred = np.argmax(model.predict(X_test ), axis=1)\n",
    "true = np.argmax(y_test, axis=1)\n",
    "print(classification_report(true, pred, target_names=list(le.classes_)))"
   ]
  },
  {
   "cell_type": "code",
   "execution_count": 13,
   "metadata": {
    "collapsed": true
   },
   "outputs": [],
   "source": [
    "# kf = KFold(n_splits=5, shuffle=True)\n",
    "# acc = []\n",
    "# X = X.toarray()\n",
    "# for train_idx, test_idx in kf.split(X):\n",
    "#     print (\"Running Fold\")\n",
    "#     model = create_model()\n",
    "#     acc.append(train_and_evaluate_model(model, X[train_idx], Y[train_idx], X[test_idx], Y[test_idx]))\n",
    "#     del model\n",
    "# print('mean acc:%.4f'%(np.mean(acc)))"
   ]
  },
  {
   "cell_type": "code",
   "execution_count": 14,
   "metadata": {
    "collapsed": true
   },
   "outputs": [],
   "source": [
    "# model.save('news_title_cls85.h5')\n",
    "# joblib.dump(vectorizer, 'tfidf_vectorizer.pkl')"
   ]
  },
  {
   "cell_type": "code",
   "execution_count": null,
   "metadata": {
    "collapsed": true
   },
   "outputs": [],
   "source": []
  },
  {
   "cell_type": "code",
   "execution_count": null,
   "metadata": {
    "collapsed": true
   },
   "outputs": [],
   "source": []
  }
 ],
 "metadata": {
  "kernelspec": {
   "display_name": "Python 3",
   "language": "python",
   "name": "python3"
  },
  "language_info": {
   "codemirror_mode": {
    "name": "ipython",
    "version": 3
   },
   "file_extension": ".py",
   "mimetype": "text/x-python",
   "name": "python",
   "nbconvert_exporter": "python",
   "pygments_lexer": "ipython3",
   "version": "3.6.0"
  }
 },
 "nbformat": 4,
 "nbformat_minor": 2
}
