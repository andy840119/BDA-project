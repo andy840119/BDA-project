{
 "cells": [
  {
   "cell_type": "code",
   "execution_count": 1,
   "metadata": {},
   "outputs": [
    {
     "name": "stderr",
     "output_type": "stream",
     "text": [
      "Using TensorFlow backend.\n"
     ]
    }
   ],
   "source": [
    "import re\n",
    "import pandas as pd\n",
    "import numpy as np\n",
    "import MySQLdb\n",
    "from scipy.ndimage.interpolation import shift\n",
    "import matplotlib.pyplot as plt\n",
    "from scipy.sparse import csr_matrix, hstack\n",
    "from sklearn.model_selection import train_test_split\n",
    "from datetime import datetime\n",
    "from matplotlib import pyplot as plt\n",
    "from sklearn.feature_extraction.text import CountVectorizer, TfidfVectorizer\n",
    "from sklearn.linear_model import LogisticRegression\n",
    "from sklearn import linear_model\n",
    "from sklearn.neural_network import MLPClassifier\n",
    "from sklearn.svm import NuSVC, SVC\n",
    "from sklearn.ensemble import AdaBoostClassifier, GradientBoostingRegressor\n",
    "from sklearn.model_selection import cross_val_predict, cross_val_score\n",
    "from sklearn.metrics import confusion_matrix, classification_report, mean_squared_error\n",
    "from sklearn import preprocessing\n",
    "from sklearn.model_selection import cross_val_predict, cross_val_score, StratifiedKFold, KFold\n",
    "from keras.models import Sequential\n",
    "from keras import optimizers\n",
    "from keras.layers import Dense, Activation, Dropout, LSTM, Merge, Input, Embedding\n",
    "from keras.layers import Conv1D, GlobalAveragePooling1D, MaxPooling1D\n",
    "from keras.utils import np_utils"
   ]
  },
  {
   "cell_type": "code",
   "execution_count": 2,
   "metadata": {
    "collapsed": true
   },
   "outputs": [],
   "source": [
    "def getdata(news_class):\n",
    "    conn = MySQLdb.connect(host='54.65.19.253', port=3306, user='news', passwd='newsnews', db='news')\n",
    "    news = pd.read_csv('news_title.csv')\n",
    "    news = news.loc[news['class'].isin(news_class)]\n",
    "    news = news.drop(['date', 'class'], axis=1)\n",
    "    news = news.groupby('timestamp', as_index=False).agg(lambda name: ' '.join(name))\n",
    "    gbp = pd.read_sql('SELECT gbp.timestamp, gbp \\\n",
    "                FROM gbp \\\n",
    "                WHERE gbp.timestamp >= 1262275200;', conn)\n",
    "    news = pd.merge(news, gbp, on='timestamp', how='inner')\n",
    "    return news"
   ]
  },
  {
   "cell_type": "markdown",
   "metadata": {},
   "source": [
    "### \"world\",\"politics\",\"sport\",\"football\",\"culture\",\"business\",\"lifeandstyle\",\n",
    "### \"fashion\",\"environment\",\"technology\",\"travel"
   ]
  },
  {
   "cell_type": "code",
   "execution_count": 3,
   "metadata": {},
   "outputs": [
    {
     "data": {
      "text/plain": [
       "(3457, 4)"
      ]
     },
     "execution_count": 3,
     "metadata": {},
     "output_type": "execute_result"
    }
   ],
   "source": [
    "data = pd.read_csv('newstitle_gbp_xau.csv')\n",
    "# news_class = ['world','business']\n",
    "# data = getdata(news_class)\n",
    "data.shape"
   ]
  },
  {
   "cell_type": "code",
   "execution_count": 4,
   "metadata": {
    "collapsed": true
   },
   "outputs": [],
   "source": [
    "data['gbp_gradient'] = np.gradient(data.as_matrix(columns=['gbp']).reshape(-1))"
   ]
  },
  {
   "cell_type": "code",
   "execution_count": 5,
   "metadata": {
    "collapsed": true
   },
   "outputs": [],
   "source": [
    "def get_shift(data, shift_offset=2):\n",
    "    g = data.as_matrix(columns=['gbp_gradient']).reshape(-1)\n",
    "    for i in range(1, shift_offset+1):\n",
    "        data['gbp_gradient_p_'+str(i)] = shift(g, i, cval=0)"
   ]
  },
  {
   "cell_type": "code",
   "execution_count": 6,
   "metadata": {
    "collapsed": true
   },
   "outputs": [],
   "source": [
    "get_shift(data, shift_offset=2)"
   ]
  },
  {
   "cell_type": "code",
   "execution_count": 7,
   "metadata": {},
   "outputs": [
    {
     "data": {
      "text/html": [
       "<div>\n",
       "<style>\n",
       "    .dataframe thead tr:only-child th {\n",
       "        text-align: right;\n",
       "    }\n",
       "\n",
       "    .dataframe thead th {\n",
       "        text-align: left;\n",
       "    }\n",
       "\n",
       "    .dataframe tbody tr th {\n",
       "        vertical-align: top;\n",
       "    }\n",
       "</style>\n",
       "<table border=\"1\" class=\"dataframe\">\n",
       "  <thead>\n",
       "    <tr style=\"text-align: right;\">\n",
       "      <th></th>\n",
       "      <th>timestamp</th>\n",
       "      <th>title</th>\n",
       "      <th>gbp</th>\n",
       "      <th>xau</th>\n",
       "      <th>gbp_gradient</th>\n",
       "      <th>gbp_gradient_p_1</th>\n",
       "      <th>gbp_gradient_p_2</th>\n",
       "    </tr>\n",
       "  </thead>\n",
       "  <tbody>\n",
       "    <tr>\n",
       "      <th>0</th>\n",
       "      <td>1167580800</td>\n",
       "      <td>Italy puts froth back into cappuccino Patients...</td>\n",
       "      <td>1.959094</td>\n",
       "      <td>324.767450</td>\n",
       "      <td>0.014348</td>\n",
       "      <td>0.000000</td>\n",
       "      <td>0.000000</td>\n",
       "    </tr>\n",
       "    <tr>\n",
       "      <th>1</th>\n",
       "      <td>1167667200</td>\n",
       "      <td>Pork soup handouts not racist - French judge D...</td>\n",
       "      <td>1.973442</td>\n",
       "      <td>324.524002</td>\n",
       "      <td>-0.004827</td>\n",
       "      <td>0.014348</td>\n",
       "      <td>0.000000</td>\n",
       "    </tr>\n",
       "    <tr>\n",
       "      <th>2</th>\n",
       "      <td>1167753600</td>\n",
       "      <td>Iraqi PM rules out second term Zimbabwe poised...</td>\n",
       "      <td>1.949440</td>\n",
       "      <td>322.762609</td>\n",
       "      <td>-0.014576</td>\n",
       "      <td>-0.004827</td>\n",
       "      <td>0.014348</td>\n",
       "    </tr>\n",
       "    <tr>\n",
       "      <th>3</th>\n",
       "      <td>1167840000</td>\n",
       "      <td>Millions get the message as texting hits a fes...</td>\n",
       "      <td>1.944289</td>\n",
       "      <td>322.798264</td>\n",
       "      <td>-0.009760</td>\n",
       "      <td>-0.014576</td>\n",
       "      <td>-0.004827</td>\n",
       "    </tr>\n",
       "    <tr>\n",
       "      <th>4</th>\n",
       "      <td>1167926400</td>\n",
       "      <td>Three of Pinochet family cleared News in Brief...</td>\n",
       "      <td>1.929921</td>\n",
       "      <td>314.234051</td>\n",
       "      <td>-0.006893</td>\n",
       "      <td>-0.009760</td>\n",
       "      <td>-0.014576</td>\n",
       "    </tr>\n",
       "  </tbody>\n",
       "</table>\n",
       "</div>"
      ],
      "text/plain": [
       "    timestamp                                              title       gbp  \\\n",
       "0  1167580800  Italy puts froth back into cappuccino Patients...  1.959094   \n",
       "1  1167667200  Pork soup handouts not racist - French judge D...  1.973442   \n",
       "2  1167753600  Iraqi PM rules out second term Zimbabwe poised...  1.949440   \n",
       "3  1167840000  Millions get the message as texting hits a fes...  1.944289   \n",
       "4  1167926400  Three of Pinochet family cleared News in Brief...  1.929921   \n",
       "\n",
       "          xau  gbp_gradient  gbp_gradient_p_1  gbp_gradient_p_2  \n",
       "0  324.767450      0.014348          0.000000          0.000000  \n",
       "1  324.524002     -0.004827          0.014348          0.000000  \n",
       "2  322.762609     -0.014576         -0.004827          0.014348  \n",
       "3  322.798264     -0.009760         -0.014576         -0.004827  \n",
       "4  314.234051     -0.006893         -0.009760         -0.014576  "
      ]
     },
     "execution_count": 7,
     "metadata": {},
     "output_type": "execute_result"
    }
   ],
   "source": [
    "data.head()"
   ]
  },
  {
   "cell_type": "code",
   "execution_count": 8,
   "metadata": {
    "collapsed": true
   },
   "outputs": [],
   "source": [
    "def binary(Y):\n",
    "    Y[np.where(Y > 0)] = 1\n",
    "    Y[np.where(Y <= 0)] = 0\n",
    "    Y = Y.astype('int64')\n",
    "    f = np.bincount(Y)\n",
    "    print(f/np.sum(f))\n",
    "    return Y"
   ]
  },
  {
   "cell_type": "code",
   "execution_count": 9,
   "metadata": {},
   "outputs": [
    {
     "name": "stdout",
     "output_type": "stream",
     "text": [
      "[ 0.48654903  0.51345097]\n"
     ]
    }
   ],
   "source": [
    "Y = data.as_matrix(columns=['gbp_gradient']).reshape(-1)\n",
    "Y = binary(Y)\n",
    "num_classes = 2\n",
    "#Y = np_utils.to_categorical(Y, num_classes)"
   ]
  },
  {
   "cell_type": "code",
   "execution_count": 10,
   "metadata": {},
   "outputs": [
    {
     "name": "stdout",
     "output_type": "stream",
     "text": [
      "[ 0.48625976  0.51374024]\n",
      "[ 0.48654903  0.51345097]\n"
     ]
    }
   ],
   "source": [
    "X_p = data.as_matrix(columns=['gbp_gradient_p_1', 'gbp_gradient_p_2'])\n",
    "X_p[:,0] = binary(X_p[:,0])\n",
    "X_p[:,1] = binary(X_p[:,1])"
   ]
  },
  {
   "cell_type": "code",
   "execution_count": 11,
   "metadata": {},
   "outputs": [
    {
     "data": {
      "text/plain": [
       "<3457x652 sparse matrix of type '<class 'numpy.float64'>'\n",
       "\twith 88673 stored elements in Compressed Sparse Row format>"
      ]
     },
     "execution_count": 11,
     "metadata": {},
     "output_type": "execute_result"
    }
   ],
   "source": [
    "feature_name = 'title'\n",
    "vectorizer = TfidfVectorizer(min_df=50, ngram_range=(1, 4))\n",
    "X = vectorizer.fit_transform(data[feature_name].tolist())\n",
    "X"
   ]
  },
  {
   "cell_type": "code",
   "execution_count": 12,
   "metadata": {
    "collapsed": true
   },
   "outputs": [],
   "source": [
    "with_news = True\n",
    "num_epochs = 34"
   ]
  },
  {
   "cell_type": "code",
   "execution_count": 13,
   "metadata": {
    "collapsed": true
   },
   "outputs": [],
   "source": [
    "if with_news:\n",
    "    X = hstack([X, X.power(2), X.power(3), X.power(4), X_p])\n",
    "else:\n",
    "    X = X_p"
   ]
  },
  {
   "cell_type": "code",
   "execution_count": 14,
   "metadata": {
    "collapsed": true
   },
   "outputs": [],
   "source": [
    "# X_train, X_test, y_train, y_test = train_test_split(X, Y, train_size=0.8)\n",
    "# print(X_train.shape)\n",
    "# print(X_test.shape)\n",
    "# if with_news:\n",
    "#     X_train = X_train.toarray()\n",
    "#     X_test = X_test.toarray()"
   ]
  },
  {
   "cell_type": "code",
   "execution_count": 15,
   "metadata": {
    "collapsed": true
   },
   "outputs": [],
   "source": [
    "def create_model():\n",
    "    model = Sequential()\n",
    "    model.add(Dense(10, activation='tanh', input_shape=(X.shape[1],), bias_initializer='RandomNormal'))\n",
    "    model.add(Dropout(0.5))\n",
    "    model.add(Dense(10, activation='tanh', bias_initializer='RandomNormal'))\n",
    "    model.add(Dropout(0.5))\n",
    "    model.add(Dense(10, activation='tanh', bias_initializer='RandomNormal'))\n",
    "    model.add(Dropout(0.5))\n",
    "    model.add(Dense(num_classes, activation='softmax'))\n",
    "    model.compile(optimizer='RMSprop',\n",
    "                  loss='categorical_crossentropy',\n",
    "                  metrics=['accuracy'])\n",
    "    #model.summary()\n",
    "    return model"
   ]
  },
  {
   "cell_type": "code",
   "execution_count": 16,
   "metadata": {
    "collapsed": true
   },
   "outputs": [],
   "source": [
    "model = create_model()"
   ]
  },
  {
   "cell_type": "code",
   "execution_count": 17,
   "metadata": {
    "collapsed": true
   },
   "outputs": [],
   "source": [
    "# history = model.fit(X_train, y_train, \n",
    "#                     epochs=32,\n",
    "#                     validation_data = (X_test, y_test),\n",
    "#                     batch_size=1000)"
   ]
  },
  {
   "cell_type": "code",
   "execution_count": 18,
   "metadata": {
    "collapsed": true
   },
   "outputs": [],
   "source": [
    "# pred = np.argmax(model.predict(X_test), axis=1)\n",
    "# true = np.argmax(y_test, axis=1)\n",
    "# print(classification_report(true, pred, target_names=['down','up']))"
   ]
  },
  {
   "cell_type": "code",
   "execution_count": 19,
   "metadata": {
    "collapsed": true
   },
   "outputs": [],
   "source": [
    "# cv = 5\n",
    "# recall = cross_val_score(model, X, Y, cv=cv, n_jobs = -1, scoring='recall')\n",
    "# precision = cross_val_score(model, X, Y, cv=cv, n_jobs = -1, scoring='precision')\n",
    "# print('\\nprecision:',np.mean(precision))\n",
    "# print('recall:', np.mean(recall))\n",
    "# print('acc: %.4f'%(np.mean(cross_val_score(model, X, Y, cv=cv, n_jobs = -1))))"
   ]
  },
  {
   "cell_type": "code",
   "execution_count": 20,
   "metadata": {
    "collapsed": true
   },
   "outputs": [],
   "source": [
    "def show_result(X_test, y_test):\n",
    "    target_names = ['decline','up']\n",
    "    pred = np.argmax(model.predict(X_test), axis=1)\n",
    "    #print(confusion_matrix(y_test, pred, labels=[0,1]))\n",
    "    mat = confusion_matrix(y_test, pred, labels=[0,1])\n",
    "    #print(classification_report(y_test, pred, target_names=target_names))\n",
    "    return (mat[0,0]+mat[1,1])/np.sum(mat)"
   ]
  },
  {
   "cell_type": "code",
   "execution_count": 21,
   "metadata": {
    "scrolled": false
   },
   "outputs": [
    {
     "name": "stdout",
     "output_type": "stream",
     "text": [
      "Running Fold\n",
      "Running Fold\n",
      "Running Fold\n",
      "Running Fold\n",
      "Running Fold\n",
      "0\n",
      "Running Fold\n",
      "Running Fold\n",
      "Running Fold\n",
      "Running Fold\n",
      "Running Fold\n",
      "1\n",
      "Running Fold\n",
      "Running Fold\n",
      "Running Fold\n",
      "Running Fold\n",
      "Running Fold\n",
      "2\n",
      "Running Fold\n",
      "Running Fold\n",
      "Running Fold\n",
      "Running Fold\n",
      "Running Fold\n",
      "3\n",
      "Running Fold\n",
      "Running Fold\n",
      "Running Fold\n",
      "Running Fold\n",
      "Running Fold\n",
      "4\n",
      "acc:0.6098\n"
     ]
    }
   ],
   "source": [
    "skf = StratifiedKFold(n_splits=5, shuffle=True)\n",
    "acc = []\n",
    "for i in range(5): #做數次隨機StratifiedKFold,求出更平均的數值\n",
    "    for train_idx, test_idx in skf.split(X, Y):\n",
    "        print (\"Running Fold\")\n",
    "        model = create_model()\n",
    "        if with_news:\n",
    "            x = X.toarray()\n",
    "        else:\n",
    "            x = X\n",
    "        y = np_utils.to_categorical(Y, num_classes)\n",
    "        history = model.fit(x[train_idx], y[train_idx], \n",
    "                        epochs=num_epochs,\n",
    "                        batch_size=4000,\n",
    "                        verbose = 0)\n",
    "        acc.append(show_result(x[test_idx], Y[test_idx]))\n",
    "    print(i)\n",
    "print('acc:%.4f'%(np.mean(acc)))"
   ]
  },
  {
   "cell_type": "code",
   "execution_count": null,
   "metadata": {
    "collapsed": true
   },
   "outputs": [],
   "source": []
  },
  {
   "cell_type": "markdown",
   "metadata": {
    "collapsed": true
   },
   "source": [
    "* acc:0.6300 with world\n",
    "* acc:0.6280 with ['world','technology']\n",
    "* acc:0.6253 with ['world','business']\n",
    "* acc:0.6238 with technology\n",
    "* acc:0.6233 with  ['world', 'business', 'technology']\n",
    "* acc:0.6225 with business\n",
    "* acc:0.6221 with environment \n",
    "* acc:0.6209 with football\n",
    "* acc:0.6205 with lifeandstyle\n",
    "* acc:0.6178 with sport\n",
    "* acc:0.6125 with politics\n",
    "* acc:0.6051 with ['world','business', 'politics']\n",
    "* acc:0.5997 without any thing"
   ]
  },
  {
   "cell_type": "code",
   "execution_count": 22,
   "metadata": {
    "collapsed": true
   },
   "outputs": [],
   "source": [
    "#acc:0.6253"
   ]
  }
 ],
 "metadata": {
  "kernelspec": {
   "display_name": "Python 3",
   "language": "python",
   "name": "python3"
  },
  "language_info": {
   "codemirror_mode": {
    "name": "ipython",
    "version": 3
   },
   "file_extension": ".py",
   "mimetype": "text/x-python",
   "name": "python",
   "nbconvert_exporter": "python",
   "pygments_lexer": "ipython3",
   "version": "3.6.1"
  }
 },
 "nbformat": 4,
 "nbformat_minor": 2
}
