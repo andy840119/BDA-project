{
 "cells": [
  {
   "cell_type": "code",
   "execution_count": 1,
   "metadata": {},
   "outputs": [
    {
     "name": "stderr",
     "output_type": "stream",
     "text": [
      "Using TensorFlow backend.\n"
     ]
    }
   ],
   "source": [
    "import re\n",
    "import pandas as pd\n",
    "import numpy as np\n",
    "import MySQLdb\n",
    "import keras.models\n",
    "import tensorflow as tf\n",
    "import matplotlib.pyplot as plt\n",
    "from scipy.ndimage.interpolation import shift\n",
    "from scipy.sparse import csr_matrix, hstack\n",
    "from sklearn.model_selection import train_test_split\n",
    "from datetime import datetime\n",
    "from matplotlib import pyplot as plt\n",
    "from sklearn.feature_extraction.text import CountVectorizer, TfidfVectorizer\n",
    "from sklearn.linear_model import LogisticRegression\n",
    "from sklearn import linear_model\n",
    "from sklearn.neural_network import MLPClassifier\n",
    "from sklearn.svm import NuSVC, SVC\n",
    "from sklearn.ensemble import AdaBoostClassifier, GradientBoostingRegressor\n",
    "from sklearn.model_selection import cross_val_predict, cross_val_score\n",
    "from sklearn.metrics import confusion_matrix, classification_report, mean_squared_error\n",
    "from sklearn import preprocessing\n",
    "from sklearn.model_selection import cross_val_predict, cross_val_score, StratifiedKFold, KFold\n",
    "from keras.models import Sequential\n",
    "from keras import optimizers\n",
    "from keras.layers import Dense, Activation, Dropout, LSTM, Merge, Input, Embedding\n",
    "from keras.layers import Conv1D, GlobalAveragePooling1D, MaxPooling1D\n",
    "from keras.utils import np_utils\n",
    "from sklearn.externals import joblib\n",
    "from sqlalchemy import create_engine"
   ]
  },
  {
   "cell_type": "code",
   "execution_count": 2,
   "metadata": {
    "collapsed": true
   },
   "outputs": [],
   "source": [
    "def binary(Y):\n",
    "    Y[np.where(Y > 0)] = 1\n",
    "    Y[np.where(Y <= 0)] = 0\n",
    "    Y = Y.astype('int64')\n",
    "    f = np.bincount(Y)\n",
    "    print(f/np.sum(f))\n",
    "    return Y\n",
    "\n",
    "def get_shift(data, shift_offset=2):\n",
    "    g = data.as_matrix(columns=['gbp_gradient']).reshape(-1)\n",
    "    for i in range(1, shift_offset+1):\n",
    "        data['gbp_gradient_p_'+str(i)] = shift(g, i, cval=3)"
   ]
  },
  {
   "cell_type": "code",
   "execution_count": 3,
   "metadata": {
    "collapsed": true
   },
   "outputs": [],
   "source": [
    "tfidfvectorizer = joblib.load('tfidf_vectorizer.pkl')\n",
    "model = keras.models.load_model('model.h5')"
   ]
  },
  {
   "cell_type": "code",
   "execution_count": 4,
   "metadata": {},
   "outputs": [
    {
     "data": {
      "text/html": [
       "<div>\n",
       "<style>\n",
       "    .dataframe thead tr:only-child th {\n",
       "        text-align: right;\n",
       "    }\n",
       "\n",
       "    .dataframe thead th {\n",
       "        text-align: left;\n",
       "    }\n",
       "\n",
       "    .dataframe tbody tr th {\n",
       "        vertical-align: top;\n",
       "    }\n",
       "</style>\n",
       "<table border=\"1\" class=\"dataframe\">\n",
       "  <thead>\n",
       "    <tr style=\"text-align: right;\">\n",
       "      <th></th>\n",
       "      <th>timestamp</th>\n",
       "      <th>title</th>\n",
       "      <th>gbp</th>\n",
       "      <th>gbp_gradient</th>\n",
       "      <th>gbp_gradient_p_1</th>\n",
       "      <th>gbp_gradient_p_2</th>\n",
       "    </tr>\n",
       "  </thead>\n",
       "  <tbody>\n",
       "    <tr>\n",
       "      <th>0</th>\n",
       "      <td>1483286400</td>\n",
       "      <td>Briton killed while fighting against Isis in S...</td>\n",
       "      <td>1.229379</td>\n",
       "      <td>-0.003644</td>\n",
       "      <td>3.000000</td>\n",
       "      <td>3.000000</td>\n",
       "    </tr>\n",
       "    <tr>\n",
       "      <th>1</th>\n",
       "      <td>1483372800</td>\n",
       "      <td>Fiji earthquake tsunami threat passes after 7....</td>\n",
       "      <td>1.225735</td>\n",
       "      <td>0.000282</td>\n",
       "      <td>-0.003644</td>\n",
       "      <td>3.000000</td>\n",
       "    </tr>\n",
       "    <tr>\n",
       "      <th>2</th>\n",
       "      <td>1483459200</td>\n",
       "      <td>Marine Le Pen cheers Ford move out of Mexico a...</td>\n",
       "      <td>1.229943</td>\n",
       "      <td>0.007793</td>\n",
       "      <td>0.000282</td>\n",
       "      <td>-0.003644</td>\n",
       "    </tr>\n",
       "    <tr>\n",
       "      <th>3</th>\n",
       "      <td>1483545600</td>\n",
       "      <td>Southern rail: RMT agrees to direct talks with...</td>\n",
       "      <td>1.241321</td>\n",
       "      <td>0.000530</td>\n",
       "      <td>0.007793</td>\n",
       "      <td>0.000282</td>\n",
       "    </tr>\n",
       "    <tr>\n",
       "      <th>4</th>\n",
       "      <td>1483632000</td>\n",
       "      <td>Southern rail, London Underground and BA staff...</td>\n",
       "      <td>1.231003</td>\n",
       "      <td>-0.006310</td>\n",
       "      <td>0.000530</td>\n",
       "      <td>0.007793</td>\n",
       "    </tr>\n",
       "  </tbody>\n",
       "</table>\n",
       "</div>"
      ],
      "text/plain": [
       "    timestamp                                              title       gbp  \\\n",
       "0  1483286400  Briton killed while fighting against Isis in S...  1.229379   \n",
       "1  1483372800  Fiji earthquake tsunami threat passes after 7....  1.225735   \n",
       "2  1483459200  Marine Le Pen cheers Ford move out of Mexico a...  1.229943   \n",
       "3  1483545600  Southern rail: RMT agrees to direct talks with...  1.241321   \n",
       "4  1483632000  Southern rail, London Underground and BA staff...  1.231003   \n",
       "\n",
       "   gbp_gradient  gbp_gradient_p_1  gbp_gradient_p_2  \n",
       "0     -0.003644          3.000000          3.000000  \n",
       "1      0.000282         -0.003644          3.000000  \n",
       "2      0.007793          0.000282         -0.003644  \n",
       "3      0.000530          0.007793          0.000282  \n",
       "4     -0.006310          0.000530          0.007793  "
      ]
     },
     "execution_count": 4,
     "metadata": {},
     "output_type": "execute_result"
    }
   ],
   "source": [
    "data = pd.read_csv('newstitle_gbp(uk-news,world,business,technology,money_2017-5-31).csv')\n",
    "data['gbp_gradient'] = np.gradient(data.as_matrix(columns=['gbp']).reshape(-1))\n",
    "get_shift(data, shift_offset=2)\n",
    "data.head()"
   ]
  },
  {
   "cell_type": "code",
   "execution_count": 5,
   "metadata": {},
   "outputs": [
    {
     "data": {
      "text/plain": [
       "<151x2730 sparse matrix of type '<class 'numpy.float64'>'\n",
       "\twith 9250 stored elements in Compressed Sparse Row format>"
      ]
     },
     "execution_count": 5,
     "metadata": {},
     "output_type": "execute_result"
    }
   ],
   "source": [
    "X = tfidfvectorizer.transform(data['title'].tolist())\n",
    "X"
   ]
  },
  {
   "cell_type": "code",
   "execution_count": 6,
   "metadata": {},
   "outputs": [
    {
     "name": "stdout",
     "output_type": "stream",
     "text": [
      "[ 0.45695364  0.54304636]\n"
     ]
    }
   ],
   "source": [
    "Y = data.as_matrix(columns=['gbp_gradient']).reshape(-1)\n",
    "#Y = shift(Y, -1, cval=0)\n",
    "num_classes = 2\n",
    "Y = binary(Y)\n",
    "y = np_utils.to_categorical(Y, num_classes)"
   ]
  },
  {
   "cell_type": "code",
   "execution_count": 7,
   "metadata": {},
   "outputs": [],
   "source": [
    "# output = pd.DataFrame()\n",
    "# output['timestamp'] = data['timestamp']\n",
    "# output['gbp'] = data['gbp']\n",
    "# output['gbp_gradient'] = data['gbp_gradient']\n",
    "# output['gbp_gradient_binary'] = Y\n",
    "# binary_pred = np.zeros(151)"
   ]
  },
  {
   "cell_type": "code",
   "execution_count": 8,
   "metadata": {
    "scrolled": true
   },
   "outputs": [
    {
     "name": "stdout",
     "output_type": "stream",
     "text": [
      "[ 0.45033113  0.54966887]\n",
      "[ 0.45033113  0.54966887]\n"
     ]
    },
    {
     "data": {
      "text/plain": [
       "(151, 10922)"
      ]
     },
     "execution_count": 8,
     "metadata": {},
     "output_type": "execute_result"
    }
   ],
   "source": [
    "X_p = data.as_matrix(columns=['gbp_gradient_p_1', 'gbp_gradient_p_2'])\n",
    "X_p[:,0] = binary(X_p[:,0])\n",
    "X_p[:,1] = binary(X_p[:,1])\n",
    "X = hstack([X, X.power(2), X.power(3), X.power(4), X_p])\n",
    "X = X.toarray()\n",
    "X.shape"
   ]
  },
  {
   "cell_type": "code",
   "execution_count": 9,
   "metadata": {
    "scrolled": true
   },
   "outputs": [
    {
     "name": "stdout",
     "output_type": "stream",
     "text": [
      "151/151 [==============================] - 0s\n"
     ]
    },
    {
     "data": {
      "text/plain": [
       "[0.6722874641418457, 0.61589407920837402]"
      ]
     },
     "execution_count": 9,
     "metadata": {},
     "output_type": "execute_result"
    }
   ],
   "source": [
    "score = model.evaluate(X, y, batch_size=500)\n",
    "score"
   ]
  },
  {
   "cell_type": "code",
   "execution_count": 10,
   "metadata": {},
   "outputs": [
    {
     "name": "stdout",
     "output_type": "stream",
     "text": [
      "             precision    recall  f1-score   support\n",
      "\n",
      "    decline       0.60      0.48      0.53        69\n",
      "         up       0.62      0.73      0.67        82\n",
      "\n",
      "avg / total       0.61      0.62      0.61       151\n",
      "\n"
     ]
    }
   ],
   "source": [
    "pred = np.argmax(model.predict(X), axis=1)\n",
    "target_names = ['decline','up']\n",
    "print(classification_report(Y, pred, target_names=target_names))"
   ]
  },
  {
   "cell_type": "code",
   "execution_count": 11,
   "metadata": {
    "collapsed": true
   },
   "outputs": [],
   "source": [
    "# output['gbp_gradient_binary_pred'] = np.argmax(model.predict(X), axis=1)\n",
    "# output.to_pickle('output_2017.pkl')"
   ]
  },
  {
   "cell_type": "code",
   "execution_count": null,
   "metadata": {
    "collapsed": true
   },
   "outputs": [],
   "source": []
  }
 ],
 "metadata": {
  "kernelspec": {
   "display_name": "Python 3",
   "language": "python",
   "name": "python3"
  },
  "language_info": {
   "codemirror_mode": {
    "name": "ipython",
    "version": 3
   },
   "file_extension": ".py",
   "mimetype": "text/x-python",
   "name": "python",
   "nbconvert_exporter": "python",
   "pygments_lexer": "ipython3",
   "version": "3.6.1"
  }
 },
 "nbformat": 4,
 "nbformat_minor": 2
}
