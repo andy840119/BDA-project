{
 "cells": [
  {
   "cell_type": "code",
   "execution_count": 284,
   "metadata": {},
   "outputs": [],
   "source": [
    "import re\n",
    "import pandas as pd\n",
    "import numpy as np\n",
    "from scipy.ndimage.interpolation import shift\n",
    "import matplotlib.pyplot as plt\n",
    "from scipy.sparse import csr_matrix, hstack\n",
    "from sklearn.model_selection import train_test_split\n",
    "from datetime import datetime\n",
    "from matplotlib import pyplot as plt\n",
    "from sklearn.feature_extraction.text import CountVectorizer, TfidfVectorizer\n",
    "from sklearn.linear_model import LogisticRegression\n",
    "from sklearn import linear_model\n",
    "from sklearn.neural_network import MLPClassifier\n",
    "from sklearn.svm import NuSVC, SVC\n",
    "from sklearn.ensemble import AdaBoostClassifier, GradientBoostingRegressor\n",
    "from sklearn.model_selection import cross_val_predict, cross_val_score\n",
    "from sklearn.metrics import confusion_matrix, classification_report, mean_squared_error\n",
    "from sklearn import preprocessing\n",
    "from sklearn.model_selection import cross_val_predict, cross_val_score, StratifiedKFold, KFold\n",
    "from keras.models import Sequential\n",
    "from keras import optimizers\n",
    "from keras.layers import Dense, Activation, Dropout, LSTM, Merge, Input, Embedding\n",
    "from keras.layers import Conv1D, GlobalAveragePooling1D, MaxPooling1D\n",
    "from keras.utils import np_utils"
   ]
  },
  {
   "cell_type": "code",
   "execution_count": 285,
   "metadata": {
    "collapsed": true
   },
   "outputs": [],
   "source": [
    "data = pd.read_csv('newstitle_gbp_xau.csv')"
   ]
  },
  {
   "cell_type": "code",
   "execution_count": 286,
   "metadata": {},
   "outputs": [
    {
     "data": {
      "text/html": [
       "<div>\n",
       "<style>\n",
       "    .dataframe thead tr:only-child th {\n",
       "        text-align: right;\n",
       "    }\n",
       "\n",
       "    .dataframe thead th {\n",
       "        text-align: left;\n",
       "    }\n",
       "\n",
       "    .dataframe tbody tr th {\n",
       "        vertical-align: top;\n",
       "    }\n",
       "</style>\n",
       "<table border=\"1\" class=\"dataframe\">\n",
       "  <thead>\n",
       "    <tr style=\"text-align: right;\">\n",
       "      <th></th>\n",
       "      <th>timestamp</th>\n",
       "      <th>title</th>\n",
       "      <th>gbp</th>\n",
       "      <th>xau</th>\n",
       "    </tr>\n",
       "  </thead>\n",
       "  <tbody>\n",
       "    <tr>\n",
       "      <th>0</th>\n",
       "      <td>1167580800</td>\n",
       "      <td>Italy puts froth back into cappuccino Patients...</td>\n",
       "      <td>1.959094</td>\n",
       "      <td>324.767450</td>\n",
       "    </tr>\n",
       "    <tr>\n",
       "      <th>1</th>\n",
       "      <td>1167667200</td>\n",
       "      <td>Pork soup handouts not racist - French judge Y...</td>\n",
       "      <td>1.973442</td>\n",
       "      <td>324.524002</td>\n",
       "    </tr>\n",
       "    <tr>\n",
       "      <th>2</th>\n",
       "      <td>1167753600</td>\n",
       "      <td>Iraqi PM rules out second term Zimbabwe poised...</td>\n",
       "      <td>1.949440</td>\n",
       "      <td>322.762609</td>\n",
       "    </tr>\n",
       "    <tr>\n",
       "      <th>3</th>\n",
       "      <td>1167840000</td>\n",
       "      <td>Senior soldier condemns state of forces housin...</td>\n",
       "      <td>1.944289</td>\n",
       "      <td>322.798264</td>\n",
       "    </tr>\n",
       "    <tr>\n",
       "      <th>4</th>\n",
       "      <td>1167926400</td>\n",
       "      <td>Three of Pinochet family cleared News in Brief...</td>\n",
       "      <td>1.929921</td>\n",
       "      <td>314.234051</td>\n",
       "    </tr>\n",
       "  </tbody>\n",
       "</table>\n",
       "</div>"
      ],
      "text/plain": [
       "    timestamp                                              title       gbp  \\\n",
       "0  1167580800  Italy puts froth back into cappuccino Patients...  1.959094   \n",
       "1  1167667200  Pork soup handouts not racist - French judge Y...  1.973442   \n",
       "2  1167753600  Iraqi PM rules out second term Zimbabwe poised...  1.949440   \n",
       "3  1167840000  Senior soldier condemns state of forces housin...  1.944289   \n",
       "4  1167926400  Three of Pinochet family cleared News in Brief...  1.929921   \n",
       "\n",
       "          xau  \n",
       "0  324.767450  \n",
       "1  324.524002  \n",
       "2  322.762609  \n",
       "3  322.798264  \n",
       "4  314.234051  "
      ]
     },
     "execution_count": 286,
     "metadata": {},
     "output_type": "execute_result"
    }
   ],
   "source": [
    "data.head()"
   ]
  },
  {
   "cell_type": "code",
   "execution_count": 287,
   "metadata": {},
   "outputs": [],
   "source": [
    "data['gbp_gradient'] = np.gradient(data.as_matrix(columns=['gbp']).reshape(-1))"
   ]
  },
  {
   "cell_type": "code",
   "execution_count": 288,
   "metadata": {
    "collapsed": true
   },
   "outputs": [],
   "source": [
    "def get_shift(data, shift_offset=2):\n",
    "    g = data.as_matrix(columns=['gbp_gradient']).reshape(-1)\n",
    "    for i in range(1, shift_offset+1):\n",
    "        data['gbp_gradient_p_'+str(i)] = shift(g, i, cval=0)"
   ]
  },
  {
   "cell_type": "code",
   "execution_count": 289,
   "metadata": {
    "collapsed": true
   },
   "outputs": [],
   "source": [
    "get_shift(data, shift_offset=2)"
   ]
  },
  {
   "cell_type": "code",
   "execution_count": 290,
   "metadata": {},
   "outputs": [
    {
     "data": {
      "text/html": [
       "<div>\n",
       "<style>\n",
       "    .dataframe thead tr:only-child th {\n",
       "        text-align: right;\n",
       "    }\n",
       "\n",
       "    .dataframe thead th {\n",
       "        text-align: left;\n",
       "    }\n",
       "\n",
       "    .dataframe tbody tr th {\n",
       "        vertical-align: top;\n",
       "    }\n",
       "</style>\n",
       "<table border=\"1\" class=\"dataframe\">\n",
       "  <thead>\n",
       "    <tr style=\"text-align: right;\">\n",
       "      <th></th>\n",
       "      <th>timestamp</th>\n",
       "      <th>title</th>\n",
       "      <th>gbp</th>\n",
       "      <th>xau</th>\n",
       "      <th>gbp_gradient</th>\n",
       "      <th>gbp_gradient_p_1</th>\n",
       "      <th>gbp_gradient_p_2</th>\n",
       "    </tr>\n",
       "  </thead>\n",
       "  <tbody>\n",
       "    <tr>\n",
       "      <th>0</th>\n",
       "      <td>1167580800</td>\n",
       "      <td>Italy puts froth back into cappuccino Patients...</td>\n",
       "      <td>1.959094</td>\n",
       "      <td>324.767450</td>\n",
       "      <td>0.014348</td>\n",
       "      <td>0.000000</td>\n",
       "      <td>0.000000</td>\n",
       "    </tr>\n",
       "    <tr>\n",
       "      <th>1</th>\n",
       "      <td>1167667200</td>\n",
       "      <td>Pork soup handouts not racist - French judge Y...</td>\n",
       "      <td>1.973442</td>\n",
       "      <td>324.524002</td>\n",
       "      <td>-0.004827</td>\n",
       "      <td>0.014348</td>\n",
       "      <td>0.000000</td>\n",
       "    </tr>\n",
       "    <tr>\n",
       "      <th>2</th>\n",
       "      <td>1167753600</td>\n",
       "      <td>Iraqi PM rules out second term Zimbabwe poised...</td>\n",
       "      <td>1.949440</td>\n",
       "      <td>322.762609</td>\n",
       "      <td>-0.014576</td>\n",
       "      <td>-0.004827</td>\n",
       "      <td>0.014348</td>\n",
       "    </tr>\n",
       "    <tr>\n",
       "      <th>3</th>\n",
       "      <td>1167840000</td>\n",
       "      <td>Senior soldier condemns state of forces housin...</td>\n",
       "      <td>1.944289</td>\n",
       "      <td>322.798264</td>\n",
       "      <td>-0.009760</td>\n",
       "      <td>-0.014576</td>\n",
       "      <td>-0.004827</td>\n",
       "    </tr>\n",
       "    <tr>\n",
       "      <th>4</th>\n",
       "      <td>1167926400</td>\n",
       "      <td>Three of Pinochet family cleared News in Brief...</td>\n",
       "      <td>1.929921</td>\n",
       "      <td>314.234051</td>\n",
       "      <td>-0.006893</td>\n",
       "      <td>-0.009760</td>\n",
       "      <td>-0.014576</td>\n",
       "    </tr>\n",
       "  </tbody>\n",
       "</table>\n",
       "</div>"
      ],
      "text/plain": [
       "    timestamp                                              title       gbp  \\\n",
       "0  1167580800  Italy puts froth back into cappuccino Patients...  1.959094   \n",
       "1  1167667200  Pork soup handouts not racist - French judge Y...  1.973442   \n",
       "2  1167753600  Iraqi PM rules out second term Zimbabwe poised...  1.949440   \n",
       "3  1167840000  Senior soldier condemns state of forces housin...  1.944289   \n",
       "4  1167926400  Three of Pinochet family cleared News in Brief...  1.929921   \n",
       "\n",
       "          xau  gbp_gradient  gbp_gradient_p_1  gbp_gradient_p_2  \n",
       "0  324.767450      0.014348          0.000000          0.000000  \n",
       "1  324.524002     -0.004827          0.014348          0.000000  \n",
       "2  322.762609     -0.014576         -0.004827          0.014348  \n",
       "3  322.798264     -0.009760         -0.014576         -0.004827  \n",
       "4  314.234051     -0.006893         -0.009760         -0.014576  "
      ]
     },
     "execution_count": 290,
     "metadata": {},
     "output_type": "execute_result"
    }
   ],
   "source": [
    "data.head()"
   ]
  },
  {
   "cell_type": "code",
   "execution_count": 291,
   "metadata": {
    "collapsed": true
   },
   "outputs": [],
   "source": [
    "def binary(Y):\n",
    "    Y[np.where(Y > 0)] = 1\n",
    "    Y[np.where(Y <= 0)] = 0\n",
    "    Y = Y.astype('int64')\n",
    "    f = np.bincount(Y)\n",
    "    print(f/np.sum(f))\n",
    "    return Y"
   ]
  },
  {
   "cell_type": "code",
   "execution_count": 292,
   "metadata": {},
   "outputs": [
    {
     "name": "stdout",
     "output_type": "stream",
     "text": [
      "[ 0.48337875  0.51662125]\n"
     ]
    },
    {
     "data": {
      "text/plain": [
       "array([1, 0, 0, ..., 1, 1, 0])"
      ]
     },
     "execution_count": 292,
     "metadata": {},
     "output_type": "execute_result"
    }
   ],
   "source": [
    "Y = data.as_matrix(columns=['gbp_gradient']).reshape(-1)\n",
    "Y = binary(Y)\n",
    "num_classes = 2\n",
    "#Y = np_utils.to_categorical(Y, num_classes)\n",
    "Y"
   ]
  },
  {
   "cell_type": "code",
   "execution_count": 293,
   "metadata": {},
   "outputs": [
    {
     "name": "stdout",
     "output_type": "stream",
     "text": [
      "[ 0.48337875  0.51662125]\n",
      "[ 0.48365123  0.51634877]\n"
     ]
    }
   ],
   "source": [
    "X_p = data.as_matrix(columns=['gbp_gradient_p_1', 'gbp_gradient_p_2'])\n",
    "X_p[:,0] = binary(X_p[:,0])\n",
    "X_p[:,1] = binary(X_p[:,1])"
   ]
  },
  {
   "cell_type": "code",
   "execution_count": 294,
   "metadata": {},
   "outputs": [
    {
     "data": {
      "text/plain": [
       "<3670x940 sparse matrix of type '<class 'numpy.float64'>'\n",
       "\twith 134878 stored elements in Compressed Sparse Row format>"
      ]
     },
     "execution_count": 294,
     "metadata": {},
     "output_type": "execute_result"
    }
   ],
   "source": [
    "vectorizer = TfidfVectorizer(min_df=50, ngram_range=(1, 4))\n",
    "X = vectorizer.fit_transform(data['title'].tolist())\n",
    "X"
   ]
  },
  {
   "cell_type": "code",
   "execution_count": 295,
   "metadata": {
    "collapsed": true
   },
   "outputs": [],
   "source": [
    "with_news = True\n",
    "if with_news:\n",
    "    X = hstack([X, X.power(2), X.power(3), X.power(4), X_p])\n",
    "else:\n",
    "    X = X_p"
   ]
  },
  {
   "cell_type": "code",
   "execution_count": 296,
   "metadata": {},
   "outputs": [
    {
     "name": "stdout",
     "output_type": "stream",
     "text": [
      "(2936, 3762)\n",
      "(734, 3762)\n"
     ]
    }
   ],
   "source": [
    "X_train, X_test, y_train, y_test = train_test_split(X, Y, train_size=0.8)\n",
    "print(X_train.shape)\n",
    "print(X_test.shape)\n",
    "X_train = X_train.toarray()\n",
    "X_test = X_test.toarray()"
   ]
  },
  {
   "cell_type": "code",
   "execution_count": 297,
   "metadata": {
    "collapsed": true
   },
   "outputs": [],
   "source": [
    "def create_model():\n",
    "    model = Sequential()\n",
    "    model.add(Dense(10, activation='tanh', input_shape=(X.shape[1],), bias_initializer='RandomNormal'))\n",
    "    model.add(Dropout(0.5))\n",
    "    model.add(Dense(10, activation='tanh', bias_initializer='RandomNormal'))\n",
    "    model.add(Dropout(0.5))\n",
    "    model.add(Dense(10, activation='tanh', bias_initializer='RandomNormal'))\n",
    "    model.add(Dropout(0.5))\n",
    "    model.add(Dense(10, activation='tanh', bias_initializer='RandomNormal'))\n",
    "    model.add(Dropout(0.5))\n",
    "    model.add(Dense(10, activation='tanh', bias_initializer='RandomNormal'))\n",
    "    model.add(Dropout(0.5))\n",
    "    model.add(Dense(num_classes, activation='softmax'))\n",
    "    model.compile(optimizer='RMSprop',\n",
    "                  loss='categorical_crossentropy',\n",
    "                  metrics=['accuracy'])\n",
    "    model.summary()\n",
    "    return model"
   ]
  },
  {
   "cell_type": "code",
   "execution_count": 298,
   "metadata": {},
   "outputs": [
    {
     "name": "stdout",
     "output_type": "stream",
     "text": [
      "_________________________________________________________________\n",
      "Layer (type)                 Output Shape              Param #   \n",
      "=================================================================\n",
      "dense_244 (Dense)            (None, 10)                37630     \n",
      "_________________________________________________________________\n",
      "dropout_197 (Dropout)        (None, 10)                0         \n",
      "_________________________________________________________________\n",
      "dense_245 (Dense)            (None, 10)                110       \n",
      "_________________________________________________________________\n",
      "dropout_198 (Dropout)        (None, 10)                0         \n",
      "_________________________________________________________________\n",
      "dense_246 (Dense)            (None, 10)                110       \n",
      "_________________________________________________________________\n",
      "dropout_199 (Dropout)        (None, 10)                0         \n",
      "_________________________________________________________________\n",
      "dense_247 (Dense)            (None, 10)                110       \n",
      "_________________________________________________________________\n",
      "dropout_200 (Dropout)        (None, 10)                0         \n",
      "_________________________________________________________________\n",
      "dense_248 (Dense)            (None, 10)                110       \n",
      "_________________________________________________________________\n",
      "dropout_201 (Dropout)        (None, 10)                0         \n",
      "_________________________________________________________________\n",
      "dense_249 (Dense)            (None, 2)                 22        \n",
      "=================================================================\n",
      "Total params: 38,092\n",
      "Trainable params: 38,092\n",
      "Non-trainable params: 0\n",
      "_________________________________________________________________\n"
     ]
    }
   ],
   "source": [
    "model = create_model()"
   ]
  },
  {
   "cell_type": "code",
   "execution_count": 299,
   "metadata": {},
   "outputs": [],
   "source": [
    "# history = model.fit(X_train, y_train, \n",
    "#                     epochs=32,\n",
    "#                     validation_data = (X_test, y_test),\n",
    "#                     batch_size=1000)"
   ]
  },
  {
   "cell_type": "code",
   "execution_count": 300,
   "metadata": {},
   "outputs": [],
   "source": [
    "# pred = np.argmax(model.predict(X_test), axis=1)\n",
    "# true = np.argmax(y_test, axis=1)\n",
    "# print(classification_report(true, pred, target_names=['down','up']))"
   ]
  },
  {
   "cell_type": "code",
   "execution_count": 301,
   "metadata": {},
   "outputs": [],
   "source": [
    "# cv = 5\n",
    "# recall = cross_val_score(model, X, Y, cv=cv, n_jobs = -1, scoring='recall')\n",
    "# precision = cross_val_score(model, X, Y, cv=cv, n_jobs = -1, scoring='precision')\n",
    "# print('\\nprecision:',np.mean(precision))\n",
    "# print('recall:', np.mean(recall))\n",
    "# print('acc: %.4f'%(np.mean(cross_val_score(model, X, Y, cv=cv, n_jobs = -1))))"
   ]
  },
  {
   "cell_type": "code",
   "execution_count": 302,
   "metadata": {
    "collapsed": true
   },
   "outputs": [],
   "source": [
    "def show_result(X_test, y_test):\n",
    "    target_names = ['decline','up']\n",
    "    pred = np.argmax(model.predict(X_test), axis=1)\n",
    "    print(confusion_matrix(y_test, pred, labels=[0,1]))\n",
    "    print(classification_report(y_test, pred, target_names=target_names))"
   ]
  },
  {
   "cell_type": "code",
   "execution_count": 303,
   "metadata": {
    "scrolled": false
   },
   "outputs": [
    {
     "name": "stdout",
     "output_type": "stream",
     "text": [
      "Running Fold\n",
      "_________________________________________________________________\n",
      "Layer (type)                 Output Shape              Param #   \n",
      "=================================================================\n",
      "dense_250 (Dense)            (None, 10)                37630     \n",
      "_________________________________________________________________\n",
      "dropout_202 (Dropout)        (None, 10)                0         \n",
      "_________________________________________________________________\n",
      "dense_251 (Dense)            (None, 10)                110       \n",
      "_________________________________________________________________\n",
      "dropout_203 (Dropout)        (None, 10)                0         \n",
      "_________________________________________________________________\n",
      "dense_252 (Dense)            (None, 10)                110       \n",
      "_________________________________________________________________\n",
      "dropout_204 (Dropout)        (None, 10)                0         \n",
      "_________________________________________________________________\n",
      "dense_253 (Dense)            (None, 10)                110       \n",
      "_________________________________________________________________\n",
      "dropout_205 (Dropout)        (None, 10)                0         \n",
      "_________________________________________________________________\n",
      "dense_254 (Dense)            (None, 10)                110       \n",
      "_________________________________________________________________\n",
      "dropout_206 (Dropout)        (None, 10)                0         \n",
      "_________________________________________________________________\n",
      "dense_255 (Dense)            (None, 2)                 22        \n",
      "=================================================================\n",
      "Total params: 38,092\n",
      "Trainable params: 38,092\n",
      "Non-trainable params: 0\n",
      "_________________________________________________________________\n",
      "[[176 179]\n",
      " [ 96 284]]\n",
      "             precision    recall  f1-score   support\n",
      "\n",
      "    decline       0.65      0.50      0.56       355\n",
      "         up       0.61      0.75      0.67       380\n",
      "\n",
      "avg / total       0.63      0.63      0.62       735\n",
      "\n",
      "Running Fold\n",
      "_________________________________________________________________\n",
      "Layer (type)                 Output Shape              Param #   \n",
      "=================================================================\n",
      "dense_256 (Dense)            (None, 10)                37630     \n",
      "_________________________________________________________________\n",
      "dropout_207 (Dropout)        (None, 10)                0         \n",
      "_________________________________________________________________\n",
      "dense_257 (Dense)            (None, 10)                110       \n",
      "_________________________________________________________________\n",
      "dropout_208 (Dropout)        (None, 10)                0         \n",
      "_________________________________________________________________\n",
      "dense_258 (Dense)            (None, 10)                110       \n",
      "_________________________________________________________________\n",
      "dropout_209 (Dropout)        (None, 10)                0         \n",
      "_________________________________________________________________\n",
      "dense_259 (Dense)            (None, 10)                110       \n",
      "_________________________________________________________________\n",
      "dropout_210 (Dropout)        (None, 10)                0         \n",
      "_________________________________________________________________\n",
      "dense_260 (Dense)            (None, 10)                110       \n",
      "_________________________________________________________________\n",
      "dropout_211 (Dropout)        (None, 10)                0         \n",
      "_________________________________________________________________\n",
      "dense_261 (Dense)            (None, 2)                 22        \n",
      "=================================================================\n",
      "Total params: 38,092\n",
      "Trainable params: 38,092\n",
      "Non-trainable params: 0\n",
      "_________________________________________________________________\n",
      "[[190 165]\n",
      " [108 271]]\n",
      "             precision    recall  f1-score   support\n",
      "\n",
      "    decline       0.64      0.54      0.58       355\n",
      "         up       0.62      0.72      0.67       379\n",
      "\n",
      "avg / total       0.63      0.63      0.62       734\n",
      "\n",
      "Running Fold\n",
      "_________________________________________________________________\n",
      "Layer (type)                 Output Shape              Param #   \n",
      "=================================================================\n",
      "dense_262 (Dense)            (None, 10)                37630     \n",
      "_________________________________________________________________\n",
      "dropout_212 (Dropout)        (None, 10)                0         \n",
      "_________________________________________________________________\n",
      "dense_263 (Dense)            (None, 10)                110       \n",
      "_________________________________________________________________\n",
      "dropout_213 (Dropout)        (None, 10)                0         \n",
      "_________________________________________________________________\n",
      "dense_264 (Dense)            (None, 10)                110       \n",
      "_________________________________________________________________\n",
      "dropout_214 (Dropout)        (None, 10)                0         \n",
      "_________________________________________________________________\n",
      "dense_265 (Dense)            (None, 10)                110       \n",
      "_________________________________________________________________\n",
      "dropout_215 (Dropout)        (None, 10)                0         \n",
      "_________________________________________________________________\n",
      "dense_266 (Dense)            (None, 10)                110       \n",
      "_________________________________________________________________\n",
      "dropout_216 (Dropout)        (None, 10)                0         \n",
      "_________________________________________________________________\n",
      "dense_267 (Dense)            (None, 2)                 22        \n",
      "=================================================================\n",
      "Total params: 38,092\n",
      "Trainable params: 38,092\n",
      "Non-trainable params: 0\n",
      "_________________________________________________________________\n",
      "[[207 148]\n",
      " [126 253]]\n",
      "             precision    recall  f1-score   support\n",
      "\n",
      "    decline       0.62      0.58      0.60       355\n",
      "         up       0.63      0.67      0.65       379\n",
      "\n",
      "avg / total       0.63      0.63      0.63       734\n",
      "\n",
      "Running Fold\n",
      "_________________________________________________________________\n",
      "Layer (type)                 Output Shape              Param #   \n",
      "=================================================================\n",
      "dense_268 (Dense)            (None, 10)                37630     \n",
      "_________________________________________________________________\n",
      "dropout_217 (Dropout)        (None, 10)                0         \n",
      "_________________________________________________________________\n",
      "dense_269 (Dense)            (None, 10)                110       \n",
      "_________________________________________________________________\n",
      "dropout_218 (Dropout)        (None, 10)                0         \n",
      "_________________________________________________________________\n",
      "dense_270 (Dense)            (None, 10)                110       \n",
      "_________________________________________________________________\n",
      "dropout_219 (Dropout)        (None, 10)                0         \n",
      "_________________________________________________________________\n",
      "dense_271 (Dense)            (None, 10)                110       \n",
      "_________________________________________________________________\n",
      "dropout_220 (Dropout)        (None, 10)                0         \n",
      "_________________________________________________________________\n",
      "dense_272 (Dense)            (None, 10)                110       \n",
      "_________________________________________________________________\n",
      "dropout_221 (Dropout)        (None, 10)                0         \n",
      "_________________________________________________________________\n",
      "dense_273 (Dense)            (None, 2)                 22        \n",
      "=================================================================\n",
      "Total params: 38,092\n",
      "Trainable params: 38,092\n",
      "Non-trainable params: 0\n",
      "_________________________________________________________________\n",
      "[[208 147]\n",
      " [131 248]]\n",
      "             precision    recall  f1-score   support\n",
      "\n",
      "    decline       0.61      0.59      0.60       355\n",
      "         up       0.63      0.65      0.64       379\n",
      "\n",
      "avg / total       0.62      0.62      0.62       734\n",
      "\n",
      "Running Fold\n",
      "_________________________________________________________________\n",
      "Layer (type)                 Output Shape              Param #   \n",
      "=================================================================\n",
      "dense_274 (Dense)            (None, 10)                37630     \n",
      "_________________________________________________________________\n",
      "dropout_222 (Dropout)        (None, 10)                0         \n",
      "_________________________________________________________________\n",
      "dense_275 (Dense)            (None, 10)                110       \n",
      "_________________________________________________________________\n",
      "dropout_223 (Dropout)        (None, 10)                0         \n",
      "_________________________________________________________________\n",
      "dense_276 (Dense)            (None, 10)                110       \n",
      "_________________________________________________________________\n",
      "dropout_224 (Dropout)        (None, 10)                0         \n",
      "_________________________________________________________________\n",
      "dense_277 (Dense)            (None, 10)                110       \n",
      "_________________________________________________________________\n",
      "dropout_225 (Dropout)        (None, 10)                0         \n",
      "_________________________________________________________________\n",
      "dense_278 (Dense)            (None, 10)                110       \n",
      "_________________________________________________________________\n",
      "dropout_226 (Dropout)        (None, 10)                0         \n",
      "_________________________________________________________________\n",
      "dense_279 (Dense)            (None, 2)                 22        \n",
      "=================================================================\n",
      "Total params: 38,092\n",
      "Trainable params: 38,092\n",
      "Non-trainable params: 0\n",
      "_________________________________________________________________\n"
     ]
    },
    {
     "name": "stdout",
     "output_type": "stream",
     "text": [
      "[[191 163]\n",
      " [106 273]]\n",
      "             precision    recall  f1-score   support\n",
      "\n",
      "    decline       0.64      0.54      0.59       354\n",
      "         up       0.63      0.72      0.67       379\n",
      "\n",
      "avg / total       0.63      0.63      0.63       733\n",
      "\n"
     ]
    }
   ],
   "source": [
    "skf = StratifiedKFold(n_splits=5, shuffle=True)\n",
    "for train_idx, test_idx in skf.split(X, Y):\n",
    "    print (\"Running Fold\")\n",
    "    model = create_model()\n",
    "    x = X.toarray()\n",
    "    y = np_utils.to_categorical(Y, num_classes)\n",
    "    history = model.fit(x[train_idx], y[train_idx], \n",
    "                    epochs=32,\n",
    "                    batch_size=1000,\n",
    "                    verbose = 0)\n",
    "    show_result(x[test_idx], Y[test_idx])"
   ]
  },
  {
   "cell_type": "code",
   "execution_count": null,
   "metadata": {
    "collapsed": true
   },
   "outputs": [],
   "source": []
  }
 ],
 "metadata": {
  "kernelspec": {
   "display_name": "Python 3",
   "language": "python",
   "name": "python3"
  },
  "language_info": {
   "codemirror_mode": {
    "name": "ipython",
    "version": 3
   },
   "file_extension": ".py",
   "mimetype": "text/x-python",
   "name": "python",
   "nbconvert_exporter": "python",
   "pygments_lexer": "ipython3",
   "version": "3.6.1"
  }
 },
 "nbformat": 4,
 "nbformat_minor": 2
}
