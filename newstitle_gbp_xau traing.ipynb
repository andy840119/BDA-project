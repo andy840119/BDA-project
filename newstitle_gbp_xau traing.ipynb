{
 "cells": [
  {
   "cell_type": "code",
   "execution_count": 118,
   "metadata": {
    "collapsed": true
   },
   "outputs": [],
   "source": [
    "import re\n",
    "import pandas as pd\n",
    "import numpy as np\n",
    "from scipy.ndimage.interpolation import shift\n",
    "import matplotlib.pyplot as plt\n",
    "from scipy.sparse import csr_matrix, hstack\n",
    "from sklearn.model_selection import train_test_split\n",
    "from datetime import datetime\n",
    "from matplotlib import pyplot as plt\n",
    "from sklearn.feature_extraction.text import CountVectorizer, TfidfVectorizer\n",
    "from sklearn.linear_model import LogisticRegression\n",
    "from sklearn import linear_model\n",
    "from sklearn.neural_network import MLPClassifier\n",
    "from sklearn.svm import NuSVC, SVC\n",
    "from sklearn.ensemble import AdaBoostClassifier, GradientBoostingRegressor\n",
    "from sklearn.model_selection import cross_val_predict, cross_val_score\n",
    "from sklearn.metrics import confusion_matrix, classification_report, mean_squared_error\n",
    "from sklearn import preprocessing"
   ]
  },
  {
   "cell_type": "code",
   "execution_count": 119,
   "metadata": {
    "collapsed": true
   },
   "outputs": [],
   "source": [
    "data = pd.read_csv('newstitle_gbp_xau.csv')"
   ]
  },
  {
   "cell_type": "code",
   "execution_count": 120,
   "metadata": {},
   "outputs": [
    {
     "data": {
      "text/html": [
       "<div>\n",
       "<table border=\"1\" class=\"dataframe\">\n",
       "  <thead>\n",
       "    <tr style=\"text-align: right;\">\n",
       "      <th></th>\n",
       "      <th>timestamp</th>\n",
       "      <th>title</th>\n",
       "      <th>gbp</th>\n",
       "      <th>xau</th>\n",
       "    </tr>\n",
       "  </thead>\n",
       "  <tbody>\n",
       "    <tr>\n",
       "      <th>0</th>\n",
       "      <td>1167580800</td>\n",
       "      <td>Italy puts froth back into cappuccino Patients...</td>\n",
       "      <td>1.959094</td>\n",
       "      <td>324.767450</td>\n",
       "    </tr>\n",
       "    <tr>\n",
       "      <th>1</th>\n",
       "      <td>1167667200</td>\n",
       "      <td>Pork soup handouts not racist - French judge Y...</td>\n",
       "      <td>1.973442</td>\n",
       "      <td>324.524002</td>\n",
       "    </tr>\n",
       "    <tr>\n",
       "      <th>2</th>\n",
       "      <td>1167753600</td>\n",
       "      <td>Iraqi PM rules out second term Zimbabwe poised...</td>\n",
       "      <td>1.949440</td>\n",
       "      <td>322.762609</td>\n",
       "    </tr>\n",
       "    <tr>\n",
       "      <th>3</th>\n",
       "      <td>1167840000</td>\n",
       "      <td>Senior soldier condemns state of forces housin...</td>\n",
       "      <td>1.944289</td>\n",
       "      <td>322.798264</td>\n",
       "    </tr>\n",
       "    <tr>\n",
       "      <th>4</th>\n",
       "      <td>1167926400</td>\n",
       "      <td>Three of Pinochet family cleared News in Brief...</td>\n",
       "      <td>1.929921</td>\n",
       "      <td>314.234051</td>\n",
       "    </tr>\n",
       "  </tbody>\n",
       "</table>\n",
       "</div>"
      ],
      "text/plain": [
       "    timestamp                                              title       gbp  \\\n",
       "0  1167580800  Italy puts froth back into cappuccino Patients...  1.959094   \n",
       "1  1167667200  Pork soup handouts not racist - French judge Y...  1.973442   \n",
       "2  1167753600  Iraqi PM rules out second term Zimbabwe poised...  1.949440   \n",
       "3  1167840000  Senior soldier condemns state of forces housin...  1.944289   \n",
       "4  1167926400  Three of Pinochet family cleared News in Brief...  1.929921   \n",
       "\n",
       "          xau  \n",
       "0  324.767450  \n",
       "1  324.524002  \n",
       "2  322.762609  \n",
       "3  322.798264  \n",
       "4  314.234051  "
      ]
     },
     "execution_count": 120,
     "metadata": {},
     "output_type": "execute_result"
    }
   ],
   "source": [
    "data.head()"
   ]
  },
  {
   "cell_type": "code",
   "execution_count": 121,
   "metadata": {},
   "outputs": [
    {
     "name": "stdout",
     "output_type": "stream",
     "text": [
      "[1388  874 1408]\n",
      "0.238147138965\n"
     ]
    }
   ],
   "source": [
    "Y = data.as_matrix(columns=['gbp']).reshape(-1)\n",
    "Y = np.gradient(Y)\n",
    "num_classes = 3\n",
    "offset = 1e-3\n",
    "Y[np.where(Y >= offset)] = 2\n",
    "Y[np.where((Y > -offset) & (Y < offset))] = 1\n",
    "Y[np.where(Y <= -offset)] = 0\n",
    "Y = Y.astype('int64')\n",
    "f = np.bincount(Y)\n",
    "print(f)\n",
    "print(1-((f[0]+f[2])/np.sum(f)))\n",
    "Y = shift(Y, -1, cval=1)\n"
   ]
  },
  {
   "cell_type": "code",
   "execution_count": 122,
   "metadata": {
    "collapsed": true
   },
   "outputs": [],
   "source": [
    "X = data.as_matrix(columns=['title'])\n",
    "X2 = data.as_matrix(columns=['xau'])"
   ]
  },
  {
   "cell_type": "code",
   "execution_count": 123,
   "metadata": {
    "collapsed": true
   },
   "outputs": [],
   "source": [
    "vectorizer = TfidfVectorizer()\n",
    "X = vectorizer.fit_transform(data['title'].tolist())"
   ]
  },
  {
   "cell_type": "code",
   "execution_count": 124,
   "metadata": {},
   "outputs": [
    {
     "data": {
      "text/plain": [
       "array([-0.24344803, -1.00242045, -0.8628688 , ..., -1.46289602,\n",
       "       -0.14820311, -0.06519676])"
      ]
     },
     "execution_count": 124,
     "metadata": {},
     "output_type": "execute_result"
    }
   ],
   "source": [
    "X2 = np.gradient(X2.reshape(-1))\n",
    "X2"
   ]
  },
  {
   "cell_type": "code",
   "execution_count": 125,
   "metadata": {
    "collapsed": true
   },
   "outputs": [],
   "source": [
    "X2 = X2.reshape(-1,1)"
   ]
  },
  {
   "cell_type": "code",
   "execution_count": 126,
   "metadata": {
    "collapsed": true
   },
   "outputs": [],
   "source": [
    "X = hstack([X, X2, X2**2])"
   ]
  },
  {
   "cell_type": "code",
   "execution_count": 127,
   "metadata": {},
   "outputs": [
    {
     "name": "stdout",
     "output_type": "stream",
     "text": [
      "(2936, 19757)\n",
      "(734, 19757)\n"
     ]
    }
   ],
   "source": [
    "X_train, X_test, y_train, y_test = train_test_split(X, Y, train_size=0.8)\n",
    "print(X_train.shape)\n",
    "print(X_test.shape)"
   ]
  },
  {
   "cell_type": "code",
   "execution_count": 128,
   "metadata": {},
   "outputs": [
    {
     "name": "stdout",
     "output_type": "stream",
     "text": [
      "[ 0.62970027  0.37029973]\n"
     ]
    }
   ],
   "source": [
    "model = NuSVC(kernel='rbf',\n",
    "              nu=0.01,\n",
    "              class_weight = 'balanced',\n",
    "              degree = 3,\n",
    "              verbose=0)\n",
    "# recall = cross_val_score(model, X, Y, cv=5, n_jobs = -1, scoring='recall')\n",
    "# precision = cross_val_score(model, X, Y, cv=5, n_jobs = -1, scoring='precision')\n",
    "# print('precision:',np.mean(precision))\n",
    "# print('recall:', np.mean(recall))\n",
    "\n",
    "print(np.bincount(np.where(cross_val_predict(model, X, Y, cv=5, n_jobs = -1)-Y != 0, 0, 1))/len(Y))"
   ]
  },
  {
   "cell_type": "code",
   "execution_count": 129,
   "metadata": {},
   "outputs": [
    {
     "name": "stdout",
     "output_type": "stream",
     "text": [
      "[[101  12 176]\n",
      " [ 54   4 104]\n",
      " [103   9 171]]\n",
      "             precision    recall  f1-score   support\n",
      "\n",
      "       down       0.39      0.35      0.37       289\n",
      "        non       0.16      0.02      0.04       162\n",
      "         up       0.38      0.60      0.47       283\n",
      "\n",
      "avg / total       0.34      0.38      0.33       734\n",
      "\n"
     ]
    }
   ],
   "source": [
    "model.fit(X_train, y_train)\n",
    "print(confusion_matrix(y_test, model.predict(X_test), labels=[0,1,2]))\n",
    "target_names = ['down','non','up']\n",
    "print(classification_report(y_test, model.predict(X_test), target_names=target_names))"
   ]
  },
  {
   "cell_type": "code",
   "execution_count": null,
   "metadata": {
    "collapsed": true
   },
   "outputs": [],
   "source": []
  }
 ],
 "metadata": {
  "kernelspec": {
   "display_name": "Python 3",
   "language": "python",
   "name": "python3"
  },
  "language_info": {
   "codemirror_mode": {
    "name": "ipython",
    "version": 3
   },
   "file_extension": ".py",
   "mimetype": "text/x-python",
   "name": "python",
   "nbconvert_exporter": "python",
   "pygments_lexer": "ipython3",
   "version": "3.6.0"
  }
 },
 "nbformat": 4,
 "nbformat_minor": 2
}
