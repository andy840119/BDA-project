{
 "cells": [
  {
   "cell_type": "code",
   "execution_count": 1,
   "metadata": {
    "collapsed": true
   },
   "outputs": [],
   "source": [
    "import re\n",
    "import pandas as pd\n",
    "import numpy as np\n",
    "import MySQLdb\n",
    "import time\n",
    "from scipy.ndimage.interpolation import shift\n",
    "import matplotlib.pyplot as plt\n",
    "from scipy.sparse import csr_matrix, hstack\n",
    "from sklearn.model_selection import train_test_split\n",
    "from datetime import datetime\n",
    "from matplotlib import pyplot as plt\n",
    "from sklearn.feature_extraction.text import CountVectorizer, TfidfVectorizer\n",
    "from sklearn.linear_model import LogisticRegression\n",
    "from sklearn import linear_model\n",
    "from sklearn.neural_network import MLPClassifier\n",
    "from sklearn.svm import NuSVC, SVC\n",
    "from sklearn.ensemble import AdaBoostClassifier, GradientBoostingRegressor\n",
    "from sklearn.model_selection import cross_val_predict, cross_val_score, StratifiedKFold, KFold\n",
    "from sklearn.metrics import confusion_matrix, classification_report, mean_squared_error\n",
    "from sklearn import preprocessing"
   ]
  },
  {
   "cell_type": "code",
   "execution_count": 29,
   "metadata": {},
   "outputs": [
    {
     "name": "stdout",
     "output_type": "stream",
     "text": [
      "Fetch data time: 0.845705509185791sec.\n"
     ]
    }
   ],
   "source": [
    "start_timestamp = '1433088000' #1433088000 #1484870400\n",
    "conn=MySQLdb.connect(\"54.65.19.253\", \"news\", \"newsnews\", \"news\")\n",
    "sql = \"SELECT timestamp, tweet FROM trump WHERE timestamp > %s;\"%(start_timestamp)\n",
    "tStart = time.time()\n",
    "trump_data = pd.read_sql_query(sql, conn)\n",
    "sql = \"SELECT timestamp, usdx FROM usdx WHERE timestamp > %s;\"%(start_timestamp)\n",
    "usdx_data = pd.read_sql_query(sql, conn)\n",
    "tEnd = time.time()\n",
    "conn.close()\n",
    "print(\"Fetch data time: \" +str(tEnd-tStart)+ \"sec.\")"
   ]
  },
  {
   "cell_type": "code",
   "execution_count": 30,
   "metadata": {},
   "outputs": [
    {
     "data": {
      "text/html": [
       "<div>\n",
       "<table border=\"1\" class=\"dataframe\">\n",
       "  <thead>\n",
       "    <tr style=\"text-align: right;\">\n",
       "      <th></th>\n",
       "      <th>timestamp</th>\n",
       "      <th>tweet</th>\n",
       "    </tr>\n",
       "  </thead>\n",
       "  <tbody>\n",
       "    <tr>\n",
       "      <th>0</th>\n",
       "      <td>1451491200</td>\n",
       "      <td>I would like to wish everyone A HAPPY AND HEAL...</td>\n",
       "    </tr>\n",
       "    <tr>\n",
       "      <th>1</th>\n",
       "      <td>1451491200</td>\n",
       "      <td>HAPPY BIRTHDAY to my son, @DonaldJTrumpJr! Ver...</td>\n",
       "    </tr>\n",
       "    <tr>\n",
       "      <th>2</th>\n",
       "      <td>1451491200</td>\n",
       "      <td>#MakeAmericaGreatAgain #Trump2016 https://t.co...</td>\n",
       "    </tr>\n",
       "    <tr>\n",
       "      <th>3</th>\n",
       "      <td>1451491200</td>\n",
       "      <td>\"@whispers34: Nevada Poll: Donald Trump 33%, T...</td>\n",
       "    </tr>\n",
       "    <tr>\n",
       "      <th>4</th>\n",
       "      <td>1451491200</td>\n",
       "      <td>\"@stylin1188: Donald Trump is running the most...</td>\n",
       "    </tr>\n",
       "  </tbody>\n",
       "</table>\n",
       "</div>"
      ],
      "text/plain": [
       "    timestamp                                              tweet\n",
       "0  1451491200  I would like to wish everyone A HAPPY AND HEAL...\n",
       "1  1451491200  HAPPY BIRTHDAY to my son, @DonaldJTrumpJr! Ver...\n",
       "2  1451491200  #MakeAmericaGreatAgain #Trump2016 https://t.co...\n",
       "3  1451491200  \"@whispers34: Nevada Poll: Donald Trump 33%, T...\n",
       "4  1451491200  \"@stylin1188: Donald Trump is running the most..."
      ]
     },
     "execution_count": 30,
     "metadata": {},
     "output_type": "execute_result"
    }
   ],
   "source": [
    "trump_data.head()"
   ]
  },
  {
   "cell_type": "code",
   "execution_count": 86,
   "metadata": {
    "collapsed": true
   },
   "outputs": [],
   "source": [
    "trump_data = trump_data.groupby('timestamp', as_index=False).agg(lambda tweet: ' '.join(tweet))\n",
    "Y = usdx_data.as_matrix(columns=['usdx']).reshape(-1)\n",
    "usdx_data['gradient'] = np.gradient(Y)"
   ]
  },
  {
   "cell_type": "code",
   "execution_count": 87,
   "metadata": {
    "collapsed": true
   },
   "outputs": [],
   "source": [
    "data = pd.merge(trump_data, usdx_data, on='timestamp')"
   ]
  },
  {
   "cell_type": "code",
   "execution_count": 88,
   "metadata": {},
   "outputs": [
    {
     "name": "stdout",
     "output_type": "stream",
     "text": [
      "(474, 4)\n"
     ]
    }
   ],
   "source": [
    "data.head()\n",
    "print(data.shape)"
   ]
  },
  {
   "cell_type": "code",
   "execution_count": 89,
   "metadata": {},
   "outputs": [
    {
     "name": "stdout",
     "output_type": "stream",
     "text": [
      "-0.00405\n",
      "[244 230]\n"
     ]
    }
   ],
   "source": [
    "Y = data.as_matrix(columns=['gradient']).reshape(-1)\n",
    "offset = np.median(Y)\n",
    "print(offset)\n",
    "target_names = ['down','up']\n",
    "Y[np.where(Y > 0)] = 1\n",
    "Y[np.where(Y <= 0)] = 0\n",
    "Y = Y.astype('int64')\n",
    "f = np.bincount(Y)\n",
    "print(f)\n",
    "#print(1-((f[0]+f[1])/np.sum(f)))\n",
    "#Y = shift(Y, -1, cval=1)"
   ]
  },
  {
   "cell_type": "code",
   "execution_count": 90,
   "metadata": {},
   "outputs": [
    {
     "data": {
      "text/plain": [
       "<474x2957 sparse matrix of type '<class 'numpy.float64'>'\n",
       "\twith 26428 stored elements in Compressed Sparse Row format>"
      ]
     },
     "execution_count": 90,
     "metadata": {},
     "output_type": "execute_result"
    }
   ],
   "source": [
    "vectorizer = TfidfVectorizer(min_df=4, ngram_range=(2, 4))\n",
    "X = vectorizer.fit_transform(data['tweet'].tolist())\n",
    "X"
   ]
  },
  {
   "cell_type": "code",
   "execution_count": 91,
   "metadata": {
    "collapsed": true
   },
   "outputs": [],
   "source": [
    "X= hstack([X, X.power(2), X.power(3), X.power(4)])"
   ]
  },
  {
   "cell_type": "code",
   "execution_count": 92,
   "metadata": {},
   "outputs": [
    {
     "name": "stdout",
     "output_type": "stream",
     "text": [
      "(379, 11828)\n",
      "(95, 11828)\n"
     ]
    }
   ],
   "source": [
    "X_train, X_test, y_train, y_test = train_test_split(X, Y, train_size=0.8)\n",
    "print(X_train.shape)\n",
    "print(X_test.shape)"
   ]
  },
  {
   "cell_type": "code",
   "execution_count": 93,
   "metadata": {
    "collapsed": true
   },
   "outputs": [],
   "source": [
    "def create_model():\n",
    "    model = NuSVC(kernel='rbf',\n",
    "              nu=0.5,\n",
    "              degree = 3,\n",
    "              verbose=0)\n",
    "    return model"
   ]
  },
  {
   "cell_type": "code",
   "execution_count": 94,
   "metadata": {},
   "outputs": [
    {
     "name": "stdout",
     "output_type": "stream",
     "text": [
      "\n",
      "precision: 0.462708286331\n",
      "recall: 0.495652173913\n",
      "0.489496080627\n"
     ]
    }
   ],
   "source": [
    "cv = 5\n",
    "model = create_model()\n",
    "recall = cross_val_score(model, X, Y, cv=cv, n_jobs = -1, scoring='recall')\n",
    "precision = cross_val_score(model, X, Y, cv=cv, n_jobs = -1, scoring='precision')\n",
    "print('\\nprecision:',np.mean(precision))\n",
    "print('recall:', np.mean(recall))\n",
    "#print('acc: %.4f'%((np.bincount(np.where(cross_val_predict(model, X, Y, cv=cv, n_jobs = -1)-Y != 0, 0, 1))/len(Y))[1]))\n",
    "print(np.mean(cross_val_score(model, X, Y, cv=cv, n_jobs = -1)))"
   ]
  },
  {
   "cell_type": "code",
   "execution_count": 95,
   "metadata": {},
   "outputs": [
    {
     "name": "stdout",
     "output_type": "stream",
     "text": [
      "Running Fold\n",
      "[[36 13]\n",
      " [20 26]]\n",
      "             precision    recall  f1-score   support\n",
      "\n",
      "       down       0.49      0.51      0.50        49\n",
      "         up       0.45      0.43      0.44        46\n",
      "\n",
      "avg / total       0.47      0.47      0.47        95\n",
      "\n",
      "Running Fold\n",
      "[[27 22]\n",
      " [ 9 37]]\n",
      "             precision    recall  f1-score   support\n",
      "\n",
      "       down       0.53      0.35      0.42        49\n",
      "         up       0.49      0.67      0.57        46\n",
      "\n",
      "avg / total       0.51      0.51      0.49        95\n",
      "\n",
      "Running Fold\n",
      "[[41  8]\n",
      " [24 22]]\n",
      "             precision    recall  f1-score   support\n",
      "\n",
      "       down       0.50      0.78      0.61        49\n",
      "         up       0.42      0.17      0.25        46\n",
      "\n",
      "avg / total       0.46      0.48      0.43        95\n",
      "\n",
      "Running Fold\n",
      "[[19 30]\n",
      " [ 7 39]]\n",
      "             precision    recall  f1-score   support\n",
      "\n",
      "       down       0.38      0.16      0.23        49\n",
      "         up       0.45      0.72      0.55        46\n",
      "\n",
      "avg / total       0.41      0.43      0.38        95\n",
      "\n",
      "Running Fold\n",
      "[[39 10]\n",
      " [26 20]]\n",
      "             precision    recall  f1-score   support\n",
      "\n",
      "       down       0.49      0.71      0.58        48\n",
      "         up       0.42      0.22      0.29        46\n",
      "\n",
      "avg / total       0.45      0.47      0.43        94\n",
      "\n"
     ]
    }
   ],
   "source": [
    "skf = StratifiedKFold(n_splits=cv, shuffle=True)\n",
    "for train_idx, test_idx in skf.split(X, Y):\n",
    "    print (\"Running Fold\")\n",
    "    model = create_model()\n",
    "    model.fit(X.tocsr()[train_idx], Y[train_idx])\n",
    "    print(confusion_matrix(y_test, model.predict(X_test), labels=[0,1]))\n",
    "    print(classification_report(Y[test_idx], model.predict(X.toarray()[test_idx]), target_names=target_names))"
   ]
  },
  {
   "cell_type": "code",
   "execution_count": null,
   "metadata": {
    "collapsed": true
   },
   "outputs": [],
   "source": []
  }
 ],
 "metadata": {
  "kernelspec": {
   "display_name": "Python 3",
   "language": "python",
   "name": "python3"
  },
  "language_info": {
   "codemirror_mode": {
    "name": "ipython",
    "version": 3
   },
   "file_extension": ".py",
   "mimetype": "text/x-python",
   "name": "python",
   "nbconvert_exporter": "python",
   "pygments_lexer": "ipython3",
   "version": "3.6.1"
  }
 },
 "nbformat": 4,
 "nbformat_minor": 2
}
