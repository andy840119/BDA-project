{
 "cells": [
  {
   "cell_type": "code",
   "execution_count": 213,
   "metadata": {},
   "outputs": [],
   "source": [
    "import re\n",
    "import pandas as pd\n",
    "import numpy as np\n",
    "import MySQLdb\n",
    "import time\n",
    "from scipy.ndimage.interpolation import shift\n",
    "import matplotlib.pyplot as plt\n",
    "from scipy.sparse import csr_matrix, hstack\n",
    "from sklearn.model_selection import train_test_split\n",
    "from datetime import datetime\n",
    "from matplotlib import pyplot as plt\n",
    "from sklearn.feature_extraction.text import CountVectorizer, TfidfVectorizer\n",
    "from sklearn.linear_model import LogisticRegression\n",
    "from sklearn import linear_model\n",
    "from sklearn.neural_network import MLPClassifier\n",
    "from sklearn.svm import NuSVC, SVC\n",
    "from sklearn.ensemble import AdaBoostClassifier, GradientBoostingRegressor\n",
    "from sklearn.model_selection import cross_val_predict, cross_val_score, StratifiedKFold, KFold\n",
    "from sklearn.metrics import confusion_matrix, classification_report, mean_squared_error\n",
    "from sklearn import preprocessing"
   ]
  },
  {
   "cell_type": "code",
   "execution_count": 214,
   "metadata": {},
   "outputs": [
    {
     "name": "stdout",
     "output_type": "stream",
     "text": [
      "Fetch data time: 0.7796633243560791sec.\n"
     ]
    }
   ],
   "source": [
    "tStart = time.time()\n",
    "start_timestamp = '1433088000' #1433088000 #1484870400\n",
    "conn=MySQLdb.connect(\"54.65.19.253\", \"news\", \"newsnews\", \"news\")\n",
    "sql = \"SELECT timestamp, tweet FROM trump WHERE timestamp > %s;\"%(start_timestamp)\n",
    "trump_data = pd.read_sql_query(sql, conn)\n",
    "sql = \"SELECT timestamp, usdx FROM usdx WHERE timestamp > %s;\"%(start_timestamp)\n",
    "usdx_data = pd.read_sql_query(sql, conn)\n",
    "tEnd = time.time()\n",
    "conn.close()\n",
    "print(\"Fetch data time: \" +str(tEnd-tStart)+ \"sec.\")"
   ]
  },
  {
   "cell_type": "code",
   "execution_count": 215,
   "metadata": {},
   "outputs": [
    {
     "data": {
      "text/html": [
       "<div>\n",
       "<style>\n",
       "    .dataframe thead tr:only-child th {\n",
       "        text-align: right;\n",
       "    }\n",
       "\n",
       "    .dataframe thead th {\n",
       "        text-align: left;\n",
       "    }\n",
       "\n",
       "    .dataframe tbody tr th {\n",
       "        vertical-align: top;\n",
       "    }\n",
       "</style>\n",
       "<table border=\"1\" class=\"dataframe\">\n",
       "  <thead>\n",
       "    <tr style=\"text-align: right;\">\n",
       "      <th></th>\n",
       "      <th>timestamp</th>\n",
       "      <th>tweet</th>\n",
       "    </tr>\n",
       "  </thead>\n",
       "  <tbody>\n",
       "    <tr>\n",
       "      <th>0</th>\n",
       "      <td>1451491200</td>\n",
       "      <td>I would like to wish everyone A HAPPY AND HEAL...</td>\n",
       "    </tr>\n",
       "    <tr>\n",
       "      <th>1</th>\n",
       "      <td>1451491200</td>\n",
       "      <td>HAPPY BIRTHDAY to my son, @DonaldJTrumpJr! Ver...</td>\n",
       "    </tr>\n",
       "    <tr>\n",
       "      <th>2</th>\n",
       "      <td>1451491200</td>\n",
       "      <td>#MakeAmericaGreatAgain #Trump2016 https://t.co...</td>\n",
       "    </tr>\n",
       "    <tr>\n",
       "      <th>3</th>\n",
       "      <td>1451491200</td>\n",
       "      <td>\"@whispers34: Nevada Poll: Donald Trump 33%, T...</td>\n",
       "    </tr>\n",
       "    <tr>\n",
       "      <th>4</th>\n",
       "      <td>1451491200</td>\n",
       "      <td>\"@stylin1188: Donald Trump is running the most...</td>\n",
       "    </tr>\n",
       "  </tbody>\n",
       "</table>\n",
       "</div>"
      ],
      "text/plain": [
       "    timestamp                                              tweet\n",
       "0  1451491200  I would like to wish everyone A HAPPY AND HEAL...\n",
       "1  1451491200  HAPPY BIRTHDAY to my son, @DonaldJTrumpJr! Ver...\n",
       "2  1451491200  #MakeAmericaGreatAgain #Trump2016 https://t.co...\n",
       "3  1451491200  \"@whispers34: Nevada Poll: Donald Trump 33%, T...\n",
       "4  1451491200  \"@stylin1188: Donald Trump is running the most..."
      ]
     },
     "execution_count": 215,
     "metadata": {},
     "output_type": "execute_result"
    }
   ],
   "source": [
    "trump_data.head()"
   ]
  },
  {
   "cell_type": "code",
   "execution_count": 216,
   "metadata": {},
   "outputs": [
    {
     "data": {
      "text/plain": [
       "(6453, 2)"
      ]
     },
     "execution_count": 216,
     "metadata": {},
     "output_type": "execute_result"
    }
   ],
   "source": [
    "trump_data.shape"
   ]
  },
  {
   "cell_type": "code",
   "execution_count": 217,
   "metadata": {},
   "outputs": [],
   "source": [
    "trump_data = trump_data.groupby('timestamp', as_index=False).agg(lambda tweet: ' '.join(tweet))\n",
    "Y = usdx_data.as_matrix(columns=['usdx']).reshape(-1)\n",
    "usdx_data['gradient'] = np.gradient(Y)"
   ]
  },
  {
   "cell_type": "code",
   "execution_count": 218,
   "metadata": {
    "collapsed": true
   },
   "outputs": [],
   "source": [
    "def get_shift(usdx_data, shift_offset=2):\n",
    "    g = usdx_data.as_matrix(columns=['gradient']).reshape(-1)\n",
    "    for i in range(1, shift_offset+1):\n",
    "        usdx_data['gradient_p_'+str(i)] = shift(g, i, cval=0)"
   ]
  },
  {
   "cell_type": "code",
   "execution_count": 219,
   "metadata": {},
   "outputs": [
    {
     "data": {
      "text/html": [
       "<div>\n",
       "<style>\n",
       "    .dataframe thead tr:only-child th {\n",
       "        text-align: right;\n",
       "    }\n",
       "\n",
       "    .dataframe thead th {\n",
       "        text-align: left;\n",
       "    }\n",
       "\n",
       "    .dataframe tbody tr th {\n",
       "        vertical-align: top;\n",
       "    }\n",
       "</style>\n",
       "<table border=\"1\" class=\"dataframe\">\n",
       "  <thead>\n",
       "    <tr style=\"text-align: right;\">\n",
       "      <th></th>\n",
       "      <th>timestamp</th>\n",
       "      <th>usdx</th>\n",
       "      <th>gradient</th>\n",
       "      <th>gradient_p_1</th>\n",
       "      <th>gradient_p_2</th>\n",
       "    </tr>\n",
       "  </thead>\n",
       "  <tbody>\n",
       "    <tr>\n",
       "      <th>0</th>\n",
       "      <td>1433174400</td>\n",
       "      <td>115.3036</td>\n",
       "      <td>-0.29840</td>\n",
       "      <td>0.00000</td>\n",
       "      <td>0.00000</td>\n",
       "    </tr>\n",
       "    <tr>\n",
       "      <th>1</th>\n",
       "      <td>1433260800</td>\n",
       "      <td>115.0052</td>\n",
       "      <td>0.03595</td>\n",
       "      <td>-0.29840</td>\n",
       "      <td>0.00000</td>\n",
       "    </tr>\n",
       "    <tr>\n",
       "      <th>2</th>\n",
       "      <td>1433347200</td>\n",
       "      <td>115.3755</td>\n",
       "      <td>0.52140</td>\n",
       "      <td>0.03595</td>\n",
       "      <td>-0.29840</td>\n",
       "    </tr>\n",
       "    <tr>\n",
       "      <th>3</th>\n",
       "      <td>1433433600</td>\n",
       "      <td>116.0480</td>\n",
       "      <td>0.16395</td>\n",
       "      <td>0.52140</td>\n",
       "      <td>0.03595</td>\n",
       "    </tr>\n",
       "    <tr>\n",
       "      <th>4</th>\n",
       "      <td>1433692800</td>\n",
       "      <td>115.7034</td>\n",
       "      <td>-0.44425</td>\n",
       "      <td>0.16395</td>\n",
       "      <td>0.52140</td>\n",
       "    </tr>\n",
       "  </tbody>\n",
       "</table>\n",
       "</div>"
      ],
      "text/plain": [
       "    timestamp      usdx  gradient  gradient_p_1  gradient_p_2\n",
       "0  1433174400  115.3036  -0.29840       0.00000       0.00000\n",
       "1  1433260800  115.0052   0.03595      -0.29840       0.00000\n",
       "2  1433347200  115.3755   0.52140       0.03595      -0.29840\n",
       "3  1433433600  116.0480   0.16395       0.52140       0.03595\n",
       "4  1433692800  115.7034  -0.44425       0.16395       0.52140"
      ]
     },
     "execution_count": 219,
     "metadata": {},
     "output_type": "execute_result"
    }
   ],
   "source": [
    "get_shift(usdx_data, shift_offset=2)\n",
    "usdx_data.head()"
   ]
  },
  {
   "cell_type": "code",
   "execution_count": 220,
   "metadata": {
    "collapsed": true
   },
   "outputs": [],
   "source": [
    "data = pd.merge(trump_data, usdx_data, on='timestamp')"
   ]
  },
  {
   "cell_type": "code",
   "execution_count": 221,
   "metadata": {},
   "outputs": [
    {
     "data": {
      "text/html": [
       "<div>\n",
       "<style>\n",
       "    .dataframe thead tr:only-child th {\n",
       "        text-align: right;\n",
       "    }\n",
       "\n",
       "    .dataframe thead th {\n",
       "        text-align: left;\n",
       "    }\n",
       "\n",
       "    .dataframe tbody tr th {\n",
       "        vertical-align: top;\n",
       "    }\n",
       "</style>\n",
       "<table border=\"1\" class=\"dataframe\">\n",
       "  <thead>\n",
       "    <tr style=\"text-align: right;\">\n",
       "      <th></th>\n",
       "      <th>timestamp</th>\n",
       "      <th>tweet</th>\n",
       "      <th>usdx</th>\n",
       "      <th>gradient</th>\n",
       "      <th>gradient_p_1</th>\n",
       "      <th>gradient_p_2</th>\n",
       "    </tr>\n",
       "  </thead>\n",
       "  <tbody>\n",
       "    <tr>\n",
       "      <th>0</th>\n",
       "      <td>1433174400</td>\n",
       "      <td>The Spa @TrumpWaikiki offers unique treatments...</td>\n",
       "      <td>115.3036</td>\n",
       "      <td>-0.29840</td>\n",
       "      <td>0.00000</td>\n",
       "      <td>0.00000</td>\n",
       "    </tr>\n",
       "    <tr>\n",
       "      <th>1</th>\n",
       "      <td>1433260800</td>\n",
       "      <td>\"@123Jayne: @realDonaldTrump I have just one q...</td>\n",
       "      <td>115.0052</td>\n",
       "      <td>0.03595</td>\n",
       "      <td>-0.29840</td>\n",
       "      <td>0.00000</td>\n",
       "    </tr>\n",
       "    <tr>\n",
       "      <th>2</th>\n",
       "      <td>1433347200</td>\n",
       "      <td>With great patriots in Mason City who also wan...</td>\n",
       "      <td>115.3755</td>\n",
       "      <td>0.52140</td>\n",
       "      <td>0.03595</td>\n",
       "      <td>-0.29840</td>\n",
       "    </tr>\n",
       "    <tr>\n",
       "      <th>3</th>\n",
       "      <td>1433433600</td>\n",
       "      <td>We must stop Common Core from controlling stat...</td>\n",
       "      <td>116.0480</td>\n",
       "      <td>0.16395</td>\n",
       "      <td>0.52140</td>\n",
       "      <td>0.03595</td>\n",
       "    </tr>\n",
       "    <tr>\n",
       "      <th>4</th>\n",
       "      <td>1433692800</td>\n",
       "      <td>Trump National Golf Club Los Angeles offers 18...</td>\n",
       "      <td>115.7034</td>\n",
       "      <td>-0.44425</td>\n",
       "      <td>0.16395</td>\n",
       "      <td>0.52140</td>\n",
       "    </tr>\n",
       "  </tbody>\n",
       "</table>\n",
       "</div>"
      ],
      "text/plain": [
       "    timestamp                                              tweet      usdx  \\\n",
       "0  1433174400  The Spa @TrumpWaikiki offers unique treatments...  115.3036   \n",
       "1  1433260800  \"@123Jayne: @realDonaldTrump I have just one q...  115.0052   \n",
       "2  1433347200  With great patriots in Mason City who also wan...  115.3755   \n",
       "3  1433433600  We must stop Common Core from controlling stat...  116.0480   \n",
       "4  1433692800  Trump National Golf Club Los Angeles offers 18...  115.7034   \n",
       "\n",
       "   gradient  gradient_p_1  gradient_p_2  \n",
       "0  -0.29840       0.00000       0.00000  \n",
       "1   0.03595      -0.29840       0.00000  \n",
       "2   0.52140       0.03595      -0.29840  \n",
       "3   0.16395       0.52140       0.03595  \n",
       "4  -0.44425       0.16395       0.52140  "
      ]
     },
     "execution_count": 221,
     "metadata": {},
     "output_type": "execute_result"
    }
   ],
   "source": [
    "data.head()"
   ]
  },
  {
   "cell_type": "code",
   "execution_count": 222,
   "metadata": {
    "scrolled": true
   },
   "outputs": [
    {
     "name": "stdout",
     "output_type": "stream",
     "text": [
      "(488, 6)\n"
     ]
    }
   ],
   "source": [
    "print(data.shape)"
   ]
  },
  {
   "cell_type": "code",
   "execution_count": 223,
   "metadata": {
    "collapsed": true
   },
   "outputs": [],
   "source": [
    "target_names = ['down','up']"
   ]
  },
  {
   "cell_type": "code",
   "execution_count": 224,
   "metadata": {
    "collapsed": true
   },
   "outputs": [],
   "source": [
    "def binary(Y):\n",
    "    Y[np.where(Y > 0)] = 1\n",
    "    Y[np.where(Y <= 0)] = 0\n",
    "    Y = Y.astype('int64')\n",
    "    f = np.bincount(Y)\n",
    "    print(f)\n",
    "    return Y"
   ]
  },
  {
   "cell_type": "code",
   "execution_count": 225,
   "metadata": {},
   "outputs": [
    {
     "name": "stdout",
     "output_type": "stream",
     "text": [
      "[225 263]\n"
     ]
    }
   ],
   "source": [
    "Y = data.as_matrix(columns=['gradient']).reshape(-1)\n",
    "Y = binary(Y)"
   ]
  },
  {
   "cell_type": "code",
   "execution_count": 226,
   "metadata": {},
   "outputs": [
    {
     "name": "stdout",
     "output_type": "stream",
     "text": [
      "[226 262]\n",
      "[229 259]\n"
     ]
    }
   ],
   "source": [
    "X_p = data.as_matrix(columns=['gradient_p_1', 'gradient_p_2'])\n",
    "X_p[:,0] = binary(X_p[:,0])\n",
    "X_p[:,1] = binary(X_p[:,1])"
   ]
  },
  {
   "cell_type": "code",
   "execution_count": 227,
   "metadata": {},
   "outputs": [
    {
     "data": {
      "text/plain": [
       "<488x4793 sparse matrix of type '<class 'numpy.float64'>'\n",
       "\twith 66784 stored elements in Compressed Sparse Row format>"
      ]
     },
     "execution_count": 227,
     "metadata": {},
     "output_type": "execute_result"
    }
   ],
   "source": [
    "vectorizer = TfidfVectorizer(min_df=4, ngram_range=(1, 4))\n",
    "X = vectorizer.fit_transform(data['tweet'].tolist())\n",
    "X"
   ]
  },
  {
   "cell_type": "code",
   "execution_count": 228,
   "metadata": {},
   "outputs": [],
   "source": [
    "with_trump = True\n",
    "if with_trump:\n",
    "    X = hstack([X, X.power(2), X.power(3), X.power(4), X_p])\n",
    "else:\n",
    "    X = X_p"
   ]
  },
  {
   "cell_type": "code",
   "execution_count": 229,
   "metadata": {},
   "outputs": [
    {
     "name": "stdout",
     "output_type": "stream",
     "text": [
      "(390, 19174)\n",
      "(98, 19174)\n"
     ]
    }
   ],
   "source": [
    "X_train, X_test, y_train, y_test = train_test_split(X, Y, train_size=0.8)\n",
    "print(X_train.shape)\n",
    "print(X_test.shape)"
   ]
  },
  {
   "cell_type": "code",
   "execution_count": 230,
   "metadata": {
    "collapsed": true
   },
   "outputs": [],
   "source": [
    "def create_model():\n",
    "    model = NuSVC(kernel='rbf',\n",
    "              nu=0.5,\n",
    "              degree = 3,\n",
    "              verbose=0)\n",
    "    return model"
   ]
  },
  {
   "cell_type": "code",
   "execution_count": 231,
   "metadata": {},
   "outputs": [
    {
     "name": "stdout",
     "output_type": "stream",
     "text": [
      "\n",
      "precision: 0.714362101916\n",
      "recall: 0.6087808418\n",
      "acc: 0.6496\n"
     ]
    }
   ],
   "source": [
    "cv = 5\n",
    "model = create_model()\n",
    "recall = cross_val_score(model, X, Y, cv=cv, n_jobs = -1, scoring='recall')\n",
    "precision = cross_val_score(model, X, Y, cv=cv, n_jobs = -1, scoring='precision')\n",
    "print('\\nprecision:',np.mean(precision))\n",
    "print('recall:', np.mean(recall))\n",
    "print('acc: %.4f'%(np.mean(cross_val_score(model, X, Y, cv=cv, n_jobs = -1))))"
   ]
  },
  {
   "cell_type": "code",
   "execution_count": 232,
   "metadata": {
    "collapsed": true
   },
   "outputs": [],
   "source": [
    "def show_result(X_test, y_test):\n",
    "    print(confusion_matrix(y_test, model.predict(X_test), labels=[0,1]))\n",
    "    print(classification_report(y_test, model.predict(X_test), target_names=target_names))"
   ]
  },
  {
   "cell_type": "code",
   "execution_count": 233,
   "metadata": {},
   "outputs": [
    {
     "name": "stdout",
     "output_type": "stream",
     "text": [
      "Running Fold\n",
      "[[29 16]\n",
      " [12 41]]\n",
      "             precision    recall  f1-score   support\n",
      "\n",
      "       down       0.71      0.64      0.67        45\n",
      "         up       0.72      0.77      0.75        53\n",
      "\n",
      "avg / total       0.71      0.71      0.71        98\n",
      "\n",
      "Running Fold\n",
      "[[41  4]\n",
      " [41 12]]\n",
      "             precision    recall  f1-score   support\n",
      "\n",
      "       down       0.50      0.91      0.65        45\n",
      "         up       0.75      0.23      0.35        53\n",
      "\n",
      "avg / total       0.64      0.54      0.48        98\n",
      "\n",
      "Running Fold\n",
      "[[24 21]\n",
      " [14 39]]\n",
      "             precision    recall  f1-score   support\n",
      "\n",
      "       down       0.63      0.53      0.58        45\n",
      "         up       0.65      0.74      0.69        53\n",
      "\n",
      "avg / total       0.64      0.64      0.64        98\n",
      "\n",
      "Running Fold\n",
      "[[30 15]\n",
      " [15 37]]\n",
      "             precision    recall  f1-score   support\n",
      "\n",
      "       down       0.67      0.67      0.67        45\n",
      "         up       0.71      0.71      0.71        52\n",
      "\n",
      "avg / total       0.69      0.69      0.69        97\n",
      "\n",
      "Running Fold\n",
      "[[35 10]\n",
      " [24 28]]\n",
      "             precision    recall  f1-score   support\n",
      "\n",
      "       down       0.59      0.78      0.67        45\n",
      "         up       0.74      0.54      0.62        52\n",
      "\n",
      "avg / total       0.67      0.65      0.65        97\n",
      "\n"
     ]
    }
   ],
   "source": [
    "skf = StratifiedKFold(n_splits=cv, shuffle=True)\n",
    "for train_idx, test_idx in skf.split(X, Y):\n",
    "    print (\"Running Fold\")\n",
    "    model = create_model()\n",
    "    if type(X) != np.ndarray:\n",
    "        model.fit(X.tocsr()[train_idx], Y[train_idx])\n",
    "        show_result(X.tocsr()[test_idx], Y[test_idx])\n",
    "    else:\n",
    "        model.fit(X[train_idx], Y[train_idx])\n",
    "        show_result(X[test_idx], Y[test_idx])"
   ]
  },
  {
   "cell_type": "code",
   "execution_count": null,
   "metadata": {
    "collapsed": true
   },
   "outputs": [],
   "source": []
  }
 ],
 "metadata": {
  "kernelspec": {
   "display_name": "Python 3",
   "language": "python",
   "name": "python3"
  },
  "language_info": {
   "codemirror_mode": {
    "name": "ipython",
    "version": 3
   },
   "file_extension": ".py",
   "mimetype": "text/x-python",
   "name": "python",
   "nbconvert_exporter": "python",
   "pygments_lexer": "ipython3",
   "version": "3.6.1"
  }
 },
 "nbformat": 4,
 "nbformat_minor": 2
}
