{
 "cells": [
  {
   "cell_type": "code",
   "execution_count": 31,
   "metadata": {
    "collapsed": true
   },
   "outputs": [],
   "source": [
    "import re\n",
    "import pandas as pd\n",
    "import numpy as np\n",
    "import MySQLdb\n",
    "import time\n",
    "from scipy.ndimage.interpolation import shift\n",
    "import matplotlib.pyplot as plt\n",
    "from scipy.sparse import csr_matrix, hstack\n",
    "from sklearn.model_selection import train_test_split\n",
    "from datetime import datetime\n",
    "from matplotlib import pyplot as plt\n",
    "from sklearn.feature_extraction.text import CountVectorizer, TfidfVectorizer\n",
    "from sklearn.linear_model import LogisticRegression\n",
    "from sklearn import linear_model\n",
    "from sklearn.neural_network import MLPClassifier\n",
    "from sklearn.svm import NuSVC, SVC\n",
    "from sklearn.ensemble import AdaBoostClassifier, GradientBoostingRegressor\n",
    "from sklearn.model_selection import cross_val_predict, cross_val_score, StratifiedKFold, KFold\n",
    "from sklearn.metrics import confusion_matrix, classification_report, mean_squared_error\n",
    "from sklearn import preprocessing"
   ]
  },
  {
   "cell_type": "code",
   "execution_count": 32,
   "metadata": {},
   "outputs": [
    {
     "name": "stdout",
     "output_type": "stream",
     "text": [
      "Fetch data time: 36.03579783439636sec.\n"
     ]
    }
   ],
   "source": [
    "tStart = time.time()\n",
    "start_timestamp = '1259769600' #1433088000 #1484870400 #1259769600\n",
    "conn=MySQLdb.connect(\"54.65.19.253\", \"news\", \"newsnews\", \"news\")\n",
    "sql = \"SELECT timestamp, tweet FROM trump WHERE timestamp > %s;\"%(start_timestamp)\n",
    "trump_data = pd.read_sql_query(sql, conn)\n",
    "sql = \"SELECT timestamp, usdx FROM usdx WHERE timestamp > %s;\"%(start_timestamp)\n",
    "usdx_data = pd.read_sql_query(sql, conn)\n",
    "tEnd = time.time()\n",
    "conn.close()\n",
    "print(\"Fetch data time: \" +str(tEnd-tStart)+ \"sec.\")"
   ]
  },
  {
   "cell_type": "code",
   "execution_count": 33,
   "metadata": {},
   "outputs": [
    {
     "data": {
      "text/html": [
       "<div>\n",
       "<style>\n",
       "    .dataframe thead tr:only-child th {\n",
       "        text-align: right;\n",
       "    }\n",
       "\n",
       "    .dataframe thead th {\n",
       "        text-align: left;\n",
       "    }\n",
       "\n",
       "    .dataframe tbody tr th {\n",
       "        vertical-align: top;\n",
       "    }\n",
       "</style>\n",
       "<table border=\"1\" class=\"dataframe\">\n",
       "  <thead>\n",
       "    <tr style=\"text-align: right;\">\n",
       "      <th></th>\n",
       "      <th>timestamp</th>\n",
       "      <th>tweet</th>\n",
       "    </tr>\n",
       "  </thead>\n",
       "  <tbody>\n",
       "    <tr>\n",
       "      <th>0</th>\n",
       "      <td>1293638400</td>\n",
       "      <td>WIshing everyone a happy, healthy and prospero...</td>\n",
       "    </tr>\n",
       "    <tr>\n",
       "      <th>1</th>\n",
       "      <td>1293033600</td>\n",
       "      <td>Wishing everyone a very Happy Holiday season!</td>\n",
       "    </tr>\n",
       "    <tr>\n",
       "      <th>2</th>\n",
       "      <td>1292169600</td>\n",
       "      <td>...Trump International Hotel Las Vegas, and Tr...</td>\n",
       "    </tr>\n",
       "    <tr>\n",
       "      <th>3</th>\n",
       "      <td>1292169600</td>\n",
       "      <td>Those five hotels includeTrump International H...</td>\n",
       "    </tr>\n",
       "    <tr>\n",
       "      <th>4</th>\n",
       "      <td>1290528000</td>\n",
       "      <td>My best wishes to everyone for a Happy Thanksg...</td>\n",
       "    </tr>\n",
       "  </tbody>\n",
       "</table>\n",
       "</div>"
      ],
      "text/plain": [
       "    timestamp                                              tweet\n",
       "0  1293638400  WIshing everyone a happy, healthy and prospero...\n",
       "1  1293033600      Wishing everyone a very Happy Holiday season!\n",
       "2  1292169600  ...Trump International Hotel Las Vegas, and Tr...\n",
       "3  1292169600  Those five hotels includeTrump International H...\n",
       "4  1290528000  My best wishes to everyone for a Happy Thanksg..."
      ]
     },
     "execution_count": 33,
     "metadata": {},
     "output_type": "execute_result"
    }
   ],
   "source": [
    "trump_data.head()"
   ]
  },
  {
   "cell_type": "code",
   "execution_count": 34,
   "metadata": {},
   "outputs": [
    {
     "data": {
      "text/plain": [
       "(20584, 2)"
      ]
     },
     "execution_count": 34,
     "metadata": {},
     "output_type": "execute_result"
    }
   ],
   "source": [
    "trump_data.shape"
   ]
  },
  {
   "cell_type": "code",
   "execution_count": 35,
   "metadata": {
    "collapsed": true
   },
   "outputs": [],
   "source": [
    "trump_data = trump_data.groupby('timestamp', as_index=False).agg(lambda tweet: ' '.join(tweet))\n",
    "Y = usdx_data.as_matrix(columns=['usdx']).reshape(-1)\n",
    "usdx_data['gradient'] = np.gradient(Y)"
   ]
  },
  {
   "cell_type": "code",
   "execution_count": 36,
   "metadata": {
    "collapsed": true
   },
   "outputs": [],
   "source": [
    "def get_shift(usdx_data, shift_offset=2):\n",
    "    g = usdx_data.as_matrix(columns=['gradient']).reshape(-1)\n",
    "    for i in range(1, shift_offset+1):\n",
    "        usdx_data['gradient_p_'+str(i)] = shift(g, i, cval=0)"
   ]
  },
  {
   "cell_type": "code",
   "execution_count": 37,
   "metadata": {},
   "outputs": [
    {
     "data": {
      "text/html": [
       "<div>\n",
       "<style>\n",
       "    .dataframe thead tr:only-child th {\n",
       "        text-align: right;\n",
       "    }\n",
       "\n",
       "    .dataframe thead th {\n",
       "        text-align: left;\n",
       "    }\n",
       "\n",
       "    .dataframe tbody tr th {\n",
       "        vertical-align: top;\n",
       "    }\n",
       "</style>\n",
       "<table border=\"1\" class=\"dataframe\">\n",
       "  <thead>\n",
       "    <tr style=\"text-align: right;\">\n",
       "      <th></th>\n",
       "      <th>timestamp</th>\n",
       "      <th>usdx</th>\n",
       "      <th>gradient</th>\n",
       "      <th>gradient_p_1</th>\n",
       "      <th>gradient_p_2</th>\n",
       "    </tr>\n",
       "  </thead>\n",
       "  <tbody>\n",
       "    <tr>\n",
       "      <th>0</th>\n",
       "      <td>1259856000</td>\n",
       "      <td>100.2170</td>\n",
       "      <td>0.16190</td>\n",
       "      <td>0.00000</td>\n",
       "      <td>0.00000</td>\n",
       "    </tr>\n",
       "    <tr>\n",
       "      <th>1</th>\n",
       "      <td>1260115200</td>\n",
       "      <td>100.3789</td>\n",
       "      <td>0.27475</td>\n",
       "      <td>0.16190</td>\n",
       "      <td>0.00000</td>\n",
       "    </tr>\n",
       "    <tr>\n",
       "      <th>2</th>\n",
       "      <td>1260201600</td>\n",
       "      <td>100.7665</td>\n",
       "      <td>0.22450</td>\n",
       "      <td>0.27475</td>\n",
       "      <td>0.16190</td>\n",
       "    </tr>\n",
       "    <tr>\n",
       "      <th>3</th>\n",
       "      <td>1260288000</td>\n",
       "      <td>100.8279</td>\n",
       "      <td>0.03215</td>\n",
       "      <td>0.22450</td>\n",
       "      <td>0.27475</td>\n",
       "    </tr>\n",
       "    <tr>\n",
       "      <th>4</th>\n",
       "      <td>1260374400</td>\n",
       "      <td>100.8308</td>\n",
       "      <td>0.13820</td>\n",
       "      <td>0.03215</td>\n",
       "      <td>0.22450</td>\n",
       "    </tr>\n",
       "  </tbody>\n",
       "</table>\n",
       "</div>"
      ],
      "text/plain": [
       "    timestamp      usdx  gradient  gradient_p_1  gradient_p_2\n",
       "0  1259856000  100.2170   0.16190       0.00000       0.00000\n",
       "1  1260115200  100.3789   0.27475       0.16190       0.00000\n",
       "2  1260201600  100.7665   0.22450       0.27475       0.16190\n",
       "3  1260288000  100.8279   0.03215       0.22450       0.27475\n",
       "4  1260374400  100.8308   0.13820       0.03215       0.22450"
      ]
     },
     "execution_count": 37,
     "metadata": {},
     "output_type": "execute_result"
    }
   ],
   "source": [
    "get_shift(usdx_data, shift_offset=2)\n",
    "usdx_data.head()"
   ]
  },
  {
   "cell_type": "code",
   "execution_count": 38,
   "metadata": {
    "collapsed": true
   },
   "outputs": [],
   "source": [
    "data = pd.merge(trump_data, usdx_data, on='timestamp')"
   ]
  },
  {
   "cell_type": "code",
   "execution_count": 39,
   "metadata": {},
   "outputs": [
    {
     "data": {
      "text/html": [
       "<div>\n",
       "<style>\n",
       "    .dataframe thead tr:only-child th {\n",
       "        text-align: right;\n",
       "    }\n",
       "\n",
       "    .dataframe thead th {\n",
       "        text-align: left;\n",
       "    }\n",
       "\n",
       "    .dataframe tbody tr th {\n",
       "        vertical-align: top;\n",
       "    }\n",
       "</style>\n",
       "<table border=\"1\" class=\"dataframe\">\n",
       "  <thead>\n",
       "    <tr style=\"text-align: right;\">\n",
       "      <th></th>\n",
       "      <th>timestamp</th>\n",
       "      <th>tweet</th>\n",
       "      <th>usdx</th>\n",
       "      <th>gradient</th>\n",
       "      <th>gradient_p_1</th>\n",
       "      <th>gradient_p_2</th>\n",
       "    </tr>\n",
       "  </thead>\n",
       "  <tbody>\n",
       "    <tr>\n",
       "      <th>0</th>\n",
       "      <td>1263225600</td>\n",
       "      <td>Celebrity Apprentice returns to NBC, Sunday, 3...</td>\n",
       "      <td>100.7315</td>\n",
       "      <td>0.20705</td>\n",
       "      <td>-0.10160</td>\n",
       "      <td>-0.39160</td>\n",
       "    </tr>\n",
       "    <tr>\n",
       "      <th>1</th>\n",
       "      <td>1264003200</td>\n",
       "      <td>from Donald Trump: \"I saw Lady Gaga last night...</td>\n",
       "      <td>101.6901</td>\n",
       "      <td>0.13415</td>\n",
       "      <td>0.33880</td>\n",
       "      <td>0.45530</td>\n",
       "    </tr>\n",
       "    <tr>\n",
       "      <th>2</th>\n",
       "      <td>1265817600</td>\n",
       "      <td>Donald Trump appeared on the final episode of ...</td>\n",
       "      <td>103.0298</td>\n",
       "      <td>-0.09450</td>\n",
       "      <td>-0.00325</td>\n",
       "      <td>-0.09375</td>\n",
       "    </tr>\n",
       "    <tr>\n",
       "      <th>3</th>\n",
       "      <td>1267718400</td>\n",
       "      <td>From Donald Trump: Andrea Bocelli @ Mar-a-Lago...</td>\n",
       "      <td>102.1641</td>\n",
       "      <td>-0.08555</td>\n",
       "      <td>0.13735</td>\n",
       "      <td>-0.03815</td>\n",
       "    </tr>\n",
       "    <tr>\n",
       "      <th>4</th>\n",
       "      <td>1268323200</td>\n",
       "      <td>The Celebrity Apprentice has a two-hour premie...</td>\n",
       "      <td>101.5599</td>\n",
       "      <td>-0.04325</td>\n",
       "      <td>-0.18250</td>\n",
       "      <td>-0.06920</td>\n",
       "    </tr>\n",
       "  </tbody>\n",
       "</table>\n",
       "</div>"
      ],
      "text/plain": [
       "    timestamp                                              tweet      usdx  \\\n",
       "0  1263225600  Celebrity Apprentice returns to NBC, Sunday, 3...  100.7315   \n",
       "1  1264003200  from Donald Trump: \"I saw Lady Gaga last night...  101.6901   \n",
       "2  1265817600  Donald Trump appeared on the final episode of ...  103.0298   \n",
       "3  1267718400  From Donald Trump: Andrea Bocelli @ Mar-a-Lago...  102.1641   \n",
       "4  1268323200  The Celebrity Apprentice has a two-hour premie...  101.5599   \n",
       "\n",
       "   gradient  gradient_p_1  gradient_p_2  \n",
       "0   0.20705      -0.10160      -0.39160  \n",
       "1   0.13415       0.33880       0.45530  \n",
       "2  -0.09450      -0.00325      -0.09375  \n",
       "3  -0.08555       0.13735      -0.03815  \n",
       "4  -0.04325      -0.18250      -0.06920  "
      ]
     },
     "execution_count": 39,
     "metadata": {},
     "output_type": "execute_result"
    }
   ],
   "source": [
    "data.head()"
   ]
  },
  {
   "cell_type": "code",
   "execution_count": 40,
   "metadata": {
    "scrolled": true
   },
   "outputs": [
    {
     "name": "stdout",
     "output_type": "stream",
     "text": [
      "(1552, 6)\n"
     ]
    }
   ],
   "source": [
    "print(data.shape)"
   ]
  },
  {
   "cell_type": "code",
   "execution_count": 41,
   "metadata": {
    "collapsed": true
   },
   "outputs": [],
   "source": [
    "target_names = ['decline','up']"
   ]
  },
  {
   "cell_type": "code",
   "execution_count": 42,
   "metadata": {
    "collapsed": true
   },
   "outputs": [],
   "source": [
    "def binary(Y):\n",
    "    Y[np.where(Y > 0)] = 1\n",
    "    Y[np.where(Y <= 0)] = 0\n",
    "    Y = Y.astype('int64')\n",
    "    f = np.bincount(Y)\n",
    "    print(f)\n",
    "    return Y"
   ]
  },
  {
   "cell_type": "code",
   "execution_count": 43,
   "metadata": {},
   "outputs": [
    {
     "name": "stdout",
     "output_type": "stream",
     "text": [
      "[730 822]\n"
     ]
    }
   ],
   "source": [
    "Y = data.as_matrix(columns=['gradient']).reshape(-1)\n",
    "Y = binary(Y)"
   ]
  },
  {
   "cell_type": "code",
   "execution_count": 44,
   "metadata": {},
   "outputs": [
    {
     "name": "stdout",
     "output_type": "stream",
     "text": [
      "[729 823]\n",
      "[743 809]\n"
     ]
    }
   ],
   "source": [
    "X_p = data.as_matrix(columns=['gradient_p_1', 'gradient_p_2'])\n",
    "X_p[:,0] = binary(X_p[:,0])\n",
    "X_p[:,1] = binary(X_p[:,1])"
   ]
  },
  {
   "cell_type": "code",
   "execution_count": 45,
   "metadata": {},
   "outputs": [
    {
     "data": {
      "text/plain": [
       "<1552x16954 sparse matrix of type '<class 'numpy.float64'>'\n",
       "\twith 267299 stored elements in Compressed Sparse Row format>"
      ]
     },
     "execution_count": 45,
     "metadata": {},
     "output_type": "execute_result"
    }
   ],
   "source": [
    "vectorizer = TfidfVectorizer(min_df=4, ngram_range=(1, 4))\n",
    "X = vectorizer.fit_transform(data['tweet'].tolist())\n",
    "X"
   ]
  },
  {
   "cell_type": "code",
   "execution_count": 46,
   "metadata": {},
   "outputs": [],
   "source": [
    "with_trump = True\n",
    "if with_trump:\n",
    "    X = hstack([X, X.power(2), X.power(3), X.power(4), X_p])\n",
    "else:\n",
    "    X = X_p"
   ]
  },
  {
   "cell_type": "code",
   "execution_count": 47,
   "metadata": {},
   "outputs": [
    {
     "name": "stdout",
     "output_type": "stream",
     "text": [
      "(1241, 67818)\n",
      "(311, 67818)\n"
     ]
    }
   ],
   "source": [
    "X_train, X_test, y_train, y_test = train_test_split(X, Y, train_size=0.8)\n",
    "print(X_train.shape)\n",
    "print(X_test.shape)"
   ]
  },
  {
   "cell_type": "code",
   "execution_count": 48,
   "metadata": {
    "collapsed": true
   },
   "outputs": [],
   "source": [
    "def create_model():\n",
    "    model = NuSVC(kernel='rbf',\n",
    "              nu=0.5,\n",
    "              degree = 3,\n",
    "              verbose=0)\n",
    "    return model"
   ]
  },
  {
   "cell_type": "code",
   "execution_count": 49,
   "metadata": {},
   "outputs": [
    {
     "name": "stdout",
     "output_type": "stream",
     "text": [
      "\n",
      "precision: 0.723704423801\n",
      "recall: 0.616592756837\n",
      "acc: 0.6720\n"
     ]
    }
   ],
   "source": [
    "cv = 5\n",
    "model = create_model()\n",
    "recall = cross_val_score(model, X, Y, cv=cv, n_jobs = -1, scoring='recall')\n",
    "precision = cross_val_score(model, X, Y, cv=cv, n_jobs = -1, scoring='precision')\n",
    "print('\\nprecision:',np.mean(precision))\n",
    "print('recall:', np.mean(recall))\n",
    "print('acc: %.4f'%(np.mean(cross_val_score(model, X, Y, cv=cv, n_jobs = -1))))"
   ]
  },
  {
   "cell_type": "code",
   "execution_count": 50,
   "metadata": {
    "collapsed": true
   },
   "outputs": [],
   "source": [
    "def show_result(X_test, y_test):\n",
    "    print(confusion_matrix(y_test, model.predict(X_test), labels=[0,1]))\n",
    "    print(classification_report(y_test, model.predict(X_test), target_names=target_names))"
   ]
  },
  {
   "cell_type": "code",
   "execution_count": 51,
   "metadata": {},
   "outputs": [
    {
     "name": "stdout",
     "output_type": "stream",
     "text": [
      "Running Fold\n",
      "[[ 96  50]\n",
      " [ 40 125]]\n",
      "             precision    recall  f1-score   support\n",
      "\n",
      "       down       0.71      0.66      0.68       146\n",
      "         up       0.71      0.76      0.74       165\n",
      "\n",
      "avg / total       0.71      0.71      0.71       311\n",
      "\n",
      "Running Fold\n",
      "[[ 97  49]\n",
      " [ 53 112]]\n",
      "             precision    recall  f1-score   support\n",
      "\n",
      "       down       0.65      0.66      0.66       146\n",
      "         up       0.70      0.68      0.69       165\n",
      "\n",
      "avg / total       0.67      0.67      0.67       311\n",
      "\n",
      "Running Fold\n",
      "[[ 82  64]\n",
      " [128  36]]\n",
      "             precision    recall  f1-score   support\n",
      "\n",
      "       down       0.39      0.56      0.46       146\n",
      "         up       0.36      0.22      0.27       164\n",
      "\n",
      "avg / total       0.37      0.38      0.36       310\n",
      "\n",
      "Running Fold\n",
      "[[102  44]\n",
      " [ 48 116]]\n",
      "             precision    recall  f1-score   support\n",
      "\n",
      "       down       0.68      0.70      0.69       146\n",
      "         up       0.72      0.71      0.72       164\n",
      "\n",
      "avg / total       0.70      0.70      0.70       310\n",
      "\n",
      "Running Fold\n",
      "[[ 27 119]\n",
      " [ 15 149]]\n",
      "             precision    recall  f1-score   support\n",
      "\n",
      "       down       0.64      0.18      0.29       146\n",
      "         up       0.56      0.91      0.69       164\n",
      "\n",
      "avg / total       0.60      0.57      0.50       310\n",
      "\n"
     ]
    }
   ],
   "source": [
    "skf = StratifiedKFold(n_splits=cv, shuffle=True)\n",
    "for train_idx, test_idx in skf.split(X, Y):\n",
    "    print (\"Running Fold\")\n",
    "    model = create_model()\n",
    "    if type(X) != np.ndarray:\n",
    "        model.fit(X.tocsr()[train_idx], Y[train_idx])\n",
    "        show_result(X.tocsr()[test_idx], Y[test_idx])\n",
    "    else:\n",
    "        model.fit(X[train_idx], Y[train_idx])\n",
    "        show_result(X[test_idx], Y[test_idx])"
   ]
  },
  {
   "cell_type": "markdown",
   "metadata": {
    "collapsed": true
   },
   "source": []
  }
 ],
 "metadata": {
  "kernelspec": {
   "display_name": "Python 3",
   "language": "python",
   "name": "python3"
  },
  "language_info": {
   "codemirror_mode": {
    "name": "ipython",
    "version": 3
   },
   "file_extension": ".py",
   "mimetype": "text/x-python",
   "name": "python",
   "nbconvert_exporter": "python",
   "pygments_lexer": "ipython3",
   "version": "3.6.1"
  }
 },
 "nbformat": 4,
 "nbformat_minor": 2
}
