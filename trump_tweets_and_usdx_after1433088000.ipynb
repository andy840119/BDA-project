{
 "cells": [
  {
   "cell_type": "code",
   "execution_count": 87,
   "metadata": {
    "collapsed": true
   },
   "outputs": [],
   "source": [
    "import re\n",
    "import pandas as pd\n",
    "import numpy as np\n",
    "from scipy.ndimage.interpolation import shift\n",
    "import matplotlib.pyplot as plt\n",
    "from scipy.sparse import csr_matrix, hstack\n",
    "from sklearn.model_selection import train_test_split\n",
    "from datetime import datetime\n",
    "from matplotlib import pyplot as plt\n",
    "from sklearn.feature_extraction.text import CountVectorizer, TfidfVectorizer\n",
    "from sklearn.linear_model import LogisticRegression\n",
    "from sklearn import linear_model\n",
    "from sklearn.neural_network import MLPClassifier\n",
    "from sklearn.svm import NuSVC, SVC\n",
    "from sklearn.ensemble import AdaBoostClassifier, GradientBoostingRegressor\n",
    "from sklearn.model_selection import cross_val_predict, cross_val_score, StratifiedKFold, KFold\n",
    "from sklearn.metrics import confusion_matrix, classification_report, mean_squared_error\n",
    "from sklearn import preprocessing"
   ]
  },
  {
   "cell_type": "code",
   "execution_count": 88,
   "metadata": {},
   "outputs": [
    {
     "name": "stdout",
     "output_type": "stream",
     "text": [
      "Fetch data time: 0.3688828945159912sec.\n"
     ]
    }
   ],
   "source": [
    "import MySQLdb\n",
    "import time\n",
    "conn=MySQLdb.connect(\"54.65.19.253\", \"news\", \"newsnews\", \"news\")\n",
    "sql = \"SELECT trump.tweet, usdx FROM usdx, trump WHERE trump.timestamp = usdx.timestamp AND trump.timestamp > 1433088000;\"\n",
    "tStart = time.time()\n",
    "data = pd.read_sql_query(sql, conn)\n",
    "conn.close()\n",
    "tEnd = time.time()\n",
    "print(\"Fetch data time: \" +str(tEnd-tStart)+ \"sec.\")"
   ]
  },
  {
   "cell_type": "code",
   "execution_count": 89,
   "metadata": {},
   "outputs": [
    {
     "data": {
      "text/html": [
       "<div>\n",
       "<table border=\"1\" class=\"dataframe\">\n",
       "  <thead>\n",
       "    <tr style=\"text-align: right;\">\n",
       "      <th></th>\n",
       "      <th>usdx</th>\n",
       "      <th>tweet</th>\n",
       "    </tr>\n",
       "  </thead>\n",
       "  <tbody>\n",
       "    <tr>\n",
       "      <th>0</th>\n",
       "      <td>114.0412</td>\n",
       "      <td>Watch my appearance on @Morning_Joe - great in...</td>\n",
       "    </tr>\n",
       "    <tr>\n",
       "      <th>1</th>\n",
       "      <td>114.3219</td>\n",
       "      <td>\"@MalachiNorris: Donald J. Trump is the very d...</td>\n",
       "    </tr>\n",
       "    <tr>\n",
       "      <th>2</th>\n",
       "      <td>114.3983</td>\n",
       "      <td>\"@stevenkirk @realDonaldTrump @PatrickBuchanan...</td>\n",
       "    </tr>\n",
       "    <tr>\n",
       "      <th>3</th>\n",
       "      <td>114.8460</td>\n",
       "      <td>\"@woodrowwinters @realDonaldTrump pumped for T...</td>\n",
       "    </tr>\n",
       "    <tr>\n",
       "      <th>4</th>\n",
       "      <td>114.9009</td>\n",
       "      <td>\"@kolbytraveller #Trump is more than just talk...</td>\n",
       "    </tr>\n",
       "  </tbody>\n",
       "</table>\n",
       "</div>"
      ],
      "text/plain": [
       "       usdx                                              tweet\n",
       "0  114.0412  Watch my appearance on @Morning_Joe - great in...\n",
       "1  114.3219  \"@MalachiNorris: Donald J. Trump is the very d...\n",
       "2  114.3983  \"@stevenkirk @realDonaldTrump @PatrickBuchanan...\n",
       "3  114.8460  \"@woodrowwinters @realDonaldTrump pumped for T...\n",
       "4  114.9009  \"@kolbytraveller #Trump is more than just talk..."
      ]
     },
     "execution_count": 89,
     "metadata": {},
     "output_type": "execute_result"
    }
   ],
   "source": [
    "data = data.groupby('usdx', as_index=False).agg(lambda tweet: ' '.join(tweet))\n",
    "data.head()"
   ]
  },
  {
   "cell_type": "code",
   "execution_count": 90,
   "metadata": {},
   "outputs": [
    {
     "data": {
      "text/plain": [
       "(473, 2)"
      ]
     },
     "execution_count": 90,
     "metadata": {},
     "output_type": "execute_result"
    }
   ],
   "source": [
    "data.shape"
   ]
  },
  {
   "cell_type": "code",
   "execution_count": 91,
   "metadata": {},
   "outputs": [
    {
     "name": "stdout",
     "output_type": "stream",
     "text": [
      "[237 236]\n"
     ]
    }
   ],
   "source": [
    "Y = data.as_matrix(columns=['usdx']).reshape(-1)\n",
    "Y = np.gradient(Y)\n",
    "#num_classes = 3\n",
    "offset = np.median(Y)\n",
    "Y[np.where(Y > offset)] = 1\n",
    "Y[np.where(Y <= offset)] = 0\n",
    "Y = Y.astype('int64')\n",
    "f = np.bincount(Y)\n",
    "print(f)\n",
    "#print(1-((f[0]+f[1])/np.sum(f)))\n",
    "#Y = shift(Y, -1, cval=1)"
   ]
  },
  {
   "cell_type": "code",
   "execution_count": 92,
   "metadata": {
    "collapsed": true
   },
   "outputs": [],
   "source": [
    "X = data.as_matrix(columns=['tweet'])"
   ]
  },
  {
   "cell_type": "code",
   "execution_count": 93,
   "metadata": {},
   "outputs": [
    {
     "data": {
      "text/plain": [
       "<473x113689 sparse matrix of type '<class 'numpy.float64'>'\n",
       "\twith 184975 stored elements in Compressed Sparse Row format>"
      ]
     },
     "execution_count": 93,
     "metadata": {},
     "output_type": "execute_result"
    }
   ],
   "source": [
    "vectorizer = TfidfVectorizer(min_df=1, ngram_range=(1, 3))\n",
    "X = vectorizer.fit_transform(data['tweet'].tolist())\n",
    "X"
   ]
  },
  {
   "cell_type": "code",
   "execution_count": 94,
   "metadata": {
    "collapsed": true
   },
   "outputs": [],
   "source": [
    "X= hstack([X, X.power(2)])"
   ]
  },
  {
   "cell_type": "code",
   "execution_count": 95,
   "metadata": {},
   "outputs": [
    {
     "name": "stdout",
     "output_type": "stream",
     "text": [
      "(378, 227378)\n",
      "(95, 227378)\n"
     ]
    }
   ],
   "source": [
    "X_train, X_test, y_train, y_test = train_test_split(X, Y, train_size=0.8)\n",
    "print(X_train.shape)\n",
    "print(X_test.shape)"
   ]
  },
  {
   "cell_type": "code",
   "execution_count": 106,
   "metadata": {},
   "outputs": [
    {
     "name": "stdout",
     "output_type": "stream",
     "text": [
      "\n",
      "precision: 0.542475506332\n",
      "recall: 0.842553191489\n",
      "acc: 0.5560\n"
     ]
    }
   ],
   "source": [
    "cv = 5\n",
    "model = NuSVC(kernel='rbf',\n",
    "              nu=0.5,\n",
    "              degree = 5,\n",
    "              verbose=0)\n",
    "recall = cross_val_score(model, X, Y, cv=cv, n_jobs = -1, scoring='recall')\n",
    "precision = cross_val_score(model, X, Y, cv=cv, n_jobs = -1, scoring='precision')\n",
    "print('\\nprecision:',np.mean(precision))\n",
    "print('recall:', np.mean(recall))\n",
    "print('acc: %.4f'%((np.bincount(np.where(cross_val_predict(model, X, Y, cv=cv, n_jobs = -1)-Y != 0, 0, 1))/len(Y))[1]))"
   ]
  },
  {
   "cell_type": "code",
   "execution_count": 97,
   "metadata": {},
   "outputs": [
    {
     "name": "stdout",
     "output_type": "stream",
     "text": [
      "[[29 15]\n",
      " [15 36]]\n",
      "             precision    recall  f1-score   support\n",
      "\n",
      "       down       0.66      0.66      0.66        44\n",
      "         up       0.71      0.71      0.71        51\n",
      "\n",
      "avg / total       0.68      0.68      0.68        95\n",
      "\n"
     ]
    }
   ],
   "source": [
    "model.fit(X_train, y_train)\n",
    "print(confusion_matrix(y_test, model.predict(X_test), labels=[0,1]))\n",
    "target_names = ['down','up']\n",
    "print(classification_report(y_test, model.predict(X_test), target_names=target_names))"
   ]
  },
  {
   "cell_type": "code",
   "execution_count": 103,
   "metadata": {},
   "outputs": [
    {
     "name": "stdout",
     "output_type": "stream",
     "text": [
      "Running Fold\n",
      "             precision    recall  f1-score   support\n",
      "\n",
      "       down       0.58      0.69      0.63        48\n",
      "         up       0.62      0.50      0.55        48\n",
      "\n",
      "avg / total       0.60      0.59      0.59        96\n",
      "\n",
      "Running Fold\n",
      "             precision    recall  f1-score   support\n",
      "\n",
      "       down       0.68      0.48      0.56        48\n",
      "         up       0.59      0.77      0.67        47\n",
      "\n",
      "avg / total       0.63      0.62      0.61        95\n",
      "\n",
      "Running Fold\n",
      "             precision    recall  f1-score   support\n",
      "\n",
      "       down       0.67      0.13      0.21        47\n",
      "         up       0.52      0.94      0.67        47\n",
      "\n",
      "avg / total       0.59      0.53      0.44        94\n",
      "\n",
      "Running Fold\n",
      "             precision    recall  f1-score   support\n",
      "\n",
      "       down       0.50      0.06      0.11        47\n",
      "         up       0.50      0.94      0.65        47\n",
      "\n",
      "avg / total       0.50      0.50      0.38        94\n",
      "\n",
      "Running Fold\n",
      "             precision    recall  f1-score   support\n",
      "\n",
      "       down       0.80      0.09      0.15        47\n",
      "         up       0.52      0.98      0.68        47\n",
      "\n",
      "avg / total       0.66      0.53      0.42        94\n",
      "\n"
     ]
    }
   ],
   "source": [
    "# skf = StratifiedKFold(n_splits=5, shuffle=True)\n",
    "# for train_idx, test_idx in skf.split(X, Y):\n",
    "#     print (\"Running Fold\")\n",
    "#     model = NuSVC(kernel='rbf',\n",
    "#                   nu=0.5,\n",
    "#                   degree = 5,\n",
    "#                   verbose=0)\n",
    "#     model.fit(X.toarray()[train_idx], Y[train_idx])\n",
    "#     target_names = ['down','up']\n",
    "#     print(classification_report(Y[test_idx], model.predict(X.toarray()[test_idx]), target_names=target_names))"
   ]
  },
  {
   "cell_type": "code",
   "execution_count": null,
   "metadata": {
    "collapsed": true
   },
   "outputs": [],
   "source": []
  }
 ],
 "metadata": {
  "kernelspec": {
   "display_name": "Python 3",
   "language": "python",
   "name": "python3"
  },
  "language_info": {
   "codemirror_mode": {
    "name": "ipython",
    "version": 3
   },
   "file_extension": ".py",
   "mimetype": "text/x-python",
   "name": "python",
   "nbconvert_exporter": "python",
   "pygments_lexer": "ipython3",
   "version": "3.6.0"
  }
 },
 "nbformat": 4,
 "nbformat_minor": 2
}
